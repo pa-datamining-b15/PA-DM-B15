{
  "nbformat": 4,
  "nbformat_minor": 0,
  "metadata": {
    "colab": {
      "provenance": [],
      "collapsed_sections": [
        "ZTmMKm6k_Nq3",
        "sWNj5kqBX_vT",
        "CAzi4QEuMXGy",
        "rQ2eHCJGRzre"
      ],
      "include_colab_link": true
    },
    "kernelspec": {
      "name": "python3",
      "display_name": "Python 3"
    },
    "language_info": {
      "name": "python"
    }
  },
  "cells": [
    {
      "cell_type": "markdown",
      "metadata": {
        "id": "view-in-github",
        "colab_type": "text"
      },
      "source": [
        "<a href=\"https://colab.research.google.com/github/pa-datamining-b15/PA-DM-B15/blob/main/PA_DATA_MINING_B15.ipynb\" target=\"_parent\"><img src=\"https://colab.research.google.com/assets/colab-badge.svg\" alt=\"Open In Colab\"/></a>"
      ]
    },
    {
      "cell_type": "markdown",
      "source": [
        "# **B1 Kelompok 5 Data Mining**"
      ],
      "metadata": {
        "id": "wLgXV7f88I3G"
      }
    },
    {
      "cell_type": "markdown",
      "source": [
        "### **Kelompok :**\n",
        "1. MUHAMMAD PUTRA WIBISONO (2109116045) **<- KETUA**\n",
        "2. ANGRAYNI MELINDA SAFITRI (2109116050)\n",
        "3. DANIEL ROGATE FORD HUTAGALUNG (2109116060)\n",
        "\n",
        "### **Judul :**\n",
        "Global Emissions [Supervised] - Country Data [Unsupervised]"
      ],
      "metadata": {
        "id": "VEjVCDSf9izD"
      }
    },
    {
      "cell_type": "markdown",
      "source": [
        "## Library"
      ],
      "metadata": {
        "id": "ZTmMKm6k_Nq3"
      }
    },
    {
      "cell_type": "code",
      "source": [
        "# Library yang dipakai\n",
        "import pandas as pd\n",
        "import numpy as np\n",
        "import matplotlib.pyplot as plt\n",
        "import seaborn as sns\n",
        "import plotly.express as px\n",
        "%matplotlib inline"
      ],
      "metadata": {
        "id": "mWJA6zveXkK_"
      },
      "execution_count": 634,
      "outputs": []
    },
    {
      "cell_type": "markdown",
      "source": [
        "# **Supervised Learning**"
      ],
      "metadata": {
        "id": "XmHNKLjThr-1"
      }
    },
    {
      "cell_type": "markdown",
      "source": [
        "## Bussines Understanding"
      ],
      "metadata": {
        "id": "sWNj5kqBX_vT"
      }
    },
    {
      "cell_type": "markdown",
      "source": [
        "Methane Emissions Dataset adalah kumpulan data yang mencatat emisi metana, yang merupakan gas rumah kaca berpotensi tinggi, dari berbagai sumber dalam lingkungan tertentu. Dataset ini berisi informasi tentang jumlah emisi metana yang dihasilkan oleh berbagai sektor seperti industri, pertanian, limbah, dan energi, serta lokasi geografis, waktu, dan faktor-faktor lain yang mempengaruhi emisi metana.\n",
        "\n",
        "Tujuan dari Methane Emissions Dataset adalah untuk memahami pola emisi metana dari sektor industri dan pertanian. Data ini dapat membantu pemerintah, organisasi non-profit, dan industri untuk memahami sumber emisi metana dan mengembangkan strategi untuk mengurangi emisi gas rumah kaca dan mengurangi dampak perubahan iklim."
      ],
      "metadata": {
        "id": "huPGnmxTaoAE"
      }
    },
    {
      "cell_type": "markdown",
      "source": [
        "Beberapa pertanyaan yang dapat dijawab dengan menggunakan dataset ini adalah:\n",
        "\n",
        "1. Berapa banyak emisi metana yang dihasilkan oleh sektor industri dan pertanian?\n",
        "2. Apa saja sumber utama emisi metana di sektor industri dan pertanian?\n",
        "3. Apa dampak emisi metana terhadap perubahan iklim?\n",
        "4. Bagaimana kita dapat mengurangi emisi metana dari sektor industri dan pertanian?\n",
        "\n",
        "Dalam pengolahan data ini, dapat digunakan teknik seperti analisis korelasi untuk mengidentifikasi hubungan antara variabel-variabel yang mempengaruhi emisi metana, dan analisis regresi untuk memprediksi emisi metana di masa depan. Dengan demikian, hasil analisis dapat digunakan sebagai dasar untuk mengembangkan kebijakan dan strategi untuk mengurangi emisi metana dan mengatasi dampak perubahan iklim."
      ],
      "metadata": {
        "id": "SyXPuymYndna"
      }
    },
    {
      "cell_type": "markdown",
      "source": [
        "## Data Understanding"
      ],
      "metadata": {
        "id": "RuW0FQtfatzg"
      }
    },
    {
      "cell_type": "markdown",
      "source": [
        "### Penjelasan Kolom"
      ],
      "metadata": {
        "id": "cm9QGx8Sca-6"
      }
    },
    {
      "cell_type": "markdown",
      "source": [
        "1. Region : berisi informasi tentang wilayah geografis di mana pengukuran emisi metana dilakukan\n",
        "2. Country : berisi informasi tentang negara di mana pengukuran emisi metana dilakukan\n",
        "3. Emissions: berisi informasi tentang jumlah emisi metana yang diukur\n",
        "4. Source : berisi informasi tentang sumber emisi metana\n",
        "5. Type : berisi informasi tentang jenis emisi metana yang diukur\n",
        "6. Segment : berisi informasi tentang jenis sumber emisi metana\n",
        "7. Reason : penyebab mengapa emisi metana terjadi\n",
        "8. baseYear : tahun acuan yang digunakan sebagai referensi untuk mengukur atau membandingkan emisi metana\n",
        "9. notes: kolom yang berisi informasi tambahan\n"
      ],
      "metadata": {
        "id": "LPZYdTwEc1jb"
      }
    },
    {
      "cell_type": "markdown",
      "source": [
        "### Collect Data"
      ],
      "metadata": {
        "id": "ksORbI7Q-PHN"
      }
    },
    {
      "cell_type": "code",
      "source": [
        "# link data\n",
        "link = \"https://drive.google.com/file/d/1MEw70g-Lk1msTy7WA_VZwf_kWgFyaBCE/view?usp=sharing\"\n",
        "\n",
        "\n",
        "# Ubah bentuk file\n",
        "link_file = \"https://drive.google.com/uc?id=1MEw70g-Lk1msTy7WA_VZwf_kWgFyaBCE\""
      ],
      "metadata": {
        "id": "fU_Z-ut8-IS5"
      },
      "execution_count": 635,
      "outputs": []
    },
    {
      "cell_type": "code",
      "source": [
        "# Memuat data dari file CSV\n",
        "df = pd.read_csv(link_file)\n",
        "df"
      ],
      "metadata": {
        "colab": {
          "base_uri": "https://localhost:8080/",
          "height": 468
        },
        "id": "k0Rt7Skdgm2y",
        "outputId": "74c20574-7275-4152-8bbd-e42cf39d8d8a"
      },
      "execution_count": 636,
      "outputs": [
        {
          "output_type": "execute_result",
          "data": {
            "text/plain": [
              "      Unnamed: 0  region  country      emissions         type  \\\n",
              "0              0  Africa  Algeria     257.611206  Agriculture   \n",
              "1              1  Africa  Algeria       0.052000       Energy   \n",
              "2              2  Africa  Algeria     130.798996       Energy   \n",
              "3              3  Africa  Algeria      69.741898       Energy   \n",
              "4              4  Africa  Algeria     213.987000       Energy   \n",
              "...          ...     ...      ...            ...          ...   \n",
              "1543        1543   World    World    3102.500000       Energy   \n",
              "1544        1544   World    World   30296.500000       Energy   \n",
              "1545        1545   World    World  133350.984375       Energy   \n",
              "1546        1546   World    World    9737.874023        Other   \n",
              "1547        1547   World    World   70758.710938        Waste   \n",
              "\n",
              "                                             segment    reason   baseYear  \\\n",
              "0                                              Total       All  2019-2021   \n",
              "1                                          Bioenergy       All       2022   \n",
              "2                   Gas pipelines and LNG facilities  Fugitive       2022   \n",
              "3                   Gas pipelines and LNG facilities    Vented       2022   \n",
              "4                                        Onshore gas  Fugitive       2022   \n",
              "...                                              ...       ...        ...   \n",
              "1543  Satellite-detected large oil and gas emissions       All       2022   \n",
              "1544                                      Steam coal       All       2022   \n",
              "1545                                           Total       All       2022   \n",
              "1546                                           Total       All  2019-2021   \n",
              "1547                                           Total       All  2019-2021   \n",
              "\n",
              "                                                  notes  \n",
              "0     Average based on United Nations Framework Conv...  \n",
              "1     Estimates from end-uses are for 2020 or 2021 (...  \n",
              "2                                         Not available  \n",
              "3                                         Not available  \n",
              "4                                         Not available  \n",
              "...                                                 ...  \n",
              "1543                                      Not available  \n",
              "1544                                      Not available  \n",
              "1545  Estimates from end-uses are for 2020 or 2021 (...  \n",
              "1546  Average based on United Nations Framework Conv...  \n",
              "1547  Average based on United Nations Framework Conv...  \n",
              "\n",
              "[1548 rows x 9 columns]"
            ],
            "text/html": [
              "\n",
              "  <div id=\"df-a9fab2b2-a278-4d67-9ed0-581ea64ba772\">\n",
              "    <div class=\"colab-df-container\">\n",
              "      <div>\n",
              "<style scoped>\n",
              "    .dataframe tbody tr th:only-of-type {\n",
              "        vertical-align: middle;\n",
              "    }\n",
              "\n",
              "    .dataframe tbody tr th {\n",
              "        vertical-align: top;\n",
              "    }\n",
              "\n",
              "    .dataframe thead th {\n",
              "        text-align: right;\n",
              "    }\n",
              "</style>\n",
              "<table border=\"1\" class=\"dataframe\">\n",
              "  <thead>\n",
              "    <tr style=\"text-align: right;\">\n",
              "      <th></th>\n",
              "      <th>Unnamed: 0</th>\n",
              "      <th>region</th>\n",
              "      <th>country</th>\n",
              "      <th>emissions</th>\n",
              "      <th>type</th>\n",
              "      <th>segment</th>\n",
              "      <th>reason</th>\n",
              "      <th>baseYear</th>\n",
              "      <th>notes</th>\n",
              "    </tr>\n",
              "  </thead>\n",
              "  <tbody>\n",
              "    <tr>\n",
              "      <th>0</th>\n",
              "      <td>0</td>\n",
              "      <td>Africa</td>\n",
              "      <td>Algeria</td>\n",
              "      <td>257.611206</td>\n",
              "      <td>Agriculture</td>\n",
              "      <td>Total</td>\n",
              "      <td>All</td>\n",
              "      <td>2019-2021</td>\n",
              "      <td>Average based on United Nations Framework Conv...</td>\n",
              "    </tr>\n",
              "    <tr>\n",
              "      <th>1</th>\n",
              "      <td>1</td>\n",
              "      <td>Africa</td>\n",
              "      <td>Algeria</td>\n",
              "      <td>0.052000</td>\n",
              "      <td>Energy</td>\n",
              "      <td>Bioenergy</td>\n",
              "      <td>All</td>\n",
              "      <td>2022</td>\n",
              "      <td>Estimates from end-uses are for 2020 or 2021 (...</td>\n",
              "    </tr>\n",
              "    <tr>\n",
              "      <th>2</th>\n",
              "      <td>2</td>\n",
              "      <td>Africa</td>\n",
              "      <td>Algeria</td>\n",
              "      <td>130.798996</td>\n",
              "      <td>Energy</td>\n",
              "      <td>Gas pipelines and LNG facilities</td>\n",
              "      <td>Fugitive</td>\n",
              "      <td>2022</td>\n",
              "      <td>Not available</td>\n",
              "    </tr>\n",
              "    <tr>\n",
              "      <th>3</th>\n",
              "      <td>3</td>\n",
              "      <td>Africa</td>\n",
              "      <td>Algeria</td>\n",
              "      <td>69.741898</td>\n",
              "      <td>Energy</td>\n",
              "      <td>Gas pipelines and LNG facilities</td>\n",
              "      <td>Vented</td>\n",
              "      <td>2022</td>\n",
              "      <td>Not available</td>\n",
              "    </tr>\n",
              "    <tr>\n",
              "      <th>4</th>\n",
              "      <td>4</td>\n",
              "      <td>Africa</td>\n",
              "      <td>Algeria</td>\n",
              "      <td>213.987000</td>\n",
              "      <td>Energy</td>\n",
              "      <td>Onshore gas</td>\n",
              "      <td>Fugitive</td>\n",
              "      <td>2022</td>\n",
              "      <td>Not available</td>\n",
              "    </tr>\n",
              "    <tr>\n",
              "      <th>...</th>\n",
              "      <td>...</td>\n",
              "      <td>...</td>\n",
              "      <td>...</td>\n",
              "      <td>...</td>\n",
              "      <td>...</td>\n",
              "      <td>...</td>\n",
              "      <td>...</td>\n",
              "      <td>...</td>\n",
              "      <td>...</td>\n",
              "    </tr>\n",
              "    <tr>\n",
              "      <th>1543</th>\n",
              "      <td>1543</td>\n",
              "      <td>World</td>\n",
              "      <td>World</td>\n",
              "      <td>3102.500000</td>\n",
              "      <td>Energy</td>\n",
              "      <td>Satellite-detected large oil and gas emissions</td>\n",
              "      <td>All</td>\n",
              "      <td>2022</td>\n",
              "      <td>Not available</td>\n",
              "    </tr>\n",
              "    <tr>\n",
              "      <th>1544</th>\n",
              "      <td>1544</td>\n",
              "      <td>World</td>\n",
              "      <td>World</td>\n",
              "      <td>30296.500000</td>\n",
              "      <td>Energy</td>\n",
              "      <td>Steam coal</td>\n",
              "      <td>All</td>\n",
              "      <td>2022</td>\n",
              "      <td>Not available</td>\n",
              "    </tr>\n",
              "    <tr>\n",
              "      <th>1545</th>\n",
              "      <td>1545</td>\n",
              "      <td>World</td>\n",
              "      <td>World</td>\n",
              "      <td>133350.984375</td>\n",
              "      <td>Energy</td>\n",
              "      <td>Total</td>\n",
              "      <td>All</td>\n",
              "      <td>2022</td>\n",
              "      <td>Estimates from end-uses are for 2020 or 2021 (...</td>\n",
              "    </tr>\n",
              "    <tr>\n",
              "      <th>1546</th>\n",
              "      <td>1546</td>\n",
              "      <td>World</td>\n",
              "      <td>World</td>\n",
              "      <td>9737.874023</td>\n",
              "      <td>Other</td>\n",
              "      <td>Total</td>\n",
              "      <td>All</td>\n",
              "      <td>2019-2021</td>\n",
              "      <td>Average based on United Nations Framework Conv...</td>\n",
              "    </tr>\n",
              "    <tr>\n",
              "      <th>1547</th>\n",
              "      <td>1547</td>\n",
              "      <td>World</td>\n",
              "      <td>World</td>\n",
              "      <td>70758.710938</td>\n",
              "      <td>Waste</td>\n",
              "      <td>Total</td>\n",
              "      <td>All</td>\n",
              "      <td>2019-2021</td>\n",
              "      <td>Average based on United Nations Framework Conv...</td>\n",
              "    </tr>\n",
              "  </tbody>\n",
              "</table>\n",
              "<p>1548 rows × 9 columns</p>\n",
              "</div>\n",
              "      <button class=\"colab-df-convert\" onclick=\"convertToInteractive('df-a9fab2b2-a278-4d67-9ed0-581ea64ba772')\"\n",
              "              title=\"Convert this dataframe to an interactive table.\"\n",
              "              style=\"display:none;\">\n",
              "        \n",
              "  <svg xmlns=\"http://www.w3.org/2000/svg\" height=\"24px\"viewBox=\"0 0 24 24\"\n",
              "       width=\"24px\">\n",
              "    <path d=\"M0 0h24v24H0V0z\" fill=\"none\"/>\n",
              "    <path d=\"M18.56 5.44l.94 2.06.94-2.06 2.06-.94-2.06-.94-.94-2.06-.94 2.06-2.06.94zm-11 1L8.5 8.5l.94-2.06 2.06-.94-2.06-.94L8.5 2.5l-.94 2.06-2.06.94zm10 10l.94 2.06.94-2.06 2.06-.94-2.06-.94-.94-2.06-.94 2.06-2.06.94z\"/><path d=\"M17.41 7.96l-1.37-1.37c-.4-.4-.92-.59-1.43-.59-.52 0-1.04.2-1.43.59L10.3 9.45l-7.72 7.72c-.78.78-.78 2.05 0 2.83L4 21.41c.39.39.9.59 1.41.59.51 0 1.02-.2 1.41-.59l7.78-7.78 2.81-2.81c.8-.78.8-2.07 0-2.86zM5.41 20L4 18.59l7.72-7.72 1.47 1.35L5.41 20z\"/>\n",
              "  </svg>\n",
              "      </button>\n",
              "      \n",
              "  <style>\n",
              "    .colab-df-container {\n",
              "      display:flex;\n",
              "      flex-wrap:wrap;\n",
              "      gap: 12px;\n",
              "    }\n",
              "\n",
              "    .colab-df-convert {\n",
              "      background-color: #E8F0FE;\n",
              "      border: none;\n",
              "      border-radius: 50%;\n",
              "      cursor: pointer;\n",
              "      display: none;\n",
              "      fill: #1967D2;\n",
              "      height: 32px;\n",
              "      padding: 0 0 0 0;\n",
              "      width: 32px;\n",
              "    }\n",
              "\n",
              "    .colab-df-convert:hover {\n",
              "      background-color: #E2EBFA;\n",
              "      box-shadow: 0px 1px 2px rgba(60, 64, 67, 0.3), 0px 1px 3px 1px rgba(60, 64, 67, 0.15);\n",
              "      fill: #174EA6;\n",
              "    }\n",
              "\n",
              "    [theme=dark] .colab-df-convert {\n",
              "      background-color: #3B4455;\n",
              "      fill: #D2E3FC;\n",
              "    }\n",
              "\n",
              "    [theme=dark] .colab-df-convert:hover {\n",
              "      background-color: #434B5C;\n",
              "      box-shadow: 0px 1px 3px 1px rgba(0, 0, 0, 0.15);\n",
              "      filter: drop-shadow(0px 1px 2px rgba(0, 0, 0, 0.3));\n",
              "      fill: #FFFFFF;\n",
              "    }\n",
              "  </style>\n",
              "\n",
              "      <script>\n",
              "        const buttonEl =\n",
              "          document.querySelector('#df-a9fab2b2-a278-4d67-9ed0-581ea64ba772 button.colab-df-convert');\n",
              "        buttonEl.style.display =\n",
              "          google.colab.kernel.accessAllowed ? 'block' : 'none';\n",
              "\n",
              "        async function convertToInteractive(key) {\n",
              "          const element = document.querySelector('#df-a9fab2b2-a278-4d67-9ed0-581ea64ba772');\n",
              "          const dataTable =\n",
              "            await google.colab.kernel.invokeFunction('convertToInteractive',\n",
              "                                                     [key], {});\n",
              "          if (!dataTable) return;\n",
              "\n",
              "          const docLinkHtml = 'Like what you see? Visit the ' +\n",
              "            '<a target=\"_blank\" href=https://colab.research.google.com/notebooks/data_table.ipynb>data table notebook</a>'\n",
              "            + ' to learn more about interactive tables.';\n",
              "          element.innerHTML = '';\n",
              "          dataTable['output_type'] = 'display_data';\n",
              "          await google.colab.output.renderOutput(dataTable, element);\n",
              "          const docLink = document.createElement('div');\n",
              "          docLink.innerHTML = docLinkHtml;\n",
              "          element.appendChild(docLink);\n",
              "        }\n",
              "      </script>\n",
              "    </div>\n",
              "  </div>\n",
              "  "
            ]
          },
          "metadata": {},
          "execution_count": 636
        }
      ]
    },
    {
      "cell_type": "code",
      "source": [
        "# Menampilkan informasi umum tentang data\n",
        "df.info()"
      ],
      "metadata": {
        "colab": {
          "base_uri": "https://localhost:8080/"
        },
        "id": "1VZC97rMhTjf",
        "outputId": "100cd75e-dd05-4e69-d8f2-4705095e6de3"
      },
      "execution_count": 637,
      "outputs": [
        {
          "output_type": "stream",
          "name": "stdout",
          "text": [
            "<class 'pandas.core.frame.DataFrame'>\n",
            "RangeIndex: 1548 entries, 0 to 1547\n",
            "Data columns (total 9 columns):\n",
            " #   Column      Non-Null Count  Dtype  \n",
            "---  ------      --------------  -----  \n",
            " 0   Unnamed: 0  1548 non-null   int64  \n",
            " 1   region      1548 non-null   object \n",
            " 2   country     1548 non-null   object \n",
            " 3   emissions   1548 non-null   float64\n",
            " 4   type        1548 non-null   object \n",
            " 5   segment     1548 non-null   object \n",
            " 6   reason      1548 non-null   object \n",
            " 7   baseYear    1548 non-null   object \n",
            " 8   notes       1548 non-null   object \n",
            "dtypes: float64(1), int64(1), object(7)\n",
            "memory usage: 109.0+ KB\n"
          ]
        }
      ]
    },
    {
      "cell_type": "code",
      "source": [
        "# Melihat statistik deskriptif data\n",
        "df.describe"
      ],
      "metadata": {
        "colab": {
          "base_uri": "https://localhost:8080/"
        },
        "id": "4mzL6Bkjh5nF",
        "outputId": "de01095b-e06b-4a05-9ecf-68d5302b80e4"
      },
      "execution_count": 638,
      "outputs": [
        {
          "output_type": "execute_result",
          "data": {
            "text/plain": [
              "<bound method NDFrame.describe of       Unnamed: 0  region  country      emissions         type  \\\n",
              "0              0  Africa  Algeria     257.611206  Agriculture   \n",
              "1              1  Africa  Algeria       0.052000       Energy   \n",
              "2              2  Africa  Algeria     130.798996       Energy   \n",
              "3              3  Africa  Algeria      69.741898       Energy   \n",
              "4              4  Africa  Algeria     213.987000       Energy   \n",
              "...          ...     ...      ...            ...          ...   \n",
              "1543        1543   World    World    3102.500000       Energy   \n",
              "1544        1544   World    World   30296.500000       Energy   \n",
              "1545        1545   World    World  133350.984375       Energy   \n",
              "1546        1546   World    World    9737.874023        Other   \n",
              "1547        1547   World    World   70758.710938        Waste   \n",
              "\n",
              "                                             segment    reason   baseYear  \\\n",
              "0                                              Total       All  2019-2021   \n",
              "1                                          Bioenergy       All       2022   \n",
              "2                   Gas pipelines and LNG facilities  Fugitive       2022   \n",
              "3                   Gas pipelines and LNG facilities    Vented       2022   \n",
              "4                                        Onshore gas  Fugitive       2022   \n",
              "...                                              ...       ...        ...   \n",
              "1543  Satellite-detected large oil and gas emissions       All       2022   \n",
              "1544                                      Steam coal       All       2022   \n",
              "1545                                           Total       All       2022   \n",
              "1546                                           Total       All  2019-2021   \n",
              "1547                                           Total       All  2019-2021   \n",
              "\n",
              "                                                  notes  \n",
              "0     Average based on United Nations Framework Conv...  \n",
              "1     Estimates from end-uses are for 2020 or 2021 (...  \n",
              "2                                         Not available  \n",
              "3                                         Not available  \n",
              "4                                         Not available  \n",
              "...                                                 ...  \n",
              "1543                                      Not available  \n",
              "1544                                      Not available  \n",
              "1545  Estimates from end-uses are for 2020 or 2021 (...  \n",
              "1546  Average based on United Nations Framework Conv...  \n",
              "1547  Average based on United Nations Framework Conv...  \n",
              "\n",
              "[1548 rows x 9 columns]>"
            ]
          },
          "metadata": {},
          "execution_count": 638
        }
      ]
    },
    {
      "cell_type": "code",
      "source": [
        "# Menampilkan beberapa baris pertama data\n",
        "df.head()"
      ],
      "metadata": {
        "colab": {
          "base_uri": "https://localhost:8080/",
          "height": 206
        },
        "id": "1lqsTKFCia3F",
        "outputId": "acecf9c0-706c-4702-d7bd-cec2ea7fe5ef"
      },
      "execution_count": 639,
      "outputs": [
        {
          "output_type": "execute_result",
          "data": {
            "text/plain": [
              "   Unnamed: 0  region  country   emissions         type  \\\n",
              "0           0  Africa  Algeria  257.611206  Agriculture   \n",
              "1           1  Africa  Algeria    0.052000       Energy   \n",
              "2           2  Africa  Algeria  130.798996       Energy   \n",
              "3           3  Africa  Algeria   69.741898       Energy   \n",
              "4           4  Africa  Algeria  213.987000       Energy   \n",
              "\n",
              "                            segment    reason   baseYear  \\\n",
              "0                             Total       All  2019-2021   \n",
              "1                         Bioenergy       All       2022   \n",
              "2  Gas pipelines and LNG facilities  Fugitive       2022   \n",
              "3  Gas pipelines and LNG facilities    Vented       2022   \n",
              "4                       Onshore gas  Fugitive       2022   \n",
              "\n",
              "                                               notes  \n",
              "0  Average based on United Nations Framework Conv...  \n",
              "1  Estimates from end-uses are for 2020 or 2021 (...  \n",
              "2                                      Not available  \n",
              "3                                      Not available  \n",
              "4                                      Not available  "
            ],
            "text/html": [
              "\n",
              "  <div id=\"df-be0d1736-7962-42cf-9171-69ea61dc8dfb\">\n",
              "    <div class=\"colab-df-container\">\n",
              "      <div>\n",
              "<style scoped>\n",
              "    .dataframe tbody tr th:only-of-type {\n",
              "        vertical-align: middle;\n",
              "    }\n",
              "\n",
              "    .dataframe tbody tr th {\n",
              "        vertical-align: top;\n",
              "    }\n",
              "\n",
              "    .dataframe thead th {\n",
              "        text-align: right;\n",
              "    }\n",
              "</style>\n",
              "<table border=\"1\" class=\"dataframe\">\n",
              "  <thead>\n",
              "    <tr style=\"text-align: right;\">\n",
              "      <th></th>\n",
              "      <th>Unnamed: 0</th>\n",
              "      <th>region</th>\n",
              "      <th>country</th>\n",
              "      <th>emissions</th>\n",
              "      <th>type</th>\n",
              "      <th>segment</th>\n",
              "      <th>reason</th>\n",
              "      <th>baseYear</th>\n",
              "      <th>notes</th>\n",
              "    </tr>\n",
              "  </thead>\n",
              "  <tbody>\n",
              "    <tr>\n",
              "      <th>0</th>\n",
              "      <td>0</td>\n",
              "      <td>Africa</td>\n",
              "      <td>Algeria</td>\n",
              "      <td>257.611206</td>\n",
              "      <td>Agriculture</td>\n",
              "      <td>Total</td>\n",
              "      <td>All</td>\n",
              "      <td>2019-2021</td>\n",
              "      <td>Average based on United Nations Framework Conv...</td>\n",
              "    </tr>\n",
              "    <tr>\n",
              "      <th>1</th>\n",
              "      <td>1</td>\n",
              "      <td>Africa</td>\n",
              "      <td>Algeria</td>\n",
              "      <td>0.052000</td>\n",
              "      <td>Energy</td>\n",
              "      <td>Bioenergy</td>\n",
              "      <td>All</td>\n",
              "      <td>2022</td>\n",
              "      <td>Estimates from end-uses are for 2020 or 2021 (...</td>\n",
              "    </tr>\n",
              "    <tr>\n",
              "      <th>2</th>\n",
              "      <td>2</td>\n",
              "      <td>Africa</td>\n",
              "      <td>Algeria</td>\n",
              "      <td>130.798996</td>\n",
              "      <td>Energy</td>\n",
              "      <td>Gas pipelines and LNG facilities</td>\n",
              "      <td>Fugitive</td>\n",
              "      <td>2022</td>\n",
              "      <td>Not available</td>\n",
              "    </tr>\n",
              "    <tr>\n",
              "      <th>3</th>\n",
              "      <td>3</td>\n",
              "      <td>Africa</td>\n",
              "      <td>Algeria</td>\n",
              "      <td>69.741898</td>\n",
              "      <td>Energy</td>\n",
              "      <td>Gas pipelines and LNG facilities</td>\n",
              "      <td>Vented</td>\n",
              "      <td>2022</td>\n",
              "      <td>Not available</td>\n",
              "    </tr>\n",
              "    <tr>\n",
              "      <th>4</th>\n",
              "      <td>4</td>\n",
              "      <td>Africa</td>\n",
              "      <td>Algeria</td>\n",
              "      <td>213.987000</td>\n",
              "      <td>Energy</td>\n",
              "      <td>Onshore gas</td>\n",
              "      <td>Fugitive</td>\n",
              "      <td>2022</td>\n",
              "      <td>Not available</td>\n",
              "    </tr>\n",
              "  </tbody>\n",
              "</table>\n",
              "</div>\n",
              "      <button class=\"colab-df-convert\" onclick=\"convertToInteractive('df-be0d1736-7962-42cf-9171-69ea61dc8dfb')\"\n",
              "              title=\"Convert this dataframe to an interactive table.\"\n",
              "              style=\"display:none;\">\n",
              "        \n",
              "  <svg xmlns=\"http://www.w3.org/2000/svg\" height=\"24px\"viewBox=\"0 0 24 24\"\n",
              "       width=\"24px\">\n",
              "    <path d=\"M0 0h24v24H0V0z\" fill=\"none\"/>\n",
              "    <path d=\"M18.56 5.44l.94 2.06.94-2.06 2.06-.94-2.06-.94-.94-2.06-.94 2.06-2.06.94zm-11 1L8.5 8.5l.94-2.06 2.06-.94-2.06-.94L8.5 2.5l-.94 2.06-2.06.94zm10 10l.94 2.06.94-2.06 2.06-.94-2.06-.94-.94-2.06-.94 2.06-2.06.94z\"/><path d=\"M17.41 7.96l-1.37-1.37c-.4-.4-.92-.59-1.43-.59-.52 0-1.04.2-1.43.59L10.3 9.45l-7.72 7.72c-.78.78-.78 2.05 0 2.83L4 21.41c.39.39.9.59 1.41.59.51 0 1.02-.2 1.41-.59l7.78-7.78 2.81-2.81c.8-.78.8-2.07 0-2.86zM5.41 20L4 18.59l7.72-7.72 1.47 1.35L5.41 20z\"/>\n",
              "  </svg>\n",
              "      </button>\n",
              "      \n",
              "  <style>\n",
              "    .colab-df-container {\n",
              "      display:flex;\n",
              "      flex-wrap:wrap;\n",
              "      gap: 12px;\n",
              "    }\n",
              "\n",
              "    .colab-df-convert {\n",
              "      background-color: #E8F0FE;\n",
              "      border: none;\n",
              "      border-radius: 50%;\n",
              "      cursor: pointer;\n",
              "      display: none;\n",
              "      fill: #1967D2;\n",
              "      height: 32px;\n",
              "      padding: 0 0 0 0;\n",
              "      width: 32px;\n",
              "    }\n",
              "\n",
              "    .colab-df-convert:hover {\n",
              "      background-color: #E2EBFA;\n",
              "      box-shadow: 0px 1px 2px rgba(60, 64, 67, 0.3), 0px 1px 3px 1px rgba(60, 64, 67, 0.15);\n",
              "      fill: #174EA6;\n",
              "    }\n",
              "\n",
              "    [theme=dark] .colab-df-convert {\n",
              "      background-color: #3B4455;\n",
              "      fill: #D2E3FC;\n",
              "    }\n",
              "\n",
              "    [theme=dark] .colab-df-convert:hover {\n",
              "      background-color: #434B5C;\n",
              "      box-shadow: 0px 1px 3px 1px rgba(0, 0, 0, 0.15);\n",
              "      filter: drop-shadow(0px 1px 2px rgba(0, 0, 0, 0.3));\n",
              "      fill: #FFFFFF;\n",
              "    }\n",
              "  </style>\n",
              "\n",
              "      <script>\n",
              "        const buttonEl =\n",
              "          document.querySelector('#df-be0d1736-7962-42cf-9171-69ea61dc8dfb button.colab-df-convert');\n",
              "        buttonEl.style.display =\n",
              "          google.colab.kernel.accessAllowed ? 'block' : 'none';\n",
              "\n",
              "        async function convertToInteractive(key) {\n",
              "          const element = document.querySelector('#df-be0d1736-7962-42cf-9171-69ea61dc8dfb');\n",
              "          const dataTable =\n",
              "            await google.colab.kernel.invokeFunction('convertToInteractive',\n",
              "                                                     [key], {});\n",
              "          if (!dataTable) return;\n",
              "\n",
              "          const docLinkHtml = 'Like what you see? Visit the ' +\n",
              "            '<a target=\"_blank\" href=https://colab.research.google.com/notebooks/data_table.ipynb>data table notebook</a>'\n",
              "            + ' to learn more about interactive tables.';\n",
              "          element.innerHTML = '';\n",
              "          dataTable['output_type'] = 'display_data';\n",
              "          await google.colab.output.renderOutput(dataTable, element);\n",
              "          const docLink = document.createElement('div');\n",
              "          docLink.innerHTML = docLinkHtml;\n",
              "          element.appendChild(docLink);\n",
              "        }\n",
              "      </script>\n",
              "    </div>\n",
              "  </div>\n",
              "  "
            ]
          },
          "metadata": {},
          "execution_count": 639
        }
      ]
    },
    {
      "cell_type": "code",
      "source": [
        "df.tail()"
      ],
      "metadata": {
        "colab": {
          "base_uri": "https://localhost:8080/",
          "height": 250
        },
        "id": "oBASQXCBrRi6",
        "outputId": "c33c01b4-7db5-4640-de42-71b44b1923e1"
      },
      "execution_count": 640,
      "outputs": [
        {
          "output_type": "execute_result",
          "data": {
            "text/plain": [
              "      Unnamed: 0 region country      emissions    type  \\\n",
              "1543        1543  World   World    3102.500000  Energy   \n",
              "1544        1544  World   World   30296.500000  Energy   \n",
              "1545        1545  World   World  133350.984375  Energy   \n",
              "1546        1546  World   World    9737.874023   Other   \n",
              "1547        1547  World   World   70758.710938   Waste   \n",
              "\n",
              "                                             segment reason   baseYear  \\\n",
              "1543  Satellite-detected large oil and gas emissions    All       2022   \n",
              "1544                                      Steam coal    All       2022   \n",
              "1545                                           Total    All       2022   \n",
              "1546                                           Total    All  2019-2021   \n",
              "1547                                           Total    All  2019-2021   \n",
              "\n",
              "                                                  notes  \n",
              "1543                                      Not available  \n",
              "1544                                      Not available  \n",
              "1545  Estimates from end-uses are for 2020 or 2021 (...  \n",
              "1546  Average based on United Nations Framework Conv...  \n",
              "1547  Average based on United Nations Framework Conv...  "
            ],
            "text/html": [
              "\n",
              "  <div id=\"df-830ec887-992b-410d-a472-c2aecd94ecbb\">\n",
              "    <div class=\"colab-df-container\">\n",
              "      <div>\n",
              "<style scoped>\n",
              "    .dataframe tbody tr th:only-of-type {\n",
              "        vertical-align: middle;\n",
              "    }\n",
              "\n",
              "    .dataframe tbody tr th {\n",
              "        vertical-align: top;\n",
              "    }\n",
              "\n",
              "    .dataframe thead th {\n",
              "        text-align: right;\n",
              "    }\n",
              "</style>\n",
              "<table border=\"1\" class=\"dataframe\">\n",
              "  <thead>\n",
              "    <tr style=\"text-align: right;\">\n",
              "      <th></th>\n",
              "      <th>Unnamed: 0</th>\n",
              "      <th>region</th>\n",
              "      <th>country</th>\n",
              "      <th>emissions</th>\n",
              "      <th>type</th>\n",
              "      <th>segment</th>\n",
              "      <th>reason</th>\n",
              "      <th>baseYear</th>\n",
              "      <th>notes</th>\n",
              "    </tr>\n",
              "  </thead>\n",
              "  <tbody>\n",
              "    <tr>\n",
              "      <th>1543</th>\n",
              "      <td>1543</td>\n",
              "      <td>World</td>\n",
              "      <td>World</td>\n",
              "      <td>3102.500000</td>\n",
              "      <td>Energy</td>\n",
              "      <td>Satellite-detected large oil and gas emissions</td>\n",
              "      <td>All</td>\n",
              "      <td>2022</td>\n",
              "      <td>Not available</td>\n",
              "    </tr>\n",
              "    <tr>\n",
              "      <th>1544</th>\n",
              "      <td>1544</td>\n",
              "      <td>World</td>\n",
              "      <td>World</td>\n",
              "      <td>30296.500000</td>\n",
              "      <td>Energy</td>\n",
              "      <td>Steam coal</td>\n",
              "      <td>All</td>\n",
              "      <td>2022</td>\n",
              "      <td>Not available</td>\n",
              "    </tr>\n",
              "    <tr>\n",
              "      <th>1545</th>\n",
              "      <td>1545</td>\n",
              "      <td>World</td>\n",
              "      <td>World</td>\n",
              "      <td>133350.984375</td>\n",
              "      <td>Energy</td>\n",
              "      <td>Total</td>\n",
              "      <td>All</td>\n",
              "      <td>2022</td>\n",
              "      <td>Estimates from end-uses are for 2020 or 2021 (...</td>\n",
              "    </tr>\n",
              "    <tr>\n",
              "      <th>1546</th>\n",
              "      <td>1546</td>\n",
              "      <td>World</td>\n",
              "      <td>World</td>\n",
              "      <td>9737.874023</td>\n",
              "      <td>Other</td>\n",
              "      <td>Total</td>\n",
              "      <td>All</td>\n",
              "      <td>2019-2021</td>\n",
              "      <td>Average based on United Nations Framework Conv...</td>\n",
              "    </tr>\n",
              "    <tr>\n",
              "      <th>1547</th>\n",
              "      <td>1547</td>\n",
              "      <td>World</td>\n",
              "      <td>World</td>\n",
              "      <td>70758.710938</td>\n",
              "      <td>Waste</td>\n",
              "      <td>Total</td>\n",
              "      <td>All</td>\n",
              "      <td>2019-2021</td>\n",
              "      <td>Average based on United Nations Framework Conv...</td>\n",
              "    </tr>\n",
              "  </tbody>\n",
              "</table>\n",
              "</div>\n",
              "      <button class=\"colab-df-convert\" onclick=\"convertToInteractive('df-830ec887-992b-410d-a472-c2aecd94ecbb')\"\n",
              "              title=\"Convert this dataframe to an interactive table.\"\n",
              "              style=\"display:none;\">\n",
              "        \n",
              "  <svg xmlns=\"http://www.w3.org/2000/svg\" height=\"24px\"viewBox=\"0 0 24 24\"\n",
              "       width=\"24px\">\n",
              "    <path d=\"M0 0h24v24H0V0z\" fill=\"none\"/>\n",
              "    <path d=\"M18.56 5.44l.94 2.06.94-2.06 2.06-.94-2.06-.94-.94-2.06-.94 2.06-2.06.94zm-11 1L8.5 8.5l.94-2.06 2.06-.94-2.06-.94L8.5 2.5l-.94 2.06-2.06.94zm10 10l.94 2.06.94-2.06 2.06-.94-2.06-.94-.94-2.06-.94 2.06-2.06.94z\"/><path d=\"M17.41 7.96l-1.37-1.37c-.4-.4-.92-.59-1.43-.59-.52 0-1.04.2-1.43.59L10.3 9.45l-7.72 7.72c-.78.78-.78 2.05 0 2.83L4 21.41c.39.39.9.59 1.41.59.51 0 1.02-.2 1.41-.59l7.78-7.78 2.81-2.81c.8-.78.8-2.07 0-2.86zM5.41 20L4 18.59l7.72-7.72 1.47 1.35L5.41 20z\"/>\n",
              "  </svg>\n",
              "      </button>\n",
              "      \n",
              "  <style>\n",
              "    .colab-df-container {\n",
              "      display:flex;\n",
              "      flex-wrap:wrap;\n",
              "      gap: 12px;\n",
              "    }\n",
              "\n",
              "    .colab-df-convert {\n",
              "      background-color: #E8F0FE;\n",
              "      border: none;\n",
              "      border-radius: 50%;\n",
              "      cursor: pointer;\n",
              "      display: none;\n",
              "      fill: #1967D2;\n",
              "      height: 32px;\n",
              "      padding: 0 0 0 0;\n",
              "      width: 32px;\n",
              "    }\n",
              "\n",
              "    .colab-df-convert:hover {\n",
              "      background-color: #E2EBFA;\n",
              "      box-shadow: 0px 1px 2px rgba(60, 64, 67, 0.3), 0px 1px 3px 1px rgba(60, 64, 67, 0.15);\n",
              "      fill: #174EA6;\n",
              "    }\n",
              "\n",
              "    [theme=dark] .colab-df-convert {\n",
              "      background-color: #3B4455;\n",
              "      fill: #D2E3FC;\n",
              "    }\n",
              "\n",
              "    [theme=dark] .colab-df-convert:hover {\n",
              "      background-color: #434B5C;\n",
              "      box-shadow: 0px 1px 3px 1px rgba(0, 0, 0, 0.15);\n",
              "      filter: drop-shadow(0px 1px 2px rgba(0, 0, 0, 0.3));\n",
              "      fill: #FFFFFF;\n",
              "    }\n",
              "  </style>\n",
              "\n",
              "      <script>\n",
              "        const buttonEl =\n",
              "          document.querySelector('#df-830ec887-992b-410d-a472-c2aecd94ecbb button.colab-df-convert');\n",
              "        buttonEl.style.display =\n",
              "          google.colab.kernel.accessAllowed ? 'block' : 'none';\n",
              "\n",
              "        async function convertToInteractive(key) {\n",
              "          const element = document.querySelector('#df-830ec887-992b-410d-a472-c2aecd94ecbb');\n",
              "          const dataTable =\n",
              "            await google.colab.kernel.invokeFunction('convertToInteractive',\n",
              "                                                     [key], {});\n",
              "          if (!dataTable) return;\n",
              "\n",
              "          const docLinkHtml = 'Like what you see? Visit the ' +\n",
              "            '<a target=\"_blank\" href=https://colab.research.google.com/notebooks/data_table.ipynb>data table notebook</a>'\n",
              "            + ' to learn more about interactive tables.';\n",
              "          element.innerHTML = '';\n",
              "          dataTable['output_type'] = 'display_data';\n",
              "          await google.colab.output.renderOutput(dataTable, element);\n",
              "          const docLink = document.createElement('div');\n",
              "          docLink.innerHTML = docLinkHtml;\n",
              "          element.appendChild(docLink);\n",
              "        }\n",
              "      </script>\n",
              "    </div>\n",
              "  </div>\n",
              "  "
            ]
          },
          "metadata": {},
          "execution_count": 640
        }
      ]
    },
    {
      "cell_type": "code",
      "source": [
        "# Melihat tipe data kolom\n",
        "df.dtypes"
      ],
      "metadata": {
        "colab": {
          "base_uri": "https://localhost:8080/"
        },
        "id": "KlrMKncyixaz",
        "outputId": "5039e887-59c0-4397-d8b2-bea9915d0adc"
      },
      "execution_count": 641,
      "outputs": [
        {
          "output_type": "execute_result",
          "data": {
            "text/plain": [
              "Unnamed: 0      int64\n",
              "region         object\n",
              "country        object\n",
              "emissions     float64\n",
              "type           object\n",
              "segment        object\n",
              "reason         object\n",
              "baseYear       object\n",
              "notes          object\n",
              "dtype: object"
            ]
          },
          "metadata": {},
          "execution_count": 641
        }
      ]
    },
    {
      "cell_type": "markdown",
      "source": [
        "#### Visualisasi Comparison"
      ],
      "metadata": {
        "id": "FVeRi2LMobfN"
      }
    },
    {
      "cell_type": "code",
      "source": [
        "# Visualisasi yang menampilkan berapa banyak type berdasarkan segment\n",
        "sns.countplot(data=df,x=\"segment\",hue=\"type\")"
      ],
      "metadata": {
        "colab": {
          "base_uri": "https://localhost:8080/",
          "height": 466
        },
        "id": "kUbBVFlBogFw",
        "outputId": "65723555-8097-4719-d48e-f2c5e8f2771c"
      },
      "execution_count": 642,
      "outputs": [
        {
          "output_type": "execute_result",
          "data": {
            "text/plain": [
              "<Axes: xlabel='segment', ylabel='count'>"
            ]
          },
          "metadata": {},
          "execution_count": 642
        },
        {
          "output_type": "display_data",
          "data": {
            "text/plain": [
              "<Figure size 640x480 with 1 Axes>"
            ],
            "image/png": "[encoded data removed]"
          },
          "metadata": {}
        }
      ]
    },
    {
      "cell_type": "code",
      "source": [
        "# Visualisasi yang menampilkan berapa banyak reason\n",
        "sns.countplot(data=df,y=\"reason\")"
      ],
      "metadata": {
        "colab": {
          "base_uri": "https://localhost:8080/",
          "height": 466
        },
        "id": "_yUBuTLUpDFr",
        "outputId": "3588800a-8367-4f0c-e79d-1bd053131fd6"
      },
      "execution_count": 643,
      "outputs": [
        {
          "output_type": "execute_result",
          "data": {
            "text/plain": [
              "<Axes: xlabel='count', ylabel='reason'>"
            ]
          },
          "metadata": {},
          "execution_count": 643
        },
        {
          "output_type": "display_data",
          "data": {
            "text/plain": [
              "<Figure size 640x480 with 1 Axes>"
            ],
            "image/png": "[encoded data removed]"
          },
          "metadata": {}
        }
      ]
    },
    {
      "cell_type": "markdown",
      "source": [
        "#### Visualisasi Distribution"
      ],
      "metadata": {
        "id": "DFQW44Tu-j7Q"
      }
    },
    {
      "cell_type": "code",
      "source": [
        "# Histogram untuk type\n",
        "sns.histplot(data=df, x=\"type\", kde=True)"
      ],
      "metadata": {
        "colab": {
          "base_uri": "https://localhost:8080/",
          "height": 466
        },
        "id": "n6bP59FF-o3Q",
        "outputId": "a5dcf14b-66a5-40c0-827b-48b1a4f4b4a5"
      },
      "execution_count": 644,
      "outputs": [
        {
          "output_type": "execute_result",
          "data": {
            "text/plain": [
              "<Axes: xlabel='type', ylabel='Count'>"
            ]
          },
          "metadata": {},
          "execution_count": 644
        },
        {
          "output_type": "display_data",
          "data": {
            "text/plain": [
              "<Figure size 640x480 with 1 Axes>"
            ],
            "image/png": "[encoded data removed]"
          },
          "metadata": {}
        }
      ]
    },
    {
      "cell_type": "code",
      "source": [
        "# Histogram untuk segment\n",
        "sns.histplot(data=df, y=\"segment\", kde=True)"
      ],
      "metadata": {
        "colab": {
          "base_uri": "https://localhost:8080/",
          "height": 466
        },
        "id": "7hqDLMF_-1Ip",
        "outputId": "736eb79f-d5f0-4c68-837e-c29c74eca13c"
      },
      "execution_count": 645,
      "outputs": [
        {
          "output_type": "execute_result",
          "data": {
            "text/plain": [
              "<Axes: xlabel='Count', ylabel='segment'>"
            ]
          },
          "metadata": {},
          "execution_count": 645
        },
        {
          "output_type": "display_data",
          "data": {
            "text/plain": [
              "<Figure size 640x480 with 1 Axes>"
            ],
            "image/png": "[encoded data removed]"
          },
          "metadata": {}
        }
      ]
    },
    {
      "cell_type": "markdown",
      "source": [
        "## Data Preparation"
      ],
      "metadata": {
        "id": "CcZg0ojQrYNI"
      }
    },
    {
      "cell_type": "markdown",
      "source": [
        "### Cleaning Data"
      ],
      "metadata": {
        "id": "fPgiK7-nrdqm"
      }
    },
    {
      "cell_type": "code",
      "source": [
        "# Membuat variabel yang berisi df awal \n",
        "df1 = pd.read_csv(link_file)\n",
        "\n",
        "df = df.drop(['country','Unnamed: 0','segment', 'notes'], axis=1)"
      ],
      "metadata": {
        "id": "y9JK_A3l6pk2"
      },
      "execution_count": 646,
      "outputs": []
    },
    {
      "cell_type": "code",
      "source": [
        "df = df.rename(columns={'baseYear' : 'base_year'})"
      ],
      "metadata": {
        "id": "OcH0TqzMsgtm"
      },
      "execution_count": 647,
      "outputs": []
    },
    {
      "cell_type": "code",
      "source": [
        "df.isnull().sum()"
      ],
      "metadata": {
        "colab": {
          "base_uri": "https://localhost:8080/"
        },
        "id": "avGjIBfU6flv",
        "outputId": "f0ca2ef6-32cb-4fa5-f7d5-42192991d57f"
      },
      "execution_count": 648,
      "outputs": [
        {
          "output_type": "execute_result",
          "data": {
            "text/plain": [
              "region       0\n",
              "emissions    0\n",
              "type         0\n",
              "reason       0\n",
              "base_year    0\n",
              "dtype: int64"
            ]
          },
          "metadata": {},
          "execution_count": 648
        }
      ]
    },
    {
      "cell_type": "code",
      "source": [
        "df.fillna(0, inplace=True)"
      ],
      "metadata": {
        "id": "jH31qf_S7CO_"
      },
      "execution_count": 649,
      "outputs": []
    },
    {
      "cell_type": "code",
      "source": [
        "df.drop_duplicates(inplace=True)"
      ],
      "metadata": {
        "id": "nQPb6O6L7JBH"
      },
      "execution_count": 650,
      "outputs": []
    },
    {
      "cell_type": "code",
      "source": [
        "# Memfilter data untuk menampilkan data dengan nilai base_Year = 2022\n",
        "filtered_df = df[df['base_year'] == '2022']\n",
        "filtered_df"
      ],
      "metadata": {
        "colab": {
          "base_uri": "https://localhost:8080/",
          "height": 424
        },
        "id": "BZg6HTcj700w",
        "outputId": "19161be0-a493-4c0f-a843-1a7b70a6400a"
      },
      "execution_count": 651,
      "outputs": [
        {
          "output_type": "execute_result",
          "data": {
            "text/plain": [
              "      region      emissions    type    reason base_year\n",
              "1     Africa       0.052000  Energy       All      2022\n",
              "2     Africa     130.798996  Energy  Fugitive      2022\n",
              "3     Africa      69.741898  Energy    Vented      2022\n",
              "4     Africa     213.987000  Energy  Fugitive      2022\n",
              "5     Africa     464.308014  Energy    Vented      2022\n",
              "...      ...            ...     ...       ...       ...\n",
              "1541   World    1518.482056  Energy       All      2022\n",
              "1542   World    2292.331787  Energy       All      2022\n",
              "1543   World    3102.500000  Energy       All      2022\n",
              "1544   World   30296.500000  Energy       All      2022\n",
              "1545   World  133350.984375  Energy       All      2022\n",
              "\n",
              "[1227 rows x 5 columns]"
            ],
            "text/html": [
              "\n",
              "  <div id=\"df-194ed10d-1604-4678-ac07-ef175e5d4a35\">\n",
              "    <div class=\"colab-df-container\">\n",
              "      <div>\n",
              "<style scoped>\n",
              "    .dataframe tbody tr th:only-of-type {\n",
              "        vertical-align: middle;\n",
              "    }\n",
              "\n",
              "    .dataframe tbody tr th {\n",
              "        vertical-align: top;\n",
              "    }\n",
              "\n",
              "    .dataframe thead th {\n",
              "        text-align: right;\n",
              "    }\n",
              "</style>\n",
              "<table border=\"1\" class=\"dataframe\">\n",
              "  <thead>\n",
              "    <tr style=\"text-align: right;\">\n",
              "      <th></th>\n",
              "      <th>region</th>\n",
              "      <th>emissions</th>\n",
              "      <th>type</th>\n",
              "      <th>reason</th>\n",
              "      <th>base_year</th>\n",
              "    </tr>\n",
              "  </thead>\n",
              "  <tbody>\n",
              "    <tr>\n",
              "      <th>1</th>\n",
              "      <td>Africa</td>\n",
              "      <td>0.052000</td>\n",
              "      <td>Energy</td>\n",
              "      <td>All</td>\n",
              "      <td>2022</td>\n",
              "    </tr>\n",
              "    <tr>\n",
              "      <th>2</th>\n",
              "      <td>Africa</td>\n",
              "      <td>130.798996</td>\n",
              "      <td>Energy</td>\n",
              "      <td>Fugitive</td>\n",
              "      <td>2022</td>\n",
              "    </tr>\n",
              "    <tr>\n",
              "      <th>3</th>\n",
              "      <td>Africa</td>\n",
              "      <td>69.741898</td>\n",
              "      <td>Energy</td>\n",
              "      <td>Vented</td>\n",
              "      <td>2022</td>\n",
              "    </tr>\n",
              "    <tr>\n",
              "      <th>4</th>\n",
              "      <td>Africa</td>\n",
              "      <td>213.987000</td>\n",
              "      <td>Energy</td>\n",
              "      <td>Fugitive</td>\n",
              "      <td>2022</td>\n",
              "    </tr>\n",
              "    <tr>\n",
              "      <th>5</th>\n",
              "      <td>Africa</td>\n",
              "      <td>464.308014</td>\n",
              "      <td>Energy</td>\n",
              "      <td>Vented</td>\n",
              "      <td>2022</td>\n",
              "    </tr>\n",
              "    <tr>\n",
              "      <th>...</th>\n",
              "      <td>...</td>\n",
              "      <td>...</td>\n",
              "      <td>...</td>\n",
              "      <td>...</td>\n",
              "      <td>...</td>\n",
              "    </tr>\n",
              "    <tr>\n",
              "      <th>1541</th>\n",
              "      <td>World</td>\n",
              "      <td>1518.482056</td>\n",
              "      <td>Energy</td>\n",
              "      <td>All</td>\n",
              "      <td>2022</td>\n",
              "    </tr>\n",
              "    <tr>\n",
              "      <th>1542</th>\n",
              "      <td>World</td>\n",
              "      <td>2292.331787</td>\n",
              "      <td>Energy</td>\n",
              "      <td>All</td>\n",
              "      <td>2022</td>\n",
              "    </tr>\n",
              "    <tr>\n",
              "      <th>1543</th>\n",
              "      <td>World</td>\n",
              "      <td>3102.500000</td>\n",
              "      <td>Energy</td>\n",
              "      <td>All</td>\n",
              "      <td>2022</td>\n",
              "    </tr>\n",
              "    <tr>\n",
              "      <th>1544</th>\n",
              "      <td>World</td>\n",
              "      <td>30296.500000</td>\n",
              "      <td>Energy</td>\n",
              "      <td>All</td>\n",
              "      <td>2022</td>\n",
              "    </tr>\n",
              "    <tr>\n",
              "      <th>1545</th>\n",
              "      <td>World</td>\n",
              "      <td>133350.984375</td>\n",
              "      <td>Energy</td>\n",
              "      <td>All</td>\n",
              "      <td>2022</td>\n",
              "    </tr>\n",
              "  </tbody>\n",
              "</table>\n",
              "<p>1227 rows × 5 columns</p>\n",
              "</div>\n",
              "      <button class=\"colab-df-convert\" onclick=\"convertToInteractive('df-194ed10d-1604-4678-ac07-ef175e5d4a35')\"\n",
              "              title=\"Convert this dataframe to an interactive table.\"\n",
              "              style=\"display:none;\">\n",
              "        \n",
              "  <svg xmlns=\"http://www.w3.org/2000/svg\" height=\"24px\"viewBox=\"0 0 24 24\"\n",
              "       width=\"24px\">\n",
              "    <path d=\"M0 0h24v24H0V0z\" fill=\"none\"/>\n",
              "    <path d=\"M18.56 5.44l.94 2.06.94-2.06 2.06-.94-2.06-.94-.94-2.06-.94 2.06-2.06.94zm-11 1L8.5 8.5l.94-2.06 2.06-.94-2.06-.94L8.5 2.5l-.94 2.06-2.06.94zm10 10l.94 2.06.94-2.06 2.06-.94-2.06-.94-.94-2.06-.94 2.06-2.06.94z\"/><path d=\"M17.41 7.96l-1.37-1.37c-.4-.4-.92-.59-1.43-.59-.52 0-1.04.2-1.43.59L10.3 9.45l-7.72 7.72c-.78.78-.78 2.05 0 2.83L4 21.41c.39.39.9.59 1.41.59.51 0 1.02-.2 1.41-.59l7.78-7.78 2.81-2.81c.8-.78.8-2.07 0-2.86zM5.41 20L4 18.59l7.72-7.72 1.47 1.35L5.41 20z\"/>\n",
              "  </svg>\n",
              "      </button>\n",
              "      \n",
              "  <style>\n",
              "    .colab-df-container {\n",
              "      display:flex;\n",
              "      flex-wrap:wrap;\n",
              "      gap: 12px;\n",
              "    }\n",
              "\n",
              "    .colab-df-convert {\n",
              "      background-color: #E8F0FE;\n",
              "      border: none;\n",
              "      border-radius: 50%;\n",
              "      cursor: pointer;\n",
              "      display: none;\n",
              "      fill: #1967D2;\n",
              "      height: 32px;\n",
              "      padding: 0 0 0 0;\n",
              "      width: 32px;\n",
              "    }\n",
              "\n",
              "    .colab-df-convert:hover {\n",
              "      background-color: #E2EBFA;\n",
              "      box-shadow: 0px 1px 2px rgba(60, 64, 67, 0.3), 0px 1px 3px 1px rgba(60, 64, 67, 0.15);\n",
              "      fill: #174EA6;\n",
              "    }\n",
              "\n",
              "    [theme=dark] .colab-df-convert {\n",
              "      background-color: #3B4455;\n",
              "      fill: #D2E3FC;\n",
              "    }\n",
              "\n",
              "    [theme=dark] .colab-df-convert:hover {\n",
              "      background-color: #434B5C;\n",
              "      box-shadow: 0px 1px 3px 1px rgba(0, 0, 0, 0.15);\n",
              "      filter: drop-shadow(0px 1px 2px rgba(0, 0, 0, 0.3));\n",
              "      fill: #FFFFFF;\n",
              "    }\n",
              "  </style>\n",
              "\n",
              "      <script>\n",
              "        const buttonEl =\n",
              "          document.querySelector('#df-194ed10d-1604-4678-ac07-ef175e5d4a35 button.colab-df-convert');\n",
              "        buttonEl.style.display =\n",
              "          google.colab.kernel.accessAllowed ? 'block' : 'none';\n",
              "\n",
              "        async function convertToInteractive(key) {\n",
              "          const element = document.querySelector('#df-194ed10d-1604-4678-ac07-ef175e5d4a35');\n",
              "          const dataTable =\n",
              "            await google.colab.kernel.invokeFunction('convertToInteractive',\n",
              "                                                     [key], {});\n",
              "          if (!dataTable) return;\n",
              "\n",
              "          const docLinkHtml = 'Like what you see? Visit the ' +\n",
              "            '<a target=\"_blank\" href=https://colab.research.google.com/notebooks/data_table.ipynb>data table notebook</a>'\n",
              "            + ' to learn more about interactive tables.';\n",
              "          element.innerHTML = '';\n",
              "          dataTable['output_type'] = 'display_data';\n",
              "          await google.colab.output.renderOutput(dataTable, element);\n",
              "          const docLink = document.createElement('div');\n",
              "          docLink.innerHTML = docLinkHtml;\n",
              "          element.appendChild(docLink);\n",
              "        }\n",
              "      </script>\n",
              "    </div>\n",
              "  </div>\n",
              "  "
            ]
          },
          "metadata": {},
          "execution_count": 651
        }
      ]
    },
    {
      "cell_type": "markdown",
      "source": [
        "### Encoding"
      ],
      "metadata": {
        "id": "XZhPVzIahDEm"
      }
    },
    {
      "cell_type": "code",
      "source": [
        "df = pd.get_dummies(df)"
      ],
      "metadata": {
        "id": "M0NLQvRAhCsG"
      },
      "execution_count": 652,
      "outputs": []
    },
    {
      "cell_type": "code",
      "source": [
        "df"
      ],
      "metadata": {
        "colab": {
          "base_uri": "https://localhost:8080/",
          "height": 522
        },
        "id": "3512FY7UhFoP",
        "outputId": "b2b0833c-dc41-4813-f13e-2f558c4c7cf6"
      },
      "execution_count": 653,
      "outputs": [
        {
          "output_type": "execute_result",
          "data": {
            "text/plain": [
              "          emissions  region_Africa  region_Asia Pacific  \\\n",
              "0        257.611206              1                    0   \n",
              "1          0.052000              1                    0   \n",
              "2        130.798996              1                    0   \n",
              "3         69.741898              1                    0   \n",
              "4        213.987000              1                    0   \n",
              "...             ...            ...                  ...   \n",
              "1543    3102.500000              0                    0   \n",
              "1544   30296.500000              0                    0   \n",
              "1545  133350.984375              0                    0   \n",
              "1546    9737.874023              0                    0   \n",
              "1547   70758.710938              0                    0   \n",
              "\n",
              "      region_Central and South America  region_Europe  region_Middle East  \\\n",
              "0                                    0              0                   0   \n",
              "1                                    0              0                   0   \n",
              "2                                    0              0                   0   \n",
              "3                                    0              0                   0   \n",
              "4                                    0              0                   0   \n",
              "...                                ...            ...                 ...   \n",
              "1543                                 0              0                   0   \n",
              "1544                                 0              0                   0   \n",
              "1545                                 0              0                   0   \n",
              "1546                                 0              0                   0   \n",
              "1547                                 0              0                   0   \n",
              "\n",
              "      region_North America  region_Other  region_Russia & Caspian  \\\n",
              "0                        0             0                        0   \n",
              "1                        0             0                        0   \n",
              "2                        0             0                        0   \n",
              "3                        0             0                        0   \n",
              "4                        0             0                        0   \n",
              "...                    ...           ...                      ...   \n",
              "1543                     0             0                        0   \n",
              "1544                     0             0                        0   \n",
              "1545                     0             0                        0   \n",
              "1546                     0             0                        0   \n",
              "1547                     0             0                        0   \n",
              "\n",
              "      region_World  type_Agriculture  type_Energy  type_Other  type_Waste  \\\n",
              "0                0                 1            0           0           0   \n",
              "1                0                 0            1           0           0   \n",
              "2                0                 0            1           0           0   \n",
              "3                0                 0            1           0           0   \n",
              "4                0                 0            1           0           0   \n",
              "...            ...               ...          ...         ...         ...   \n",
              "1543             1                 0            1           0           0   \n",
              "1544             1                 0            1           0           0   \n",
              "1545             1                 0            1           0           0   \n",
              "1546             1                 0            0           1           0   \n",
              "1547             1                 0            0           0           1   \n",
              "\n",
              "      reason_All  reason_Flared  reason_Fugitive  reason_Vented  \\\n",
              "0              1              0                0              0   \n",
              "1              1              0                0              0   \n",
              "2              0              0                1              0   \n",
              "3              0              0                0              1   \n",
              "4              0              0                1              0   \n",
              "...          ...            ...              ...            ...   \n",
              "1543           1              0                0              0   \n",
              "1544           1              0                0              0   \n",
              "1545           1              0                0              0   \n",
              "1546           1              0                0              0   \n",
              "1547           1              0                0              0   \n",
              "\n",
              "      base_year_2019-2021  base_year_2022  \n",
              "0                       1               0  \n",
              "1                       0               1  \n",
              "2                       0               1  \n",
              "3                       0               1  \n",
              "4                       0               1  \n",
              "...                   ...             ...  \n",
              "1543                    0               1  \n",
              "1544                    0               1  \n",
              "1545                    0               1  \n",
              "1546                    1               0  \n",
              "1547                    1               0  \n",
              "\n",
              "[1542 rows x 20 columns]"
            ],
            "text/html": [
              "\n",
              "  <div id=\"df-a46919a3-b6c9-48bf-8011-31aee5d3c3a5\">\n",
              "    <div class=\"colab-df-container\">\n",
              "      <div>\n",
              "<style scoped>\n",
              "    .dataframe tbody tr th:only-of-type {\n",
              "        vertical-align: middle;\n",
              "    }\n",
              "\n",
              "    .dataframe tbody tr th {\n",
              "        vertical-align: top;\n",
              "    }\n",
              "\n",
              "    .dataframe thead th {\n",
              "        text-align: right;\n",
              "    }\n",
              "</style>\n",
              "<table border=\"1\" class=\"dataframe\">\n",
              "  <thead>\n",
              "    <tr style=\"text-align: right;\">\n",
              "      <th></th>\n",
              "      <th>emissions</th>\n",
              "      <th>region_Africa</th>\n",
              "      <th>region_Asia Pacific</th>\n",
              "      <th>region_Central and South America</th>\n",
              "      <th>region_Europe</th>\n",
              "      <th>region_Middle East</th>\n",
              "      <th>region_North America</th>\n",
              "      <th>region_Other</th>\n",
              "      <th>region_Russia &amp; Caspian</th>\n",
              "      <th>region_World</th>\n",
              "      <th>type_Agriculture</th>\n",
              "      <th>type_Energy</th>\n",
              "      <th>type_Other</th>\n",
              "      <th>type_Waste</th>\n",
              "      <th>reason_All</th>\n",
              "      <th>reason_Flared</th>\n",
              "      <th>reason_Fugitive</th>\n",
              "      <th>reason_Vented</th>\n",
              "      <th>base_year_2019-2021</th>\n",
              "      <th>base_year_2022</th>\n",
              "    </tr>\n",
              "  </thead>\n",
              "  <tbody>\n",
              "    <tr>\n",
              "      <th>0</th>\n",
              "      <td>257.611206</td>\n",
              "      <td>1</td>\n",
              "      <td>0</td>\n",
              "      <td>0</td>\n",
              "      <td>0</td>\n",
              "      <td>0</td>\n",
              "      <td>0</td>\n",
              "      <td>0</td>\n",
              "      <td>0</td>\n",
              "      <td>0</td>\n",
              "      <td>1</td>\n",
              "      <td>0</td>\n",
              "      <td>0</td>\n",
              "      <td>0</td>\n",
              "      <td>1</td>\n",
              "      <td>0</td>\n",
              "      <td>0</td>\n",
              "      <td>0</td>\n",
              "      <td>1</td>\n",
              "      <td>0</td>\n",
              "    </tr>\n",
              "    <tr>\n",
              "      <th>1</th>\n",
              "      <td>0.052000</td>\n",
              "      <td>1</td>\n",
              "      <td>0</td>\n",
              "      <td>0</td>\n",
              "      <td>0</td>\n",
              "      <td>0</td>\n",
              "      <td>0</td>\n",
              "      <td>0</td>\n",
              "      <td>0</td>\n",
              "      <td>0</td>\n",
              "      <td>0</td>\n",
              "      <td>1</td>\n",
              "      <td>0</td>\n",
              "      <td>0</td>\n",
              "      <td>1</td>\n",
              "      <td>0</td>\n",
              "      <td>0</td>\n",
              "      <td>0</td>\n",
              "      <td>0</td>\n",
              "      <td>1</td>\n",
              "    </tr>\n",
              "    <tr>\n",
              "      <th>2</th>\n",
              "      <td>130.798996</td>\n",
              "      <td>1</td>\n",
              "      <td>0</td>\n",
              "      <td>0</td>\n",
              "      <td>0</td>\n",
              "      <td>0</td>\n",
              "      <td>0</td>\n",
              "      <td>0</td>\n",
              "      <td>0</td>\n",
              "      <td>0</td>\n",
              "      <td>0</td>\n",
              "      <td>1</td>\n",
              "      <td>0</td>\n",
              "      <td>0</td>\n",
              "      <td>0</td>\n",
              "      <td>0</td>\n",
              "      <td>1</td>\n",
              "      <td>0</td>\n",
              "      <td>0</td>\n",
              "      <td>1</td>\n",
              "    </tr>\n",
              "    <tr>\n",
              "      <th>3</th>\n",
              "      <td>69.741898</td>\n",
              "      <td>1</td>\n",
              "      <td>0</td>\n",
              "      <td>0</td>\n",
              "      <td>0</td>\n",
              "      <td>0</td>\n",
              "      <td>0</td>\n",
              "      <td>0</td>\n",
              "      <td>0</td>\n",
              "      <td>0</td>\n",
              "      <td>0</td>\n",
              "      <td>1</td>\n",
              "      <td>0</td>\n",
              "      <td>0</td>\n",
              "      <td>0</td>\n",
              "      <td>0</td>\n",
              "      <td>0</td>\n",
              "      <td>1</td>\n",
              "      <td>0</td>\n",
              "      <td>1</td>\n",
              "    </tr>\n",
              "    <tr>\n",
              "      <th>4</th>\n",
              "      <td>213.987000</td>\n",
              "      <td>1</td>\n",
              "      <td>0</td>\n",
              "      <td>0</td>\n",
              "      <td>0</td>\n",
              "      <td>0</td>\n",
              "      <td>0</td>\n",
              "      <td>0</td>\n",
              "      <td>0</td>\n",
              "      <td>0</td>\n",
              "      <td>0</td>\n",
              "      <td>1</td>\n",
              "      <td>0</td>\n",
              "      <td>0</td>\n",
              "      <td>0</td>\n",
              "      <td>0</td>\n",
              "      <td>1</td>\n",
              "      <td>0</td>\n",
              "      <td>0</td>\n",
              "      <td>1</td>\n",
              "    </tr>\n",
              "    <tr>\n",
              "      <th>...</th>\n",
              "      <td>...</td>\n",
              "      <td>...</td>\n",
              "      <td>...</td>\n",
              "      <td>...</td>\n",
              "      <td>...</td>\n",
              "      <td>...</td>\n",
              "      <td>...</td>\n",
              "      <td>...</td>\n",
              "      <td>...</td>\n",
              "      <td>...</td>\n",
              "      <td>...</td>\n",
              "      <td>...</td>\n",
              "      <td>...</td>\n",
              "      <td>...</td>\n",
              "      <td>...</td>\n",
              "      <td>...</td>\n",
              "      <td>...</td>\n",
              "      <td>...</td>\n",
              "      <td>...</td>\n",
              "      <td>...</td>\n",
              "    </tr>\n",
              "    <tr>\n",
              "      <th>1543</th>\n",
              "      <td>3102.500000</td>\n",
              "      <td>0</td>\n",
              "      <td>0</td>\n",
              "      <td>0</td>\n",
              "      <td>0</td>\n",
              "      <td>0</td>\n",
              "      <td>0</td>\n",
              "      <td>0</td>\n",
              "      <td>0</td>\n",
              "      <td>1</td>\n",
              "      <td>0</td>\n",
              "      <td>1</td>\n",
              "      <td>0</td>\n",
              "      <td>0</td>\n",
              "      <td>1</td>\n",
              "      <td>0</td>\n",
              "      <td>0</td>\n",
              "      <td>0</td>\n",
              "      <td>0</td>\n",
              "      <td>1</td>\n",
              "    </tr>\n",
              "    <tr>\n",
              "      <th>1544</th>\n",
              "      <td>30296.500000</td>\n",
              "      <td>0</td>\n",
              "      <td>0</td>\n",
              "      <td>0</td>\n",
              "      <td>0</td>\n",
              "      <td>0</td>\n",
              "      <td>0</td>\n",
              "      <td>0</td>\n",
              "      <td>0</td>\n",
              "      <td>1</td>\n",
              "      <td>0</td>\n",
              "      <td>1</td>\n",
              "      <td>0</td>\n",
              "      <td>0</td>\n",
              "      <td>1</td>\n",
              "      <td>0</td>\n",
              "      <td>0</td>\n",
              "      <td>0</td>\n",
              "      <td>0</td>\n",
              "      <td>1</td>\n",
              "    </tr>\n",
              "    <tr>\n",
              "      <th>1545</th>\n",
              "      <td>133350.984375</td>\n",
              "      <td>0</td>\n",
              "      <td>0</td>\n",
              "      <td>0</td>\n",
              "      <td>0</td>\n",
              "      <td>0</td>\n",
              "      <td>0</td>\n",
              "      <td>0</td>\n",
              "      <td>0</td>\n",
              "      <td>1</td>\n",
              "      <td>0</td>\n",
              "      <td>1</td>\n",
              "      <td>0</td>\n",
              "      <td>0</td>\n",
              "      <td>1</td>\n",
              "      <td>0</td>\n",
              "      <td>0</td>\n",
              "      <td>0</td>\n",
              "      <td>0</td>\n",
              "      <td>1</td>\n",
              "    </tr>\n",
              "    <tr>\n",
              "      <th>1546</th>\n",
              "      <td>9737.874023</td>\n",
              "      <td>0</td>\n",
              "      <td>0</td>\n",
              "      <td>0</td>\n",
              "      <td>0</td>\n",
              "      <td>0</td>\n",
              "      <td>0</td>\n",
              "      <td>0</td>\n",
              "      <td>0</td>\n",
              "      <td>1</td>\n",
              "      <td>0</td>\n",
              "      <td>0</td>\n",
              "      <td>1</td>\n",
              "      <td>0</td>\n",
              "      <td>1</td>\n",
              "      <td>0</td>\n",
              "      <td>0</td>\n",
              "      <td>0</td>\n",
              "      <td>1</td>\n",
              "      <td>0</td>\n",
              "    </tr>\n",
              "    <tr>\n",
              "      <th>1547</th>\n",
              "      <td>70758.710938</td>\n",
              "      <td>0</td>\n",
              "      <td>0</td>\n",
              "      <td>0</td>\n",
              "      <td>0</td>\n",
              "      <td>0</td>\n",
              "      <td>0</td>\n",
              "      <td>0</td>\n",
              "      <td>0</td>\n",
              "      <td>1</td>\n",
              "      <td>0</td>\n",
              "      <td>0</td>\n",
              "      <td>0</td>\n",
              "      <td>1</td>\n",
              "      <td>1</td>\n",
              "      <td>0</td>\n",
              "      <td>0</td>\n",
              "      <td>0</td>\n",
              "      <td>1</td>\n",
              "      <td>0</td>\n",
              "    </tr>\n",
              "  </tbody>\n",
              "</table>\n",
              "<p>1542 rows × 20 columns</p>\n",
              "</div>\n",
              "      <button class=\"colab-df-convert\" onclick=\"convertToInteractive('df-a46919a3-b6c9-48bf-8011-31aee5d3c3a5')\"\n",
              "              title=\"Convert this dataframe to an interactive table.\"\n",
              "              style=\"display:none;\">\n",
              "        \n",
              "  <svg xmlns=\"http://www.w3.org/2000/svg\" height=\"24px\"viewBox=\"0 0 24 24\"\n",
              "       width=\"24px\">\n",
              "    <path d=\"M0 0h24v24H0V0z\" fill=\"none\"/>\n",
              "    <path d=\"M18.56 5.44l.94 2.06.94-2.06 2.06-.94-2.06-.94-.94-2.06-.94 2.06-2.06.94zm-11 1L8.5 8.5l.94-2.06 2.06-.94-2.06-.94L8.5 2.5l-.94 2.06-2.06.94zm10 10l.94 2.06.94-2.06 2.06-.94-2.06-.94-.94-2.06-.94 2.06-2.06.94z\"/><path d=\"M17.41 7.96l-1.37-1.37c-.4-.4-.92-.59-1.43-.59-.52 0-1.04.2-1.43.59L10.3 9.45l-7.72 7.72c-.78.78-.78 2.05 0 2.83L4 21.41c.39.39.9.59 1.41.59.51 0 1.02-.2 1.41-.59l7.78-7.78 2.81-2.81c.8-.78.8-2.07 0-2.86zM5.41 20L4 18.59l7.72-7.72 1.47 1.35L5.41 20z\"/>\n",
              "  </svg>\n",
              "      </button>\n",
              "      \n",
              "  <style>\n",
              "    .colab-df-container {\n",
              "      display:flex;\n",
              "      flex-wrap:wrap;\n",
              "      gap: 12px;\n",
              "    }\n",
              "\n",
              "    .colab-df-convert {\n",
              "      background-color: #E8F0FE;\n",
              "      border: none;\n",
              "      border-radius: 50%;\n",
              "      cursor: pointer;\n",
              "      display: none;\n",
              "      fill: #1967D2;\n",
              "      height: 32px;\n",
              "      padding: 0 0 0 0;\n",
              "      width: 32px;\n",
              "    }\n",
              "\n",
              "    .colab-df-convert:hover {\n",
              "      background-color: #E2EBFA;\n",
              "      box-shadow: 0px 1px 2px rgba(60, 64, 67, 0.3), 0px 1px 3px 1px rgba(60, 64, 67, 0.15);\n",
              "      fill: #174EA6;\n",
              "    }\n",
              "\n",
              "    [theme=dark] .colab-df-convert {\n",
              "      background-color: #3B4455;\n",
              "      fill: #D2E3FC;\n",
              "    }\n",
              "\n",
              "    [theme=dark] .colab-df-convert:hover {\n",
              "      background-color: #434B5C;\n",
              "      box-shadow: 0px 1px 3px 1px rgba(0, 0, 0, 0.15);\n",
              "      filter: drop-shadow(0px 1px 2px rgba(0, 0, 0, 0.3));\n",
              "      fill: #FFFFFF;\n",
              "    }\n",
              "  </style>\n",
              "\n",
              "      <script>\n",
              "        const buttonEl =\n",
              "          document.querySelector('#df-a46919a3-b6c9-48bf-8011-31aee5d3c3a5 button.colab-df-convert');\n",
              "        buttonEl.style.display =\n",
              "          google.colab.kernel.accessAllowed ? 'block' : 'none';\n",
              "\n",
              "        async function convertToInteractive(key) {\n",
              "          const element = document.querySelector('#df-a46919a3-b6c9-48bf-8011-31aee5d3c3a5');\n",
              "          const dataTable =\n",
              "            await google.colab.kernel.invokeFunction('convertToInteractive',\n",
              "                                                     [key], {});\n",
              "          if (!dataTable) return;\n",
              "\n",
              "          const docLinkHtml = 'Like what you see? Visit the ' +\n",
              "            '<a target=\"_blank\" href=https://colab.research.google.com/notebooks/data_table.ipynb>data table notebook</a>'\n",
              "            + ' to learn more about interactive tables.';\n",
              "          element.innerHTML = '';\n",
              "          dataTable['output_type'] = 'display_data';\n",
              "          await google.colab.output.renderOutput(dataTable, element);\n",
              "          const docLink = document.createElement('div');\n",
              "          docLink.innerHTML = docLinkHtml;\n",
              "          element.appendChild(docLink);\n",
              "        }\n",
              "      </script>\n",
              "    </div>\n",
              "  </div>\n",
              "  "
            ]
          },
          "metadata": {},
          "execution_count": 653
        }
      ]
    },
    {
      "cell_type": "markdown",
      "source": [
        "### Splitting"
      ],
      "metadata": {
        "id": "xuqocl_2g7eA"
      }
    },
    {
      "cell_type": "code",
      "source": [
        "from sklearn.model_selection import train_test_split\n",
        "\n",
        "df_baru= df.sample(100)\n",
        "\n",
        "# Memisahkan fitur dan label\n",
        "X = df_baru.drop('base_year_2022', axis=1)  # Mengambil semua kolom kecuali kolom 'base_year_2022' sebagai fitur\n",
        "y = df_baru['base_year_2022']  # Mengambil kolom 'base_year_2022' sebagai label\n",
        "\n",
        "X_train, X_test, y_train, y_test = train_test_split(X, y, test_size=0.2, random_state=42)\n",
        "# X_train, X_test, y_train, y_test = train_test_split(X, y, test_size=0.2, random_state=1)\n",
        "\n",
        "print(\"Jumlah data pada data training:\", len(X_train))\n",
        "print(\"Jumlah data pada data testing:\", len(X_test))"
      ],
      "metadata": {
        "colab": {
          "base_uri": "https://localhost:8080/"
        },
        "id": "lUuuiI6xg6om",
        "outputId": "a42d083c-3a66-42f8-ed7f-7dee447a58f3"
      },
      "execution_count": 654,
      "outputs": [
        {
          "output_type": "stream",
          "name": "stdout",
          "text": [
            "Jumlah data pada data training: 80\n",
            "Jumlah data pada data testing: 20\n"
          ]
        }
      ]
    },
    {
      "cell_type": "markdown",
      "source": [
        "## Modelling"
      ],
      "metadata": {
        "id": "g-le5PFNm5_W"
      }
    },
    {
      "cell_type": "markdown",
      "source": [
        "### C4.5"
      ],
      "metadata": {
        "id": "OfG1OH2Bgv-I"
      }
    },
    {
      "cell_type": "code",
      "source": [
        "from sklearn.tree import DecisionTreeClassifier\n",
        "from sklearn.model_selection import train_test_split\n",
        "from sklearn.metrics import accuracy_score\n",
        "\n",
        "# inisialisasi model decision tree dengan algoritma C4.5\n",
        "clf = DecisionTreeClassifier(criterion='entropy')\n",
        "\n",
        "# melatih model dengan data training\n",
        "clf.fit(X_train, y_train)\n",
        "\n",
        "# melakukan prediksi dengan data testing\n",
        "y_pred = clf.predict(X_test)\n",
        "\n",
        "# menghitung akurasi dari model\n",
        "accuracy = accuracy_score(y_test, y_pred)\n",
        "print(\"Akurasi C45: {:.2f}%\".format(accuracy*100))"
      ],
      "metadata": {
        "colab": {
          "base_uri": "https://localhost:8080/"
        },
        "id": "Csk15rnFgvFY",
        "outputId": "3cfc803b-c05b-44b3-be8b-cb6ddf6923c1"
      },
      "execution_count": 655,
      "outputs": [
        {
          "output_type": "stream",
          "name": "stdout",
          "text": [
            "Akurasi C45: 100.00%\n"
          ]
        }
      ]
    },
    {
      "cell_type": "markdown",
      "source": [
        "### KNN (Manual)"
      ],
      "metadata": {
        "id": "D0YleYeynQK8"
      }
    },
    {
      "cell_type": "code",
      "source": [
        "# Menghitung jarak antara dua titik\n",
        "def euclidean_distance(x1, x2):\n",
        "    return np.sqrt(np.sum((x1 - x2) ** 2))\n",
        "\n",
        "# Mencari k tetangga terdekat dari data uji dalam data latih\n",
        "def get_nearest_neighbors(X_train, y_train, X_test, k):\n",
        "    distances = []\n",
        "    for i in range(X_train.shape[0]):\n",
        "        distance = euclidean_distance(X_test, X_train.iloc[i, :])\n",
        "        distances.append((distance, y_train.iloc[i]))\n",
        "    distances.sort(key=lambda x: x[0])\n",
        "    neighbors = distances[:k]\n",
        "    return neighbors\n",
        "\n",
        "# Melakukan prediksi kelas berdasarkan k tetangga terdekat\n",
        "def predict(X_train, y_train, X_test, k):\n",
        "    neighbors = get_nearest_neighbors(X_train, y_train, X_test, k)\n",
        "    labels = [neighbor[1] for neighbor in neighbors]\n",
        "    predicted_label = max(set(labels), key=labels.count)\n",
        "    return predicted_label\n",
        "\n",
        "# Melakukan prediksi untuk seluruh data uji\n",
        "def knn_predict(X_train, y_train, X_test, k):\n",
        "    y_pred = []\n",
        "    for i in range(X_test.shape[0]):\n",
        "        predicted_label = predict(X_train, y_train, X_test.iloc[i, :], k)\n",
        "        y_pred.append(predicted_label)\n",
        "    return y_pred\n",
        "\n",
        "k = 3  # Jumlah tetangga terdekat yang digunakan\n",
        "y_pred = knn_predict(X_train, y_train, X_test, k)\n",
        "\n",
        "accuracy = accuracy_score(y_test, y_pred)\n",
        "print(\"Akurasi KNN: {:.2%}\".format(accuracy))\n"
      ],
      "metadata": {
        "colab": {
          "base_uri": "https://localhost:8080/"
        },
        "id": "DR8sRCfJm24j",
        "outputId": "6a088f7d-3f9d-4cd1-b785-3da9c93b13ff"
      },
      "execution_count": 656,
      "outputs": [
        {
          "output_type": "stream",
          "name": "stdout",
          "text": [
            "Akurasi KNN: 90.00%\n"
          ]
        }
      ]
    },
    {
      "cell_type": "markdown",
      "source": [
        "### Naive Bayes (Manual)"
      ],
      "metadata": {
        "id": "RzA92g-snhE6"
      }
    },
    {
      "cell_type": "code",
      "source": [
        "# Menghitung probabilitas prior untuk setiap kelas\n",
        "def calculate_prior(y_train):\n",
        "    classes = np.unique(y_train)\n",
        "    prior = {}\n",
        "    total_samples = len(y_train)\n",
        "    for cls in classes:\n",
        "        prior[cls] = np.sum(y_train == cls) / total_samples\n",
        "    return prior\n",
        "\n",
        "# Menghitung probabilitas likelihood untuk setiap fitur dan kelas\n",
        "def calculate_likelihood(X_train, y_train, feature, cls):\n",
        "    # Menghitung jumlah kemunculan fitur di kelas yang diberikan\n",
        "    feature_counts = np.sum((X_train == feature) & (y_train == cls), axis=0)\n",
        "    # Menghitung total jumlah sampel pada kelas yang diberikan\n",
        "    total_samples_in_cls = np.sum(y_train == cls)\n",
        "    # Menghitung likelihood sebagai probabilitas kemunculan fitur di kelas yang diberikan\n",
        "    likelihood = feature_counts / total_samples_in_cls\n",
        "    return likelihood\n",
        "\n",
        "# Melakukan prediksi kelas menggunakan algoritma Naive Bayes\n",
        "def predict(X_train, y_train, X_test):\n",
        "    predicted_labels = []\n",
        "    prior = calculate_prior(y_train)\n",
        "    classes = np.unique(y_train)\n",
        "    for i in range(X_test.shape[0]):\n",
        "        sample = X_test.iloc[i, :]\n",
        "        posterior = {}\n",
        "        for cls in classes:\n",
        "            likelihood = 1\n",
        "            for feature in X_train.columns:\n",
        "                likelihood *= calculate_likelihood(X_train, y_train, sample[feature], cls).get(feature, 0)\n",
        "            posterior[cls] = prior[cls] * likelihood\n",
        "        predicted_label = max(posterior, key=posterior.get)\n",
        "        predicted_labels.append(predicted_label)\n",
        "    return predicted_labels\n",
        "\n",
        "X_train, X_test, y_train, y_test = train_test_split(X, y, test_size=0.2, random_state=42)\n",
        "\n",
        "y_pred = predict(X_train, y_train, X_test)\n",
        "\n",
        "accuracy = np.mean(np.array(y_pred) == np.array(y_test))\n",
        "print(\"Akurasi Naive Bayes: {:.2%}\".format(accuracy))\n"
      ],
      "metadata": {
        "colab": {
          "base_uri": "https://localhost:8080/"
        },
        "id": "F3OE6A-jnhhj",
        "outputId": "9afbe1fe-85cb-4729-c671-ae9af855f6ec"
      },
      "execution_count": 657,
      "outputs": [
        {
          "output_type": "stream",
          "name": "stdout",
          "text": [
            "Akurasi Naive Bayes: 15.00%\n"
          ]
        }
      ]
    },
    {
      "cell_type": "markdown",
      "metadata": {
        "id": "Po2v1GZyqKoQ"
      },
      "source": [
        "## Evaluation"
      ]
    },
    {
      "cell_type": "markdown",
      "metadata": {
        "id": "3xvKZJT8ilMJ"
      },
      "source": [
        "### C4.5"
      ]
    },
    {
      "cell_type": "code",
      "execution_count": 658,
      "metadata": {
        "colab": {
          "base_uri": "https://localhost:8080/"
        },
        "id": "9f55lsVHqTE7",
        "outputId": "ec75504e-e20e-432a-dd73-58fd4d59d6a4"
      },
      "outputs": [
        {
          "output_type": "stream",
          "name": "stdout",
          "text": [
            "Akurasi: 100.00%\n",
            "ROC AUC score untuk kelas 0: 1.00\n",
            "ROC AUC score untuk kelas 1: 1.00\n",
            "Confusion Matrix:\n",
            "[[ 3  0]\n",
            " [ 0 17]]\n"
          ]
        }
      ],
      "source": [
        "from sklearn.tree import DecisionTreeClassifier\n",
        "from sklearn.model_selection import train_test_split\n",
        "from sklearn.metrics import accuracy_score, roc_auc_score, confusion_matrix, roc_curve, auc\n",
        "\n",
        "# Inisialisasi model Decision Tree (C4.5)\n",
        "clf = DecisionTreeClassifier(criterion='entropy')\n",
        "\n",
        "# Melatih model dengan data latih\n",
        "clf.fit(X_train, y_train)\n",
        "\n",
        "# Melakukan prediksi dengan data uji\n",
        "y_pred = clf.predict(X_test)\n",
        "\n",
        "# Menghitung akurasi\n",
        "accuracy = accuracy_score(y_test, y_pred)\n",
        "print(\"Akurasi: {:.2f}%\".format(accuracy*100))\n",
        "\n",
        "# Menghitung ROC AUC score untuk setiap kelas\n",
        "roc_auc_scores = {}\n",
        "classes = clf.classes_\n",
        "for cls in classes:\n",
        "    y_true_cls = np.where(y_test == cls, 1, 0)\n",
        "    y_pred_cls = np.where(y_pred == cls, 1, 0)\n",
        "    roc_auc_scores[cls] = roc_auc_score(y_true_cls, y_pred_cls)\n",
        "\n",
        "# Menampilkan ROC AUC score untuk setiap kelas\n",
        "for cls, score in roc_auc_scores.items():\n",
        "    print('ROC AUC score untuk kelas {}: {:.2f}'.format(cls, score))\n",
        "\n",
        "# Menghitung confusion matrix\n",
        "cm = confusion_matrix(y_test, y_pred)\n",
        "print('Confusion Matrix:')\n",
        "print(cm)"
      ]
    },
    {
      "cell_type": "markdown",
      "source": [
        "Hasil evaluasi performa yang sangat baik ini menunjukkan bahwa model klasifikasi yang digunakan pada dataset tersebut dapat diandalkan dan dapat digunakan untuk memprediksi kelas pada data yang belum pernah dilihat sebelumnya dengan akurasi yang tinggi."
      ],
      "metadata": {
        "id": "iSO8Zh_fDjR0"
      }
    },
    {
      "cell_type": "code",
      "source": [
        "TP = cm[0][0]\n",
        "FP = cm[1][0]\n",
        "FN = cm[0][1]\n",
        "TN = cm[1][1]\n",
        "\n",
        "# Cetak nilai TP, FP, FN, dan TN\n",
        "print(\"True positive (TP)  :\", TP)\n",
        "print(\"False positive (FP) :\", FP)\n",
        "print(\"False negative (FN) :\", FN)\n",
        "print(\"True negative (TN)  :\", TN)\n",
        "print('')\n",
        "\n",
        "precision = TP / (TP+FP)\n",
        "recall = TP / (TP+FN)\n",
        "f1 = (2 * precision * recall) / (precision + recall)\n",
        "accuracy = (TP + TN) / (TP + FN + TN + FP)\n",
        "specificity = TN / (TN + FP)\n",
        "\n",
        "print('precision = ', precision * 100, '%')\n",
        "print('recall = ', recall * 100, '%')\n",
        "print('f1 = ', f1 * 100, '%')\n",
        "print('accuracy = ', accuracy * 100, '%')\n",
        "print('specificity = ', specificity * 100, '%')\n"
      ],
      "metadata": {
        "colab": {
          "base_uri": "https://localhost:8080/"
        },
        "outputId": "50a2208f-3958-4c9a-873f-141499ee3c38",
        "id": "q2p11rmpXPNG"
      },
      "execution_count": 659,
      "outputs": [
        {
          "output_type": "stream",
          "name": "stdout",
          "text": [
            "True positive (TP)  : 3\n",
            "False positive (FP) : 0\n",
            "False negative (FN) : 0\n",
            "True negative (TN)  : 17\n",
            "\n",
            "precision =  100.0 %\n",
            "recall =  100.0 %\n",
            "f1 =  100.0 %\n",
            "accuracy =  100.0 %\n",
            "specificity =  100.0 %\n"
          ]
        }
      ]
    },
    {
      "cell_type": "markdown",
      "metadata": {
        "id": "GIvPJkBat51R"
      },
      "source": [
        "#### Visualisasi C4.5"
      ]
    },
    {
      "cell_type": "code",
      "execution_count": 660,
      "metadata": {
        "colab": {
          "base_uri": "https://localhost:8080/",
          "height": 564
        },
        "id": "B2pRPcaAiVxX",
        "outputId": "f6e32577-6f51-4775-fcb7-eedcd00aa241"
      },
      "outputs": [
        {
          "output_type": "display_data",
          "data": {
            "text/plain": [
              "<Figure size 800x600 with 1 Axes>"
            ],
            "image/png": "[encoded data removed]"
          },
          "metadata": {}
        }
      ],
      "source": [
        "# Visualisasi confusion matrix\n",
        "plt.figure(figsize=(8, 6))\n",
        "sns.heatmap(cm, annot=True, fmt='d', cmap='Blues', cbar=False)\n",
        "plt.xlabel('Prediksi')\n",
        "plt.ylabel('Aktual')\n",
        "plt.title('Confusion Matrix - C4.5')\n",
        "plt.show()"
      ]
    },
    {
      "cell_type": "markdown",
      "metadata": {
        "id": "oQ0o9tPjirEp"
      },
      "source": [
        "### KNN"
      ]
    },
    {
      "cell_type": "code",
      "execution_count": 661,
      "metadata": {
        "colab": {
          "base_uri": "https://localhost:8080/"
        },
        "id": "y5M8aBr5ism_",
        "outputId": "788a592c-dd4c-40b0-ac2d-39eec27d7d56"
      },
      "outputs": [
        {
          "output_type": "stream",
          "name": "stdout",
          "text": [
            "Akurasi KNN: 90.00%\n",
            "ROC AUC Score KNN: 80.39%\n",
            "Confusion Matrix KNN:\n",
            " [[ 2  1]\n",
            " [ 1 16]]\n"
          ]
        }
      ],
      "source": [
        "# Menghitung jarak antara dua titik\n",
        "def euclidean_distance(x1, x2):\n",
        "    return np.sqrt(np.sum((x1 - x2) ** 2))\n",
        "\n",
        "# Mencari k tetangga terdekat dari data uji dalam data latih\n",
        "def get_nearest_neighbors(X_train, y_train, X_test, k):\n",
        "    distances = []\n",
        "    for i in range(X_train.shape[0]):\n",
        "        distance = euclidean_distance(X_test, X_train.iloc[i, :])\n",
        "        distances.append((distance, y_train.iloc[i]))\n",
        "    distances.sort(key=lambda x: x[0])\n",
        "    neighbors = distances[:k]\n",
        "    return neighbors\n",
        "\n",
        "# Melakukan prediksi kelas berdasarkan k tetangga terdekat\n",
        "def predict(X_train, y_train, X_test, k):\n",
        "    neighbors = get_nearest_neighbors(X_train, y_train, X_test, k)\n",
        "    labels = [neighbor[1] for neighbor in neighbors]\n",
        "    predicted_label = max(set(labels), key=labels.count)\n",
        "    return predicted_label\n",
        "\n",
        "# Melakukan prediksi untuk seluruh data uji\n",
        "def knn_predict(X_train, y_train, X_test, k):\n",
        "    y_pred = []\n",
        "    for i in range(X_test.shape[0]):\n",
        "        predicted_label = predict(X_train, y_train, X_test.iloc[i, :], k)\n",
        "        y_pred.append(predicted_label)\n",
        "    return y_pred\n",
        "\n",
        "k = 3  # Jumlah tetangga terdekat yang digunakan\n",
        "y_pred = knn_predict(X_train, y_train, X_test, k)\n",
        "\n",
        "# Menghitung akurasi\n",
        "accuracy = accuracy_score(y_test, y_pred)\n",
        "print(\"Akurasi KNN: {:.2%}\".format(accuracy))\n",
        "\n",
        "# Menghitung ROC AUC\n",
        "roc_auc = roc_auc_score(y_test, y_pred)\n",
        "print(\"ROC AUC Score KNN: {:.2%}\".format(roc_auc))\n",
        "\n",
        "# Menghitung Confusion Matrix\n",
        "cm = confusion_matrix(y_test, y_pred)\n",
        "print(\"Confusion Matrix KNN:\\n\", cm)\n"
      ]
    },
    {
      "cell_type": "markdown",
      "source": [
        "Hasil evaluasi performa yang lumayan baik ini dapat disebabkan oleh beberapa faktor seperti jumlah tetangga yang dipilih pada model KNN, kualitas dan karakteristik fitur-fitur pada dataset, dan distribusi data yang tidak merata."
      ],
      "metadata": {
        "id": "bW3HiSGbEOBj"
      }
    },
    {
      "cell_type": "code",
      "source": [
        "TP = cm[0][0]\n",
        "FP = cm[0][1]\n",
        "FN = cm[1][0]\n",
        "TN = cm[1][1]\n",
        "\n",
        "# Cetak nilai TP, FP, FN, dan TN\n",
        "print(\"True positive (TP)  :\", TP)\n",
        "print(\"False positive (FP) :\", FP)\n",
        "print(\"False negative (FN) :\", FN)\n",
        "print(\"True negative (TN)  :\", TN)\n",
        "print('')\n",
        "\n",
        "precision = TP / (TP+FP)\n",
        "recall = TP / (TP+FN)\n",
        "f1 = (2 * precision * recall) / (precision + recall)\n",
        "accuracy = (TP + TN) / (TP + FN + TN + FP)\n",
        "specificity = TN / (TN + FP)\n",
        "\n",
        "print('precision = ', precision * 100, '%')\n",
        "print('recall = ', recall * 100, '%')\n",
        "print('f1 = ', f1 * 100, '%')\n",
        "print('accuracy = ', accuracy * 100, '%')\n",
        "print('specificity = ', specificity * 100, '%')\n"
      ],
      "metadata": {
        "colab": {
          "base_uri": "https://localhost:8080/"
        },
        "outputId": "75cf8981-f106-4224-ef96-6626fe609715",
        "id": "_D5vu6n2XOGY"
      },
      "execution_count": 662,
      "outputs": [
        {
          "output_type": "stream",
          "name": "stdout",
          "text": [
            "True positive (TP)  : 2\n",
            "False positive (FP) : 1\n",
            "False negative (FN) : 1\n",
            "True negative (TN)  : 16\n",
            "\n",
            "precision =  66.66666666666666 %\n",
            "recall =  66.66666666666666 %\n",
            "f1 =  66.66666666666666 %\n",
            "accuracy =  90.0 %\n",
            "specificity =  94.11764705882352 %\n"
          ]
        }
      ]
    },
    {
      "cell_type": "markdown",
      "metadata": {
        "id": "YU_byiAstzBZ"
      },
      "source": [
        "#### Visualisasi KNN"
      ]
    },
    {
      "cell_type": "code",
      "execution_count": 663,
      "metadata": {
        "colab": {
          "base_uri": "https://localhost:8080/",
          "height": 472
        },
        "id": "EGQRbOwsrcfQ",
        "outputId": "52738161-b0c3-46a3-9985-ff15d5161afc"
      },
      "outputs": [
        {
          "output_type": "display_data",
          "data": {
            "text/plain": [
              "<Figure size 640x480 with 2 Axes>"
            ],
            "image/png": "[encoded data removed]"
          },
          "metadata": {}
        }
      ],
      "source": [
        "# Membuat Confusion Matrix\n",
        "cm = confusion_matrix(y_test, y_pred)\n",
        "\n",
        "# Menyediakan label untuk sumbu x dan y pada Confusion Matrix\n",
        "labels = np.unique(y_test)\n",
        "sns.heatmap(cm, annot=True, cmap=\"Blues\", fmt=\"d\", xticklabels=labels, yticklabels=labels)\n",
        "\n",
        "# Menyeting label pada sumbu x dan y pada Confusion Matrix\n",
        "plt.xlabel('Predicted Labels')\n",
        "plt.ylabel('True Labels')\n",
        "\n",
        "# Menyeting judul pada Confusion Matrix\n",
        "plt.title('Confusion Matrix - KNN')\n",
        "\n",
        "# Menampilkan Confusion Matrix\n",
        "plt.show()\n"
      ]
    },
    {
      "cell_type": "markdown",
      "metadata": {
        "id": "_GWEavi3j7Hs"
      },
      "source": [
        "### Naive Bayes"
      ]
    },
    {
      "cell_type": "code",
      "execution_count": 664,
      "metadata": {
        "id": "enhhB29dj8lc",
        "colab": {
          "base_uri": "https://localhost:8080/"
        },
        "outputId": "3ce4da0c-8913-42aa-8cc1-8707ce381eb7"
      },
      "outputs": [
        {
          "output_type": "stream",
          "name": "stdout",
          "text": [
            "Akurasi Naive Bayes: 15.00%\n",
            "ROC AUC: 50.00%\n",
            "Confusion Matrix:\n",
            "[[ 3  0]\n",
            " [17  0]]\n"
          ]
        }
      ],
      "source": [
        "# Melakukan prediksi kelas menggunakan algoritma Naive Bayes\n",
        "def predict(X_train, y_train, X_test):\n",
        "    predicted_labels = []\n",
        "    prior = calculate_prior(y_train)\n",
        "    classes = np.unique(y_train)\n",
        "    for i in range(X_test.shape[0]):\n",
        "        sample = X_test.iloc[i, :]\n",
        "        posterior = {}\n",
        "        for cls in classes:\n",
        "            likelihood = 1\n",
        "            for feature in X_train.columns:\n",
        "                likelihood *= calculate_likelihood(X_train, y_train, sample[feature], cls).get(feature, 0)\n",
        "            posterior[cls] = prior[cls] * likelihood\n",
        "        predicted_label = max(posterior, key=posterior.get)\n",
        "        predicted_labels.append(predicted_label)\n",
        "    return predicted_labels\n",
        "\n",
        "# Menghitung ROC dan AUC\n",
        "def calculate_roc_auc(y_test, y_pred):\n",
        "    fpr, tpr, thresholds = roc_curve(y_test, y_pred)\n",
        "    roc_auc = auc(fpr, tpr)\n",
        "    return fpr, tpr, roc_auc\n",
        "\n",
        "# Menghitung confusion matrix\n",
        "def calculate_confusion_matrix(y_test, y_pred):\n",
        "    cm = confusion_matrix(y_test, y_pred)\n",
        "    return cm\n",
        "\n",
        "# serta melakukan prediksi dengan Naive Bayes dan menghitung ROC, AUC, dan confusion matrix\n",
        "# Bagi dataset menjadi train dan test set\n",
        "X_train, X_test, y_train, y_test = train_test_split(X, y, test_size=0.2, random_state=42)\n",
        "\n",
        "# Melakukan prediksi dengan Naive Bayes\n",
        "y_pred = predict(X_train, y_train, X_test)\n",
        "\n",
        "# Menghitung akurasi, ROC, AUC, dan confusion matrix\n",
        "accuracy = np.mean(np.array(y_pred) == np.array(y_test))\n",
        "fpr, tpr, roc_auc = calculate_roc_auc(y_test, y_pred)\n",
        "cm = calculate_confusion_matrix(y_test, y_pred)\n",
        "\n",
        "# Menampilkan hasil\n",
        "print(\"Akurasi Naive Bayes: {:.2%}\".format(accuracy))\n",
        "print(\"ROC AUC: {:.2%}\".format(roc_auc))\n",
        "print(\"Confusion Matrix:\\n{}\".format(cm))\n"
      ]
    },
    {
      "cell_type": "markdown",
      "source": [
        "Hasil evaluasi performa yang buruk ini dapat disebabkan oleh beberapa faktor seperti kualitas dan karakteristik fitur-fitur pada dataset, distribusi data yang tidak merata, atau kemungkinan adanya asumsi yang tidak valid dalam model Naive Bayes"
      ],
      "metadata": {
        "id": "rzuOwT-fFYnQ"
      }
    },
    {
      "cell_type": "code",
      "source": [
        "TP = cm[0][0]\n",
        "FP = cm[0][1]\n",
        "FN = cm[1][0]\n",
        "TN = cm[1][1]\n",
        "\n",
        "# Cetak nilai TP, FP, FN, dan TN\n",
        "print(\"True positive (TP)  :\", TP)\n",
        "print(\"False positive (FP) :\", FP)\n",
        "print(\"False negative (FN) :\", FN)\n",
        "print(\"True negative (TN)  :\", TN)\n",
        "print('')\n",
        "\n",
        "precision = TP / (TP+FP)\n",
        "recall = TP / (TP+FN)\n",
        "f1 = (2 * precision * recall) / (precision + recall)\n",
        "accuracy = (TP + TN) / (TP + FN + TN + FP)\n",
        "specificity = TN / (TN + FP)\n",
        "\n",
        "print('precision = ', precision * 100, '%')\n",
        "print('recall = ', recall * 100, '%')\n",
        "print('f1 = ', f1 * 100, '%')\n",
        "print('accuracy = ', accuracy * 100, '%')\n",
        "print('specificity = ', specificity * 100, '%')\n"
      ],
      "metadata": {
        "colab": {
          "base_uri": "https://localhost:8080/"
        },
        "id": "ay01boASRvSq",
        "outputId": "407b014b-b7d6-405b-df49-c67dc1a514ba"
      },
      "execution_count": 665,
      "outputs": [
        {
          "output_type": "stream",
          "name": "stdout",
          "text": [
            "True positive (TP)  : 3\n",
            "False positive (FP) : 0\n",
            "False negative (FN) : 17\n",
            "True negative (TN)  : 0\n",
            "\n",
            "precision =  100.0 %\n",
            "recall =  15.0 %\n",
            "f1 =  26.08695652173913 %\n",
            "accuracy =  15.0 %\n",
            "specificity =  nan %\n"
          ]
        },
        {
          "output_type": "stream",
          "name": "stderr",
          "text": [
            "<ipython-input-665-734418e2a172>:17: RuntimeWarning:\n",
            "\n",
            "invalid value encountered in long_scalars\n",
            "\n"
          ]
        }
      ]
    },
    {
      "cell_type": "markdown",
      "source": [
        "#### Visualisasi Naive Bayes"
      ],
      "metadata": {
        "id": "lMYvWyMu1GRa"
      }
    },
    {
      "cell_type": "code",
      "source": [
        "import itertools\n",
        "\n",
        "def plot_confusion_matrix(cm, classes, normalize=False, title='Confusion matrix', cmap=plt.cm.Blues):\n",
        "    \"\"\"\n",
        "    This function prints and plots the confusion matrix.\n",
        "    Normalization can be applied by setting `normalize=True`.\n",
        "    \"\"\"\n",
        "    if normalize:\n",
        "        cm = cm.astype('float') / cm.sum(axis=1)[:, np.newaxis]\n",
        "\n",
        "    plt.imshow(cm, interpolation='nearest', cmap=cmap)\n",
        "    plt.title(title)\n",
        "    plt.colorbar()\n",
        "    tick_marks = np.arange(len(classes))\n",
        "    plt.xticks(tick_marks, classes, rotation=45)\n",
        "    plt.yticks(tick_marks, classes)\n",
        "\n",
        "    fmt = '.2f' if normalize else 'd'\n",
        "    thresh = cm.max() / 2.\n",
        "    for i, j in itertools.product(range(cm.shape[0]), range(cm.shape[1])):\n",
        "        plt.text(j, i, format(cm[i, j], fmt),\n",
        "                 horizontalalignment=\"center\",\n",
        "                 color=\"white\" if cm[i, j] > thresh else \"black\")\n",
        "\n",
        "    plt.tight_layout()\n",
        "    plt.ylabel('True label')\n",
        "    plt.xlabel('Predicted label')\n",
        "\n",
        "# Plot non-normalized confusion matrix\n",
        "plt.figure()\n",
        "plot_confusion_matrix(cm, classes=['Not base_year_2022', 'base_year_2022'], title='Confusion matrix, without normalization')\n",
        "\n",
        "# Plot normalized confusion matrix\n",
        "plt.figure()\n",
        "plot_confusion_matrix(cm, classes=['Not base_year_2022', 'base_year_2022'], normalize=True, title='Normalized confusion matrix')\n",
        "\n",
        "plt.show()\n"
      ],
      "metadata": {
        "colab": {
          "base_uri": "https://localhost:8080/",
          "height": 995
        },
        "id": "TJ6XN7DD0Wns",
        "outputId": "03c975b7-93ba-4332-8438-a9c7684d705b"
      },
      "execution_count": 666,
      "outputs": [
        {
          "output_type": "display_data",
          "data": {
            "text/plain": [
              "<Figure size 640x480 with 2 Axes>"
            ],
            "image/png": "[encoded data removed]"
          },
          "metadata": {}
        },
        {
          "output_type": "display_data",
          "data": {
            "text/plain": [
              "<Figure size 640x480 with 2 Axes>"
            ],
            "image/png": "[encoded data removed]"
          },
          "metadata": {}
        }
      ]
    },
    {
      "cell_type": "markdown",
      "source": [
        "## Deployment"
      ],
      "metadata": {
        "id": "rd63IQOs1SoT"
      }
    },
    {
      "cell_type": "code",
      "source": [
        "df.iloc[:-1:].to_csv('Supervised.csv', index=False)\n",
        "df1.iloc[:-1:].to_csv('Supervised-Awal.csv', index=False)"
      ],
      "metadata": {
        "id": "7RqtKJJs1U4R"
      },
      "execution_count": 667,
      "outputs": []
    },
    {
      "cell_type": "markdown",
      "source": [
        "# **Unsupervised Learning**"
      ],
      "metadata": {
        "id": "RbZget5nhBRq"
      }
    },
    {
      "cell_type": "markdown",
      "source": [
        "## Bussines Understanding\n",
        "\n",
        "\n"
      ],
      "metadata": {
        "id": "xaNEpb_JKXfs"
      }
    },
    {
      "cell_type": "markdown",
      "source": [
        "Country Data adalah kumpulan data yang berisi informasi tentang karakteristik ekonomi dan kesehatan suatu negara.\n",
        "\n",
        "Dataset ini dapat memberikan informasi yang berharga bagi pemerintah, organisasi internasional, dan peneliti dalam pengambilan keputusan dan perencanaan strategis di bidang ekonomi dan kesehatan. Beberapa contoh penggunaan dataset country-data adalah dalam analisis kesehatan global, analisis ekonomi dan keuangan, serta pembuatan kebijakan publik.\n",
        "\n",
        "Tujuan dari unsupervised learning data ini adalah untuk mengkategorikan negara menggunakan faktor sosial-ekonomi dan kesehatan yang menentukan pembangunan negara secara keseluruhan."
      ],
      "metadata": {
        "id": "0Wi7oHBkMIZ0"
      }
    },
    {
      "cell_type": "markdown",
      "source": [
        "Beberapa pertanyaan yang dapat dijawab dengan menggunakan dataset ini adalah:\n",
        "\n",
        "1. Bagaimana karakteristik sosial ekonomi yang membedakan antara negara-negara maju dan negara-negara berkembang?\n",
        "2. Apa faktor-faktor yang berkontribusi pada keberhasilan suatu negara dalam hal ekonomi, kesehatan, dan pendidikan?\n",
        "3. Bagaimana perbedaan antara negara-negara yang berbeda dalam hal demografi, sosial, ekonomi, dan lingkungan?\n",
        "4. Apakah ada kelompok negara yang memiliki karakteristik serupa?\n",
        "\n",
        "Dalam pengolahan data ini, dapat digunakan teknik-teknik unsupervised learning seperti clustering dan dimensionality reduction untuk menemukan kelompok-kelompok negara yang memiliki karakteristik serupa dan memberikan insight yang berguna bagi pengambilan keputusan. Analisis juga dapat dilakukan untuk mengidentifikasi faktor-faktor yang berpengaruh terhadap pertumbuhan ekonomi, kesehatan, dan pendidikan suatu negara. Dengan demikian, hasil analisis dapat digunakan sebagai dasar untuk mengembangkan strategi yang lebih efektif untuk membantu negara-negara dalam mengatasi tantangan yang dihadapi.\n",
        "\n",
        "\n",
        "\n",
        "\n"
      ],
      "metadata": {
        "id": "javMgAbwFZl7"
      }
    },
    {
      "cell_type": "markdown",
      "source": [
        "## Data Understanding"
      ],
      "metadata": {
        "id": "RUzXD2YsMKe0"
      }
    },
    {
      "cell_type": "markdown",
      "source": [
        "### Penjelasan Kolom"
      ],
      "metadata": {
        "id": "CAzi4QEuMXGy"
      }
    },
    {
      "cell_type": "markdown",
      "source": [
        "1. country : Nama negara\n",
        "\n",
        "2. child_mort: Tingkat kematian anak di bawah usia 5 tahun per 1000 kelahiran hidup.\n",
        "\n",
        "3. exports: Ekspor barang dan jasa per capita suatu negara dalam USD.\n",
        "\n",
        "4. health: Total pengeluaran kesehatan per capita suatu negara dalam USD.\n",
        "\n",
        "5. imports: Impor barang dan jasa per capita suatu negara dalam USD.\n",
        "\n",
        "6. income: Pendapatan bersih sesorang per capita suatu negara dalam USD.\n",
        "\n",
        "7. inflation: Tingkat inflasi tahunan suatu negara.\n",
        "\n",
        "8. life_expec: Rata-rata umur harapan hidup suatu negara.\n",
        "\n",
        "9. total_fer: Jumlah rata-rata anak yang akan dilahirkan oleh setiap wanita dalam usia reproduktif suatu negara.\n",
        "\n",
        "10. gdpp: Produk domestik bruto per capita suatu negara dalam USD."
      ],
      "metadata": {
        "id": "Dy80FUSRKsnp"
      }
    },
    {
      "cell_type": "markdown",
      "source": [
        "### Collect data"
      ],
      "metadata": {
        "id": "DYaMEpKuOTcQ"
      }
    },
    {
      "cell_type": "code",
      "source": [
        "link = 'https://drive.google.com/file/d/1JNLHPAEcvjEMKh30BVBRVursnhuc4Y1V/view?usp=sharing'\n",
        "\n",
        "linkfile =  \"https://drive.google.com/uc?id=1JNLHPAEcvjEMKh30BVBRVursnhuc4Y1V\"\n",
        "df = pd.read_csv(linkfile)\n",
        "df"
      ],
      "metadata": {
        "colab": {
          "base_uri": "https://localhost:8080/",
          "height": 424
        },
        "id": "EuOez8PaAlol",
        "outputId": "88d6c99c-3ca3-4a0e-945c-ded473326474"
      },
      "execution_count": 668,
      "outputs": [
        {
          "output_type": "execute_result",
          "data": {
            "text/plain": [
              "                 country  child_mort  exports  health  imports  income  \\\n",
              "0            Afghanistan        90.2     10.0    7.58     44.9    1610   \n",
              "1                Albania        16.6     28.0    6.55     48.6    9930   \n",
              "2                Algeria        27.3     38.4    4.17     31.4   12900   \n",
              "3                 Angola       119.0     62.3    2.85     42.9    5900   \n",
              "4    Antigua and Barbuda        10.3     45.5    6.03     58.9   19100   \n",
              "..                   ...         ...      ...     ...      ...     ...   \n",
              "162              Vanuatu        29.2     46.6    5.25     52.7    2950   \n",
              "163            Venezuela        17.1     28.5    4.91     17.6   16500   \n",
              "164              Vietnam        23.3     72.0    6.84     80.2    4490   \n",
              "165                Yemen        56.3     30.0    5.18     34.4    4480   \n",
              "166               Zambia        83.1     37.0    5.89     30.9    3280   \n",
              "\n",
              "     inflation  life_expec  total_fer   gdpp  \n",
              "0         9.44        56.2       5.82    553  \n",
              "1         4.49        76.3       1.65   4090  \n",
              "2        16.10        76.5       2.89   4460  \n",
              "3        22.40        60.1       6.16   3530  \n",
              "4         1.44        76.8       2.13  12200  \n",
              "..         ...         ...        ...    ...  \n",
              "162       2.62        63.0       3.50   2970  \n",
              "163      45.90        75.4       2.47  13500  \n",
              "164      12.10        73.1       1.95   1310  \n",
              "165      23.60        67.5       4.67   1310  \n",
              "166      14.00        52.0       5.40   1460  \n",
              "\n",
              "[167 rows x 10 columns]"
            ],
            "text/html": [
              "\n",
              "  <div id=\"df-62c4e5bf-02c3-4560-8cb4-86b6a6a2076f\">\n",
              "    <div class=\"colab-df-container\">\n",
              "      <div>\n",
              "<style scoped>\n",
              "    .dataframe tbody tr th:only-of-type {\n",
              "        vertical-align: middle;\n",
              "    }\n",
              "\n",
              "    .dataframe tbody tr th {\n",
              "        vertical-align: top;\n",
              "    }\n",
              "\n",
              "    .dataframe thead th {\n",
              "        text-align: right;\n",
              "    }\n",
              "</style>\n",
              "<table border=\"1\" class=\"dataframe\">\n",
              "  <thead>\n",
              "    <tr style=\"text-align: right;\">\n",
              "      <th></th>\n",
              "      <th>country</th>\n",
              "      <th>child_mort</th>\n",
              "      <th>exports</th>\n",
              "      <th>health</th>\n",
              "      <th>imports</th>\n",
              "      <th>income</th>\n",
              "      <th>inflation</th>\n",
              "      <th>life_expec</th>\n",
              "      <th>total_fer</th>\n",
              "      <th>gdpp</th>\n",
              "    </tr>\n",
              "  </thead>\n",
              "  <tbody>\n",
              "    <tr>\n",
              "      <th>0</th>\n",
              "      <td>Afghanistan</td>\n",
              "      <td>90.2</td>\n",
              "      <td>10.0</td>\n",
              "      <td>7.58</td>\n",
              "      <td>44.9</td>\n",
              "      <td>1610</td>\n",
              "      <td>9.44</td>\n",
              "      <td>56.2</td>\n",
              "      <td>5.82</td>\n",
              "      <td>553</td>\n",
              "    </tr>\n",
              "    <tr>\n",
              "      <th>1</th>\n",
              "      <td>Albania</td>\n",
              "      <td>16.6</td>\n",
              "      <td>28.0</td>\n",
              "      <td>6.55</td>\n",
              "      <td>48.6</td>\n",
              "      <td>9930</td>\n",
              "      <td>4.49</td>\n",
              "      <td>76.3</td>\n",
              "      <td>1.65</td>\n",
              "      <td>4090</td>\n",
              "    </tr>\n",
              "    <tr>\n",
              "      <th>2</th>\n",
              "      <td>Algeria</td>\n",
              "      <td>27.3</td>\n",
              "      <td>38.4</td>\n",
              "      <td>4.17</td>\n",
              "      <td>31.4</td>\n",
              "      <td>12900</td>\n",
              "      <td>16.10</td>\n",
              "      <td>76.5</td>\n",
              "      <td>2.89</td>\n",
              "      <td>4460</td>\n",
              "    </tr>\n",
              "    <tr>\n",
              "      <th>3</th>\n",
              "      <td>Angola</td>\n",
              "      <td>119.0</td>\n",
              "      <td>62.3</td>\n",
              "      <td>2.85</td>\n",
              "      <td>42.9</td>\n",
              "      <td>5900</td>\n",
              "      <td>22.40</td>\n",
              "      <td>60.1</td>\n",
              "      <td>6.16</td>\n",
              "      <td>3530</td>\n",
              "    </tr>\n",
              "    <tr>\n",
              "      <th>4</th>\n",
              "      <td>Antigua and Barbuda</td>\n",
              "      <td>10.3</td>\n",
              "      <td>45.5</td>\n",
              "      <td>6.03</td>\n",
              "      <td>58.9</td>\n",
              "      <td>19100</td>\n",
              "      <td>1.44</td>\n",
              "      <td>76.8</td>\n",
              "      <td>2.13</td>\n",
              "      <td>12200</td>\n",
              "    </tr>\n",
              "    <tr>\n",
              "      <th>...</th>\n",
              "      <td>...</td>\n",
              "      <td>...</td>\n",
              "      <td>...</td>\n",
              "      <td>...</td>\n",
              "      <td>...</td>\n",
              "      <td>...</td>\n",
              "      <td>...</td>\n",
              "      <td>...</td>\n",
              "      <td>...</td>\n",
              "      <td>...</td>\n",
              "    </tr>\n",
              "    <tr>\n",
              "      <th>162</th>\n",
              "      <td>Vanuatu</td>\n",
              "      <td>29.2</td>\n",
              "      <td>46.6</td>\n",
              "      <td>5.25</td>\n",
              "      <td>52.7</td>\n",
              "      <td>2950</td>\n",
              "      <td>2.62</td>\n",
              "      <td>63.0</td>\n",
              "      <td>3.50</td>\n",
              "      <td>2970</td>\n",
              "    </tr>\n",
              "    <tr>\n",
              "      <th>163</th>\n",
              "      <td>Venezuela</td>\n",
              "      <td>17.1</td>\n",
              "      <td>28.5</td>\n",
              "      <td>4.91</td>\n",
              "      <td>17.6</td>\n",
              "      <td>16500</td>\n",
              "      <td>45.90</td>\n",
              "      <td>75.4</td>\n",
              "      <td>2.47</td>\n",
              "      <td>13500</td>\n",
              "    </tr>\n",
              "    <tr>\n",
              "      <th>164</th>\n",
              "      <td>Vietnam</td>\n",
              "      <td>23.3</td>\n",
              "      <td>72.0</td>\n",
              "      <td>6.84</td>\n",
              "      <td>80.2</td>\n",
              "      <td>4490</td>\n",
              "      <td>12.10</td>\n",
              "      <td>73.1</td>\n",
              "      <td>1.95</td>\n",
              "      <td>1310</td>\n",
              "    </tr>\n",
              "    <tr>\n",
              "      <th>165</th>\n",
              "      <td>Yemen</td>\n",
              "      <td>56.3</td>\n",
              "      <td>30.0</td>\n",
              "      <td>5.18</td>\n",
              "      <td>34.4</td>\n",
              "      <td>4480</td>\n",
              "      <td>23.60</td>\n",
              "      <td>67.5</td>\n",
              "      <td>4.67</td>\n",
              "      <td>1310</td>\n",
              "    </tr>\n",
              "    <tr>\n",
              "      <th>166</th>\n",
              "      <td>Zambia</td>\n",
              "      <td>83.1</td>\n",
              "      <td>37.0</td>\n",
              "      <td>5.89</td>\n",
              "      <td>30.9</td>\n",
              "      <td>3280</td>\n",
              "      <td>14.00</td>\n",
              "      <td>52.0</td>\n",
              "      <td>5.40</td>\n",
              "      <td>1460</td>\n",
              "    </tr>\n",
              "  </tbody>\n",
              "</table>\n",
              "<p>167 rows × 10 columns</p>\n",
              "</div>\n",
              "      <button class=\"colab-df-convert\" onclick=\"convertToInteractive('df-62c4e5bf-02c3-4560-8cb4-86b6a6a2076f')\"\n",
              "              title=\"Convert this dataframe to an interactive table.\"\n",
              "              style=\"display:none;\">\n",
              "        \n",
              "  <svg xmlns=\"http://www.w3.org/2000/svg\" height=\"24px\"viewBox=\"0 0 24 24\"\n",
              "       width=\"24px\">\n",
              "    <path d=\"M0 0h24v24H0V0z\" fill=\"none\"/>\n",
              "    <path d=\"M18.56 5.44l.94 2.06.94-2.06 2.06-.94-2.06-.94-.94-2.06-.94 2.06-2.06.94zm-11 1L8.5 8.5l.94-2.06 2.06-.94-2.06-.94L8.5 2.5l-.94 2.06-2.06.94zm10 10l.94 2.06.94-2.06 2.06-.94-2.06-.94-.94-2.06-.94 2.06-2.06.94z\"/><path d=\"M17.41 7.96l-1.37-1.37c-.4-.4-.92-.59-1.43-.59-.52 0-1.04.2-1.43.59L10.3 9.45l-7.72 7.72c-.78.78-.78 2.05 0 2.83L4 21.41c.39.39.9.59 1.41.59.51 0 1.02-.2 1.41-.59l7.78-7.78 2.81-2.81c.8-.78.8-2.07 0-2.86zM5.41 20L4 18.59l7.72-7.72 1.47 1.35L5.41 20z\"/>\n",
              "  </svg>\n",
              "      </button>\n",
              "      \n",
              "  <style>\n",
              "    .colab-df-container {\n",
              "      display:flex;\n",
              "      flex-wrap:wrap;\n",
              "      gap: 12px;\n",
              "    }\n",
              "\n",
              "    .colab-df-convert {\n",
              "      background-color: #E8F0FE;\n",
              "      border: none;\n",
              "      border-radius: 50%;\n",
              "      cursor: pointer;\n",
              "      display: none;\n",
              "      fill: #1967D2;\n",
              "      height: 32px;\n",
              "      padding: 0 0 0 0;\n",
              "      width: 32px;\n",
              "    }\n",
              "\n",
              "    .colab-df-convert:hover {\n",
              "      background-color: #E2EBFA;\n",
              "      box-shadow: 0px 1px 2px rgba(60, 64, 67, 0.3), 0px 1px 3px 1px rgba(60, 64, 67, 0.15);\n",
              "      fill: #174EA6;\n",
              "    }\n",
              "\n",
              "    [theme=dark] .colab-df-convert {\n",
              "      background-color: #3B4455;\n",
              "      fill: #D2E3FC;\n",
              "    }\n",
              "\n",
              "    [theme=dark] .colab-df-convert:hover {\n",
              "      background-color: #434B5C;\n",
              "      box-shadow: 0px 1px 3px 1px rgba(0, 0, 0, 0.15);\n",
              "      filter: drop-shadow(0px 1px 2px rgba(0, 0, 0, 0.3));\n",
              "      fill: #FFFFFF;\n",
              "    }\n",
              "  </style>\n",
              "\n",
              "      <script>\n",
              "        const buttonEl =\n",
              "          document.querySelector('#df-62c4e5bf-02c3-4560-8cb4-86b6a6a2076f button.colab-df-convert');\n",
              "        buttonEl.style.display =\n",
              "          google.colab.kernel.accessAllowed ? 'block' : 'none';\n",
              "\n",
              "        async function convertToInteractive(key) {\n",
              "          const element = document.querySelector('#df-62c4e5bf-02c3-4560-8cb4-86b6a6a2076f');\n",
              "          const dataTable =\n",
              "            await google.colab.kernel.invokeFunction('convertToInteractive',\n",
              "                                                     [key], {});\n",
              "          if (!dataTable) return;\n",
              "\n",
              "          const docLinkHtml = 'Like what you see? Visit the ' +\n",
              "            '<a target=\"_blank\" href=https://colab.research.google.com/notebooks/data_table.ipynb>data table notebook</a>'\n",
              "            + ' to learn more about interactive tables.';\n",
              "          element.innerHTML = '';\n",
              "          dataTable['output_type'] = 'display_data';\n",
              "          await google.colab.output.renderOutput(dataTable, element);\n",
              "          const docLink = document.createElement('div');\n",
              "          docLink.innerHTML = docLinkHtml;\n",
              "          element.appendChild(docLink);\n",
              "        }\n",
              "      </script>\n",
              "    </div>\n",
              "  </div>\n",
              "  "
            ]
          },
          "metadata": {},
          "execution_count": 668
        }
      ]
    },
    {
      "cell_type": "code",
      "source": [
        "df.info()"
      ],
      "metadata": {
        "colab": {
          "base_uri": "https://localhost:8080/"
        },
        "id": "336wUB15OfXr",
        "outputId": "81c57502-2a29-4a78-ddb5-f38dfdc6142c"
      },
      "execution_count": 669,
      "outputs": [
        {
          "output_type": "stream",
          "name": "stdout",
          "text": [
            "<class 'pandas.core.frame.DataFrame'>\n",
            "RangeIndex: 167 entries, 0 to 166\n",
            "Data columns (total 10 columns):\n",
            " #   Column      Non-Null Count  Dtype  \n",
            "---  ------      --------------  -----  \n",
            " 0   country     167 non-null    object \n",
            " 1   child_mort  167 non-null    float64\n",
            " 2   exports     167 non-null    float64\n",
            " 3   health      167 non-null    float64\n",
            " 4   imports     167 non-null    float64\n",
            " 5   income      167 non-null    int64  \n",
            " 6   inflation   167 non-null    float64\n",
            " 7   life_expec  167 non-null    float64\n",
            " 8   total_fer   167 non-null    float64\n",
            " 9   gdpp        167 non-null    int64  \n",
            "dtypes: float64(7), int64(2), object(1)\n",
            "memory usage: 13.2+ KB\n"
          ]
        }
      ]
    },
    {
      "cell_type": "code",
      "source": [
        "df.describe"
      ],
      "metadata": {
        "colab": {
          "base_uri": "https://localhost:8080/"
        },
        "id": "M1zxkQNvQNoJ",
        "outputId": "d1ee383f-498f-4eb6-c409-1107df61d61d"
      },
      "execution_count": 670,
      "outputs": [
        {
          "output_type": "execute_result",
          "data": {
            "text/plain": [
              "<bound method NDFrame.describe of                  country  child_mort  exports  health  imports  income  \\\n",
              "0            Afghanistan        90.2     10.0    7.58     44.9    1610   \n",
              "1                Albania        16.6     28.0    6.55     48.6    9930   \n",
              "2                Algeria        27.3     38.4    4.17     31.4   12900   \n",
              "3                 Angola       119.0     62.3    2.85     42.9    5900   \n",
              "4    Antigua and Barbuda        10.3     45.5    6.03     58.9   19100   \n",
              "..                   ...         ...      ...     ...      ...     ...   \n",
              "162              Vanuatu        29.2     46.6    5.25     52.7    2950   \n",
              "163            Venezuela        17.1     28.5    4.91     17.6   16500   \n",
              "164              Vietnam        23.3     72.0    6.84     80.2    4490   \n",
              "165                Yemen        56.3     30.0    5.18     34.4    4480   \n",
              "166               Zambia        83.1     37.0    5.89     30.9    3280   \n",
              "\n",
              "     inflation  life_expec  total_fer   gdpp  \n",
              "0         9.44        56.2       5.82    553  \n",
              "1         4.49        76.3       1.65   4090  \n",
              "2        16.10        76.5       2.89   4460  \n",
              "3        22.40        60.1       6.16   3530  \n",
              "4         1.44        76.8       2.13  12200  \n",
              "..         ...         ...        ...    ...  \n",
              "162       2.62        63.0       3.50   2970  \n",
              "163      45.90        75.4       2.47  13500  \n",
              "164      12.10        73.1       1.95   1310  \n",
              "165      23.60        67.5       4.67   1310  \n",
              "166      14.00        52.0       5.40   1460  \n",
              "\n",
              "[167 rows x 10 columns]>"
            ]
          },
          "metadata": {},
          "execution_count": 670
        }
      ]
    },
    {
      "cell_type": "code",
      "source": [
        "df.describe()"
      ],
      "metadata": {
        "colab": {
          "base_uri": "https://localhost:8080/",
          "height": 300
        },
        "id": "wGKzdTODOk__",
        "outputId": "30ea9382-9dac-4505-ab60-f35df7655903"
      },
      "execution_count": 671,
      "outputs": [
        {
          "output_type": "execute_result",
          "data": {
            "text/plain": [
              "       child_mort     exports      health     imports         income  \\\n",
              "count  167.000000  167.000000  167.000000  167.000000     167.000000   \n",
              "mean    38.270060   41.108976    6.815689   46.890215   17144.688623   \n",
              "std     40.328931   27.412010    2.746837   24.209589   19278.067698   \n",
              "min      2.600000    0.109000    1.810000    0.065900     609.000000   \n",
              "25%      8.250000   23.800000    4.920000   30.200000    3355.000000   \n",
              "50%     19.300000   35.000000    6.320000   43.300000    9960.000000   \n",
              "75%     62.100000   51.350000    8.600000   58.750000   22800.000000   \n",
              "max    208.000000  200.000000   17.900000  174.000000  125000.000000   \n",
              "\n",
              "        inflation  life_expec   total_fer           gdpp  \n",
              "count  167.000000  167.000000  167.000000     167.000000  \n",
              "mean     7.781832   70.555689    2.947964   12964.155689  \n",
              "std     10.570704    8.893172    1.513848   18328.704809  \n",
              "min     -4.210000   32.100000    1.150000     231.000000  \n",
              "25%      1.810000   65.300000    1.795000    1330.000000  \n",
              "50%      5.390000   73.100000    2.410000    4660.000000  \n",
              "75%     10.750000   76.800000    3.880000   14050.000000  \n",
              "max    104.000000   82.800000    7.490000  105000.000000  "
            ],
            "text/html": [
              "\n",
              "  <div id=\"df-2e666a43-b0bc-4707-ac7d-681125bfcf47\">\n",
              "    <div class=\"colab-df-container\">\n",
              "      <div>\n",
              "<style scoped>\n",
              "    .dataframe tbody tr th:only-of-type {\n",
              "        vertical-align: middle;\n",
              "    }\n",
              "\n",
              "    .dataframe tbody tr th {\n",
              "        vertical-align: top;\n",
              "    }\n",
              "\n",
              "    .dataframe thead th {\n",
              "        text-align: right;\n",
              "    }\n",
              "</style>\n",
              "<table border=\"1\" class=\"dataframe\">\n",
              "  <thead>\n",
              "    <tr style=\"text-align: right;\">\n",
              "      <th></th>\n",
              "      <th>child_mort</th>\n",
              "      <th>exports</th>\n",
              "      <th>health</th>\n",
              "      <th>imports</th>\n",
              "      <th>income</th>\n",
              "      <th>inflation</th>\n",
              "      <th>life_expec</th>\n",
              "      <th>total_fer</th>\n",
              "      <th>gdpp</th>\n",
              "    </tr>\n",
              "  </thead>\n",
              "  <tbody>\n",
              "    <tr>\n",
              "      <th>count</th>\n",
              "      <td>167.000000</td>\n",
              "      <td>167.000000</td>\n",
              "      <td>167.000000</td>\n",
              "      <td>167.000000</td>\n",
              "      <td>167.000000</td>\n",
              "      <td>167.000000</td>\n",
              "      <td>167.000000</td>\n",
              "      <td>167.000000</td>\n",
              "      <td>167.000000</td>\n",
              "    </tr>\n",
              "    <tr>\n",
              "      <th>mean</th>\n",
              "      <td>38.270060</td>\n",
              "      <td>41.108976</td>\n",
              "      <td>6.815689</td>\n",
              "      <td>46.890215</td>\n",
              "      <td>17144.688623</td>\n",
              "      <td>7.781832</td>\n",
              "      <td>70.555689</td>\n",
              "      <td>2.947964</td>\n",
              "      <td>12964.155689</td>\n",
              "    </tr>\n",
              "    <tr>\n",
              "      <th>std</th>\n",
              "      <td>40.328931</td>\n",
              "      <td>27.412010</td>\n",
              "      <td>2.746837</td>\n",
              "      <td>24.209589</td>\n",
              "      <td>19278.067698</td>\n",
              "      <td>10.570704</td>\n",
              "      <td>8.893172</td>\n",
              "      <td>1.513848</td>\n",
              "      <td>18328.704809</td>\n",
              "    </tr>\n",
              "    <tr>\n",
              "      <th>min</th>\n",
              "      <td>2.600000</td>\n",
              "      <td>0.109000</td>\n",
              "      <td>1.810000</td>\n",
              "      <td>0.065900</td>\n",
              "      <td>609.000000</td>\n",
              "      <td>-4.210000</td>\n",
              "      <td>32.100000</td>\n",
              "      <td>1.150000</td>\n",
              "      <td>231.000000</td>\n",
              "    </tr>\n",
              "    <tr>\n",
              "      <th>25%</th>\n",
              "      <td>8.250000</td>\n",
              "      <td>23.800000</td>\n",
              "      <td>4.920000</td>\n",
              "      <td>30.200000</td>\n",
              "      <td>3355.000000</td>\n",
              "      <td>1.810000</td>\n",
              "      <td>65.300000</td>\n",
              "      <td>1.795000</td>\n",
              "      <td>1330.000000</td>\n",
              "    </tr>\n",
              "    <tr>\n",
              "      <th>50%</th>\n",
              "      <td>19.300000</td>\n",
              "      <td>35.000000</td>\n",
              "      <td>6.320000</td>\n",
              "      <td>43.300000</td>\n",
              "      <td>9960.000000</td>\n",
              "      <td>5.390000</td>\n",
              "      <td>73.100000</td>\n",
              "      <td>2.410000</td>\n",
              "      <td>4660.000000</td>\n",
              "    </tr>\n",
              "    <tr>\n",
              "      <th>75%</th>\n",
              "      <td>62.100000</td>\n",
              "      <td>51.350000</td>\n",
              "      <td>8.600000</td>\n",
              "      <td>58.750000</td>\n",
              "      <td>22800.000000</td>\n",
              "      <td>10.750000</td>\n",
              "      <td>76.800000</td>\n",
              "      <td>3.880000</td>\n",
              "      <td>14050.000000</td>\n",
              "    </tr>\n",
              "    <tr>\n",
              "      <th>max</th>\n",
              "      <td>208.000000</td>\n",
              "      <td>200.000000</td>\n",
              "      <td>17.900000</td>\n",
              "      <td>174.000000</td>\n",
              "      <td>125000.000000</td>\n",
              "      <td>104.000000</td>\n",
              "      <td>82.800000</td>\n",
              "      <td>7.490000</td>\n",
              "      <td>105000.000000</td>\n",
              "    </tr>\n",
              "  </tbody>\n",
              "</table>\n",
              "</div>\n",
              "      <button class=\"colab-df-convert\" onclick=\"convertToInteractive('df-2e666a43-b0bc-4707-ac7d-681125bfcf47')\"\n",
              "              title=\"Convert this dataframe to an interactive table.\"\n",
              "              style=\"display:none;\">\n",
              "        \n",
              "  <svg xmlns=\"http://www.w3.org/2000/svg\" height=\"24px\"viewBox=\"0 0 24 24\"\n",
              "       width=\"24px\">\n",
              "    <path d=\"M0 0h24v24H0V0z\" fill=\"none\"/>\n",
              "    <path d=\"M18.56 5.44l.94 2.06.94-2.06 2.06-.94-2.06-.94-.94-2.06-.94 2.06-2.06.94zm-11 1L8.5 8.5l.94-2.06 2.06-.94-2.06-.94L8.5 2.5l-.94 2.06-2.06.94zm10 10l.94 2.06.94-2.06 2.06-.94-2.06-.94-.94-2.06-.94 2.06-2.06.94z\"/><path d=\"M17.41 7.96l-1.37-1.37c-.4-.4-.92-.59-1.43-.59-.52 0-1.04.2-1.43.59L10.3 9.45l-7.72 7.72c-.78.78-.78 2.05 0 2.83L4 21.41c.39.39.9.59 1.41.59.51 0 1.02-.2 1.41-.59l7.78-7.78 2.81-2.81c.8-.78.8-2.07 0-2.86zM5.41 20L4 18.59l7.72-7.72 1.47 1.35L5.41 20z\"/>\n",
              "  </svg>\n",
              "      </button>\n",
              "      \n",
              "  <style>\n",
              "    .colab-df-container {\n",
              "      display:flex;\n",
              "      flex-wrap:wrap;\n",
              "      gap: 12px;\n",
              "    }\n",
              "\n",
              "    .colab-df-convert {\n",
              "      background-color: #E8F0FE;\n",
              "      border: none;\n",
              "      border-radius: 50%;\n",
              "      cursor: pointer;\n",
              "      display: none;\n",
              "      fill: #1967D2;\n",
              "      height: 32px;\n",
              "      padding: 0 0 0 0;\n",
              "      width: 32px;\n",
              "    }\n",
              "\n",
              "    .colab-df-convert:hover {\n",
              "      background-color: #E2EBFA;\n",
              "      box-shadow: 0px 1px 2px rgba(60, 64, 67, 0.3), 0px 1px 3px 1px rgba(60, 64, 67, 0.15);\n",
              "      fill: #174EA6;\n",
              "    }\n",
              "\n",
              "    [theme=dark] .colab-df-convert {\n",
              "      background-color: #3B4455;\n",
              "      fill: #D2E3FC;\n",
              "    }\n",
              "\n",
              "    [theme=dark] .colab-df-convert:hover {\n",
              "      background-color: #434B5C;\n",
              "      box-shadow: 0px 1px 3px 1px rgba(0, 0, 0, 0.15);\n",
              "      filter: drop-shadow(0px 1px 2px rgba(0, 0, 0, 0.3));\n",
              "      fill: #FFFFFF;\n",
              "    }\n",
              "  </style>\n",
              "\n",
              "      <script>\n",
              "        const buttonEl =\n",
              "          document.querySelector('#df-2e666a43-b0bc-4707-ac7d-681125bfcf47 button.colab-df-convert');\n",
              "        buttonEl.style.display =\n",
              "          google.colab.kernel.accessAllowed ? 'block' : 'none';\n",
              "\n",
              "        async function convertToInteractive(key) {\n",
              "          const element = document.querySelector('#df-2e666a43-b0bc-4707-ac7d-681125bfcf47');\n",
              "          const dataTable =\n",
              "            await google.colab.kernel.invokeFunction('convertToInteractive',\n",
              "                                                     [key], {});\n",
              "          if (!dataTable) return;\n",
              "\n",
              "          const docLinkHtml = 'Like what you see? Visit the ' +\n",
              "            '<a target=\"_blank\" href=https://colab.research.google.com/notebooks/data_table.ipynb>data table notebook</a>'\n",
              "            + ' to learn more about interactive tables.';\n",
              "          element.innerHTML = '';\n",
              "          dataTable['output_type'] = 'display_data';\n",
              "          await google.colab.output.renderOutput(dataTable, element);\n",
              "          const docLink = document.createElement('div');\n",
              "          docLink.innerHTML = docLinkHtml;\n",
              "          element.appendChild(docLink);\n",
              "        }\n",
              "      </script>\n",
              "    </div>\n",
              "  </div>\n",
              "  "
            ]
          },
          "metadata": {},
          "execution_count": 671
        }
      ]
    },
    {
      "cell_type": "code",
      "source": [
        "df.head()"
      ],
      "metadata": {
        "colab": {
          "base_uri": "https://localhost:8080/",
          "height": 206
        },
        "id": "Wcevro8TC7AN",
        "outputId": "3a09787c-f4cd-4092-e5f8-f607bd8fef29"
      },
      "execution_count": 672,
      "outputs": [
        {
          "output_type": "execute_result",
          "data": {
            "text/plain": [
              "               country  child_mort  exports  health  imports  income  \\\n",
              "0          Afghanistan        90.2     10.0    7.58     44.9    1610   \n",
              "1              Albania        16.6     28.0    6.55     48.6    9930   \n",
              "2              Algeria        27.3     38.4    4.17     31.4   12900   \n",
              "3               Angola       119.0     62.3    2.85     42.9    5900   \n",
              "4  Antigua and Barbuda        10.3     45.5    6.03     58.9   19100   \n",
              "\n",
              "   inflation  life_expec  total_fer   gdpp  \n",
              "0       9.44        56.2       5.82    553  \n",
              "1       4.49        76.3       1.65   4090  \n",
              "2      16.10        76.5       2.89   4460  \n",
              "3      22.40        60.1       6.16   3530  \n",
              "4       1.44        76.8       2.13  12200  "
            ],
            "text/html": [
              "\n",
              "  <div id=\"df-88b0abbb-9964-401c-a481-1d0133bb4599\">\n",
              "    <div class=\"colab-df-container\">\n",
              "      <div>\n",
              "<style scoped>\n",
              "    .dataframe tbody tr th:only-of-type {\n",
              "        vertical-align: middle;\n",
              "    }\n",
              "\n",
              "    .dataframe tbody tr th {\n",
              "        vertical-align: top;\n",
              "    }\n",
              "\n",
              "    .dataframe thead th {\n",
              "        text-align: right;\n",
              "    }\n",
              "</style>\n",
              "<table border=\"1\" class=\"dataframe\">\n",
              "  <thead>\n",
              "    <tr style=\"text-align: right;\">\n",
              "      <th></th>\n",
              "      <th>country</th>\n",
              "      <th>child_mort</th>\n",
              "      <th>exports</th>\n",
              "      <th>health</th>\n",
              "      <th>imports</th>\n",
              "      <th>income</th>\n",
              "      <th>inflation</th>\n",
              "      <th>life_expec</th>\n",
              "      <th>total_fer</th>\n",
              "      <th>gdpp</th>\n",
              "    </tr>\n",
              "  </thead>\n",
              "  <tbody>\n",
              "    <tr>\n",
              "      <th>0</th>\n",
              "      <td>Afghanistan</td>\n",
              "      <td>90.2</td>\n",
              "      <td>10.0</td>\n",
              "      <td>7.58</td>\n",
              "      <td>44.9</td>\n",
              "      <td>1610</td>\n",
              "      <td>9.44</td>\n",
              "      <td>56.2</td>\n",
              "      <td>5.82</td>\n",
              "      <td>553</td>\n",
              "    </tr>\n",
              "    <tr>\n",
              "      <th>1</th>\n",
              "      <td>Albania</td>\n",
              "      <td>16.6</td>\n",
              "      <td>28.0</td>\n",
              "      <td>6.55</td>\n",
              "      <td>48.6</td>\n",
              "      <td>9930</td>\n",
              "      <td>4.49</td>\n",
              "      <td>76.3</td>\n",
              "      <td>1.65</td>\n",
              "      <td>4090</td>\n",
              "    </tr>\n",
              "    <tr>\n",
              "      <th>2</th>\n",
              "      <td>Algeria</td>\n",
              "      <td>27.3</td>\n",
              "      <td>38.4</td>\n",
              "      <td>4.17</td>\n",
              "      <td>31.4</td>\n",
              "      <td>12900</td>\n",
              "      <td>16.10</td>\n",
              "      <td>76.5</td>\n",
              "      <td>2.89</td>\n",
              "      <td>4460</td>\n",
              "    </tr>\n",
              "    <tr>\n",
              "      <th>3</th>\n",
              "      <td>Angola</td>\n",
              "      <td>119.0</td>\n",
              "      <td>62.3</td>\n",
              "      <td>2.85</td>\n",
              "      <td>42.9</td>\n",
              "      <td>5900</td>\n",
              "      <td>22.40</td>\n",
              "      <td>60.1</td>\n",
              "      <td>6.16</td>\n",
              "      <td>3530</td>\n",
              "    </tr>\n",
              "    <tr>\n",
              "      <th>4</th>\n",
              "      <td>Antigua and Barbuda</td>\n",
              "      <td>10.3</td>\n",
              "      <td>45.5</td>\n",
              "      <td>6.03</td>\n",
              "      <td>58.9</td>\n",
              "      <td>19100</td>\n",
              "      <td>1.44</td>\n",
              "      <td>76.8</td>\n",
              "      <td>2.13</td>\n",
              "      <td>12200</td>\n",
              "    </tr>\n",
              "  </tbody>\n",
              "</table>\n",
              "</div>\n",
              "      <button class=\"colab-df-convert\" onclick=\"convertToInteractive('df-88b0abbb-9964-401c-a481-1d0133bb4599')\"\n",
              "              title=\"Convert this dataframe to an interactive table.\"\n",
              "              style=\"display:none;\">\n",
              "        \n",
              "  <svg xmlns=\"http://www.w3.org/2000/svg\" height=\"24px\"viewBox=\"0 0 24 24\"\n",
              "       width=\"24px\">\n",
              "    <path d=\"M0 0h24v24H0V0z\" fill=\"none\"/>\n",
              "    <path d=\"M18.56 5.44l.94 2.06.94-2.06 2.06-.94-2.06-.94-.94-2.06-.94 2.06-2.06.94zm-11 1L8.5 8.5l.94-2.06 2.06-.94-2.06-.94L8.5 2.5l-.94 2.06-2.06.94zm10 10l.94 2.06.94-2.06 2.06-.94-2.06-.94-.94-2.06-.94 2.06-2.06.94z\"/><path d=\"M17.41 7.96l-1.37-1.37c-.4-.4-.92-.59-1.43-.59-.52 0-1.04.2-1.43.59L10.3 9.45l-7.72 7.72c-.78.78-.78 2.05 0 2.83L4 21.41c.39.39.9.59 1.41.59.51 0 1.02-.2 1.41-.59l7.78-7.78 2.81-2.81c.8-.78.8-2.07 0-2.86zM5.41 20L4 18.59l7.72-7.72 1.47 1.35L5.41 20z\"/>\n",
              "  </svg>\n",
              "      </button>\n",
              "      \n",
              "  <style>\n",
              "    .colab-df-container {\n",
              "      display:flex;\n",
              "      flex-wrap:wrap;\n",
              "      gap: 12px;\n",
              "    }\n",
              "\n",
              "    .colab-df-convert {\n",
              "      background-color: #E8F0FE;\n",
              "      border: none;\n",
              "      border-radius: 50%;\n",
              "      cursor: pointer;\n",
              "      display: none;\n",
              "      fill: #1967D2;\n",
              "      height: 32px;\n",
              "      padding: 0 0 0 0;\n",
              "      width: 32px;\n",
              "    }\n",
              "\n",
              "    .colab-df-convert:hover {\n",
              "      background-color: #E2EBFA;\n",
              "      box-shadow: 0px 1px 2px rgba(60, 64, 67, 0.3), 0px 1px 3px 1px rgba(60, 64, 67, 0.15);\n",
              "      fill: #174EA6;\n",
              "    }\n",
              "\n",
              "    [theme=dark] .colab-df-convert {\n",
              "      background-color: #3B4455;\n",
              "      fill: #D2E3FC;\n",
              "    }\n",
              "\n",
              "    [theme=dark] .colab-df-convert:hover {\n",
              "      background-color: #434B5C;\n",
              "      box-shadow: 0px 1px 3px 1px rgba(0, 0, 0, 0.15);\n",
              "      filter: drop-shadow(0px 1px 2px rgba(0, 0, 0, 0.3));\n",
              "      fill: #FFFFFF;\n",
              "    }\n",
              "  </style>\n",
              "\n",
              "      <script>\n",
              "        const buttonEl =\n",
              "          document.querySelector('#df-88b0abbb-9964-401c-a481-1d0133bb4599 button.colab-df-convert');\n",
              "        buttonEl.style.display =\n",
              "          google.colab.kernel.accessAllowed ? 'block' : 'none';\n",
              "\n",
              "        async function convertToInteractive(key) {\n",
              "          const element = document.querySelector('#df-88b0abbb-9964-401c-a481-1d0133bb4599');\n",
              "          const dataTable =\n",
              "            await google.colab.kernel.invokeFunction('convertToInteractive',\n",
              "                                                     [key], {});\n",
              "          if (!dataTable) return;\n",
              "\n",
              "          const docLinkHtml = 'Like what you see? Visit the ' +\n",
              "            '<a target=\"_blank\" href=https://colab.research.google.com/notebooks/data_table.ipynb>data table notebook</a>'\n",
              "            + ' to learn more about interactive tables.';\n",
              "          element.innerHTML = '';\n",
              "          dataTable['output_type'] = 'display_data';\n",
              "          await google.colab.output.renderOutput(dataTable, element);\n",
              "          const docLink = document.createElement('div');\n",
              "          docLink.innerHTML = docLinkHtml;\n",
              "          element.appendChild(docLink);\n",
              "        }\n",
              "      </script>\n",
              "    </div>\n",
              "  </div>\n",
              "  "
            ]
          },
          "metadata": {},
          "execution_count": 672
        }
      ]
    },
    {
      "cell_type": "code",
      "source": [
        "df.tail()"
      ],
      "metadata": {
        "colab": {
          "base_uri": "https://localhost:8080/",
          "height": 206
        },
        "id": "9O8lqQswQW-2",
        "outputId": "bbbea4e3-79b6-4ca2-bca6-dfff08c62a6e"
      },
      "execution_count": 673,
      "outputs": [
        {
          "output_type": "execute_result",
          "data": {
            "text/plain": [
              "       country  child_mort  exports  health  imports  income  inflation  \\\n",
              "162    Vanuatu        29.2     46.6    5.25     52.7    2950       2.62   \n",
              "163  Venezuela        17.1     28.5    4.91     17.6   16500      45.90   \n",
              "164    Vietnam        23.3     72.0    6.84     80.2    4490      12.10   \n",
              "165      Yemen        56.3     30.0    5.18     34.4    4480      23.60   \n",
              "166     Zambia        83.1     37.0    5.89     30.9    3280      14.00   \n",
              "\n",
              "     life_expec  total_fer   gdpp  \n",
              "162        63.0       3.50   2970  \n",
              "163        75.4       2.47  13500  \n",
              "164        73.1       1.95   1310  \n",
              "165        67.5       4.67   1310  \n",
              "166        52.0       5.40   1460  "
            ],
            "text/html": [
              "\n",
              "  <div id=\"df-ae81a36d-75eb-4aa6-998e-72d64dfe20ec\">\n",
              "    <div class=\"colab-df-container\">\n",
              "      <div>\n",
              "<style scoped>\n",
              "    .dataframe tbody tr th:only-of-type {\n",
              "        vertical-align: middle;\n",
              "    }\n",
              "\n",
              "    .dataframe tbody tr th {\n",
              "        vertical-align: top;\n",
              "    }\n",
              "\n",
              "    .dataframe thead th {\n",
              "        text-align: right;\n",
              "    }\n",
              "</style>\n",
              "<table border=\"1\" class=\"dataframe\">\n",
              "  <thead>\n",
              "    <tr style=\"text-align: right;\">\n",
              "      <th></th>\n",
              "      <th>country</th>\n",
              "      <th>child_mort</th>\n",
              "      <th>exports</th>\n",
              "      <th>health</th>\n",
              "      <th>imports</th>\n",
              "      <th>income</th>\n",
              "      <th>inflation</th>\n",
              "      <th>life_expec</th>\n",
              "      <th>total_fer</th>\n",
              "      <th>gdpp</th>\n",
              "    </tr>\n",
              "  </thead>\n",
              "  <tbody>\n",
              "    <tr>\n",
              "      <th>162</th>\n",
              "      <td>Vanuatu</td>\n",
              "      <td>29.2</td>\n",
              "      <td>46.6</td>\n",
              "      <td>5.25</td>\n",
              "      <td>52.7</td>\n",
              "      <td>2950</td>\n",
              "      <td>2.62</td>\n",
              "      <td>63.0</td>\n",
              "      <td>3.50</td>\n",
              "      <td>2970</td>\n",
              "    </tr>\n",
              "    <tr>\n",
              "      <th>163</th>\n",
              "      <td>Venezuela</td>\n",
              "      <td>17.1</td>\n",
              "      <td>28.5</td>\n",
              "      <td>4.91</td>\n",
              "      <td>17.6</td>\n",
              "      <td>16500</td>\n",
              "      <td>45.90</td>\n",
              "      <td>75.4</td>\n",
              "      <td>2.47</td>\n",
              "      <td>13500</td>\n",
              "    </tr>\n",
              "    <tr>\n",
              "      <th>164</th>\n",
              "      <td>Vietnam</td>\n",
              "      <td>23.3</td>\n",
              "      <td>72.0</td>\n",
              "      <td>6.84</td>\n",
              "      <td>80.2</td>\n",
              "      <td>4490</td>\n",
              "      <td>12.10</td>\n",
              "      <td>73.1</td>\n",
              "      <td>1.95</td>\n",
              "      <td>1310</td>\n",
              "    </tr>\n",
              "    <tr>\n",
              "      <th>165</th>\n",
              "      <td>Yemen</td>\n",
              "      <td>56.3</td>\n",
              "      <td>30.0</td>\n",
              "      <td>5.18</td>\n",
              "      <td>34.4</td>\n",
              "      <td>4480</td>\n",
              "      <td>23.60</td>\n",
              "      <td>67.5</td>\n",
              "      <td>4.67</td>\n",
              "      <td>1310</td>\n",
              "    </tr>\n",
              "    <tr>\n",
              "      <th>166</th>\n",
              "      <td>Zambia</td>\n",
              "      <td>83.1</td>\n",
              "      <td>37.0</td>\n",
              "      <td>5.89</td>\n",
              "      <td>30.9</td>\n",
              "      <td>3280</td>\n",
              "      <td>14.00</td>\n",
              "      <td>52.0</td>\n",
              "      <td>5.40</td>\n",
              "      <td>1460</td>\n",
              "    </tr>\n",
              "  </tbody>\n",
              "</table>\n",
              "</div>\n",
              "      <button class=\"colab-df-convert\" onclick=\"convertToInteractive('df-ae81a36d-75eb-4aa6-998e-72d64dfe20ec')\"\n",
              "              title=\"Convert this dataframe to an interactive table.\"\n",
              "              style=\"display:none;\">\n",
              "        \n",
              "  <svg xmlns=\"http://www.w3.org/2000/svg\" height=\"24px\"viewBox=\"0 0 24 24\"\n",
              "       width=\"24px\">\n",
              "    <path d=\"M0 0h24v24H0V0z\" fill=\"none\"/>\n",
              "    <path d=\"M18.56 5.44l.94 2.06.94-2.06 2.06-.94-2.06-.94-.94-2.06-.94 2.06-2.06.94zm-11 1L8.5 8.5l.94-2.06 2.06-.94-2.06-.94L8.5 2.5l-.94 2.06-2.06.94zm10 10l.94 2.06.94-2.06 2.06-.94-2.06-.94-.94-2.06-.94 2.06-2.06.94z\"/><path d=\"M17.41 7.96l-1.37-1.37c-.4-.4-.92-.59-1.43-.59-.52 0-1.04.2-1.43.59L10.3 9.45l-7.72 7.72c-.78.78-.78 2.05 0 2.83L4 21.41c.39.39.9.59 1.41.59.51 0 1.02-.2 1.41-.59l7.78-7.78 2.81-2.81c.8-.78.8-2.07 0-2.86zM5.41 20L4 18.59l7.72-7.72 1.47 1.35L5.41 20z\"/>\n",
              "  </svg>\n",
              "      </button>\n",
              "      \n",
              "  <style>\n",
              "    .colab-df-container {\n",
              "      display:flex;\n",
              "      flex-wrap:wrap;\n",
              "      gap: 12px;\n",
              "    }\n",
              "\n",
              "    .colab-df-convert {\n",
              "      background-color: #E8F0FE;\n",
              "      border: none;\n",
              "      border-radius: 50%;\n",
              "      cursor: pointer;\n",
              "      display: none;\n",
              "      fill: #1967D2;\n",
              "      height: 32px;\n",
              "      padding: 0 0 0 0;\n",
              "      width: 32px;\n",
              "    }\n",
              "\n",
              "    .colab-df-convert:hover {\n",
              "      background-color: #E2EBFA;\n",
              "      box-shadow: 0px 1px 2px rgba(60, 64, 67, 0.3), 0px 1px 3px 1px rgba(60, 64, 67, 0.15);\n",
              "      fill: #174EA6;\n",
              "    }\n",
              "\n",
              "    [theme=dark] .colab-df-convert {\n",
              "      background-color: #3B4455;\n",
              "      fill: #D2E3FC;\n",
              "    }\n",
              "\n",
              "    [theme=dark] .colab-df-convert:hover {\n",
              "      background-color: #434B5C;\n",
              "      box-shadow: 0px 1px 3px 1px rgba(0, 0, 0, 0.15);\n",
              "      filter: drop-shadow(0px 1px 2px rgba(0, 0, 0, 0.3));\n",
              "      fill: #FFFFFF;\n",
              "    }\n",
              "  </style>\n",
              "\n",
              "      <script>\n",
              "        const buttonEl =\n",
              "          document.querySelector('#df-ae81a36d-75eb-4aa6-998e-72d64dfe20ec button.colab-df-convert');\n",
              "        buttonEl.style.display =\n",
              "          google.colab.kernel.accessAllowed ? 'block' : 'none';\n",
              "\n",
              "        async function convertToInteractive(key) {\n",
              "          const element = document.querySelector('#df-ae81a36d-75eb-4aa6-998e-72d64dfe20ec');\n",
              "          const dataTable =\n",
              "            await google.colab.kernel.invokeFunction('convertToInteractive',\n",
              "                                                     [key], {});\n",
              "          if (!dataTable) return;\n",
              "\n",
              "          const docLinkHtml = 'Like what you see? Visit the ' +\n",
              "            '<a target=\"_blank\" href=https://colab.research.google.com/notebooks/data_table.ipynb>data table notebook</a>'\n",
              "            + ' to learn more about interactive tables.';\n",
              "          element.innerHTML = '';\n",
              "          dataTable['output_type'] = 'display_data';\n",
              "          await google.colab.output.renderOutput(dataTable, element);\n",
              "          const docLink = document.createElement('div');\n",
              "          docLink.innerHTML = docLinkHtml;\n",
              "          element.appendChild(docLink);\n",
              "        }\n",
              "      </script>\n",
              "    </div>\n",
              "  </div>\n",
              "  "
            ]
          },
          "metadata": {},
          "execution_count": 673
        }
      ]
    },
    {
      "cell_type": "code",
      "source": [
        "df.dtypes"
      ],
      "metadata": {
        "colab": {
          "base_uri": "https://localhost:8080/"
        },
        "id": "2nAcOisWDBb0",
        "outputId": "cf9311c3-6f52-420e-d777-19f532242989"
      },
      "execution_count": 674,
      "outputs": [
        {
          "output_type": "execute_result",
          "data": {
            "text/plain": [
              "country        object\n",
              "child_mort    float64\n",
              "exports       float64\n",
              "health        float64\n",
              "imports       float64\n",
              "income          int64\n",
              "inflation     float64\n",
              "life_expec    float64\n",
              "total_fer     float64\n",
              "gdpp            int64\n",
              "dtype: object"
            ]
          },
          "metadata": {},
          "execution_count": 674
        }
      ]
    },
    {
      "cell_type": "code",
      "source": [
        "df.isnull().sum()"
      ],
      "metadata": {
        "colab": {
          "base_uri": "https://localhost:8080/"
        },
        "id": "s-Jabd-UDKWI",
        "outputId": "24a02334-6db5-4743-c824-8e73129ecce9"
      },
      "execution_count": 675,
      "outputs": [
        {
          "output_type": "execute_result",
          "data": {
            "text/plain": [
              "country       0\n",
              "child_mort    0\n",
              "exports       0\n",
              "health        0\n",
              "imports       0\n",
              "income        0\n",
              "inflation     0\n",
              "life_expec    0\n",
              "total_fer     0\n",
              "gdpp          0\n",
              "dtype: int64"
            ]
          },
          "metadata": {},
          "execution_count": 675
        }
      ]
    },
    {
      "cell_type": "code",
      "source": [
        "# opsional jika memiliki data/sel yang kosong\n",
        "\n",
        "# df = df.dropna()\n",
        "# df.isnull().sum()"
      ],
      "metadata": {
        "id": "GU6zk4CpDS2N"
      },
      "execution_count": 676,
      "outputs": []
    },
    {
      "cell_type": "code",
      "source": [
        " df[\"country\"].value_counts()"
      ],
      "metadata": {
        "colab": {
          "base_uri": "https://localhost:8080/"
        },
        "id": "96aOrCy1RTFn",
        "outputId": "b10af73f-cdc1-431d-b107-d48e72c509fe"
      },
      "execution_count": 677,
      "outputs": [
        {
          "output_type": "execute_result",
          "data": {
            "text/plain": [
              "Afghanistan    1\n",
              "Morocco        1\n",
              "Myanmar        1\n",
              "Namibia        1\n",
              "Nepal          1\n",
              "              ..\n",
              "Georgia        1\n",
              "Germany        1\n",
              "Ghana          1\n",
              "Greece         1\n",
              "Zambia         1\n",
              "Name: country, Length: 167, dtype: int64"
            ]
          },
          "metadata": {},
          "execution_count": 677
        }
      ]
    },
    {
      "cell_type": "code",
      "source": [
        "df.columns"
      ],
      "metadata": {
        "colab": {
          "base_uri": "https://localhost:8080/"
        },
        "id": "zyhTHI68Dkwt",
        "outputId": "863f4c0e-f3f6-4c63-ff2f-77e1c1243993"
      },
      "execution_count": 678,
      "outputs": [
        {
          "output_type": "execute_result",
          "data": {
            "text/plain": [
              "Index(['country', 'child_mort', 'exports', 'health', 'imports', 'income',\n",
              "       'inflation', 'life_expec', 'total_fer', 'gdpp'],\n",
              "      dtype='object')"
            ]
          },
          "metadata": {},
          "execution_count": 678
        }
      ]
    },
    {
      "cell_type": "code",
      "source": [
        "df.shape"
      ],
      "metadata": {
        "colab": {
          "base_uri": "https://localhost:8080/"
        },
        "id": "uKCyoXJsDuiD",
        "outputId": "7151a335-44d3-4109-ac8e-4a1606a0a361"
      },
      "execution_count": 679,
      "outputs": [
        {
          "output_type": "execute_result",
          "data": {
            "text/plain": [
              "(167, 10)"
            ]
          },
          "metadata": {},
          "execution_count": 679
        }
      ]
    },
    {
      "cell_type": "markdown",
      "source": [
        "### Explore Data"
      ],
      "metadata": {
        "id": "rQ2eHCJGRzre"
      }
    },
    {
      "cell_type": "code",
      "source": [
        "df.corr()"
      ],
      "metadata": {
        "colab": {
          "base_uri": "https://localhost:8080/",
          "height": 0
        },
        "id": "topa7d95Rxxn",
        "outputId": "635993be-cbd2-48e0-95e4-5bcf2e569165"
      },
      "execution_count": 680,
      "outputs": [
        {
          "output_type": "stream",
          "name": "stderr",
          "text": [
            "<ipython-input-680-2f6f6606aa2c>:1: FutureWarning:\n",
            "\n",
            "The default value of numeric_only in DataFrame.corr is deprecated. In a future version, it will default to False. Select only valid columns or specify the value of numeric_only to silence this warning.\n",
            "\n"
          ]
        },
        {
          "output_type": "execute_result",
          "data": {
            "text/plain": [
              "            child_mort   exports    health   imports    income  inflation  \\\n",
              "child_mort    1.000000 -0.318093 -0.200402 -0.127211 -0.524315   0.288276   \n",
              "exports      -0.318093  1.000000 -0.114408  0.737381  0.516784  -0.107294   \n",
              "health       -0.200402 -0.114408  1.000000  0.095717  0.129579  -0.255376   \n",
              "imports      -0.127211  0.737381  0.095717  1.000000  0.122406  -0.246994   \n",
              "income       -0.524315  0.516784  0.129579  0.122406  1.000000  -0.147756   \n",
              "inflation     0.288276 -0.107294 -0.255376 -0.246994 -0.147756   1.000000   \n",
              "life_expec   -0.886676  0.316313  0.210692  0.054391  0.611962  -0.239705   \n",
              "total_fer     0.848478 -0.320011 -0.196674 -0.159048 -0.501840   0.316921   \n",
              "gdpp         -0.483032  0.418725  0.345966  0.115498  0.895571  -0.221631   \n",
              "\n",
              "            life_expec  total_fer      gdpp  \n",
              "child_mort   -0.886676   0.848478 -0.483032  \n",
              "exports       0.316313  -0.320011  0.418725  \n",
              "health        0.210692  -0.196674  0.345966  \n",
              "imports       0.054391  -0.159048  0.115498  \n",
              "income        0.611962  -0.501840  0.895571  \n",
              "inflation    -0.239705   0.316921 -0.221631  \n",
              "life_expec    1.000000  -0.760875  0.600089  \n",
              "total_fer    -0.760875   1.000000 -0.454910  \n",
              "gdpp          0.600089  -0.454910  1.000000  "
            ],
            "text/html": [
              "\n",
              "  <div id=\"df-97910174-58ce-46e0-8c54-9207480c7a9e\">\n",
              "    <div class=\"colab-df-container\">\n",
              "      <div>\n",
              "<style scoped>\n",
              "    .dataframe tbody tr th:only-of-type {\n",
              "        vertical-align: middle;\n",
              "    }\n",
              "\n",
              "    .dataframe tbody tr th {\n",
              "        vertical-align: top;\n",
              "    }\n",
              "\n",
              "    .dataframe thead th {\n",
              "        text-align: right;\n",
              "    }\n",
              "</style>\n",
              "<table border=\"1\" class=\"dataframe\">\n",
              "  <thead>\n",
              "    <tr style=\"text-align: right;\">\n",
              "      <th></th>\n",
              "      <th>child_mort</th>\n",
              "      <th>exports</th>\n",
              "      <th>health</th>\n",
              "      <th>imports</th>\n",
              "      <th>income</th>\n",
              "      <th>inflation</th>\n",
              "      <th>life_expec</th>\n",
              "      <th>total_fer</th>\n",
              "      <th>gdpp</th>\n",
              "    </tr>\n",
              "  </thead>\n",
              "  <tbody>\n",
              "    <tr>\n",
              "      <th>child_mort</th>\n",
              "      <td>1.000000</td>\n",
              "      <td>-0.318093</td>\n",
              "      <td>-0.200402</td>\n",
              "      <td>-0.127211</td>\n",
              "      <td>-0.524315</td>\n",
              "      <td>0.288276</td>\n",
              "      <td>-0.886676</td>\n",
              "      <td>0.848478</td>\n",
              "      <td>-0.483032</td>\n",
              "    </tr>\n",
              "    <tr>\n",
              "      <th>exports</th>\n",
              "      <td>-0.318093</td>\n",
              "      <td>1.000000</td>\n",
              "      <td>-0.114408</td>\n",
              "      <td>0.737381</td>\n",
              "      <td>0.516784</td>\n",
              "      <td>-0.107294</td>\n",
              "      <td>0.316313</td>\n",
              "      <td>-0.320011</td>\n",
              "      <td>0.418725</td>\n",
              "    </tr>\n",
              "    <tr>\n",
              "      <th>health</th>\n",
              "      <td>-0.200402</td>\n",
              "      <td>-0.114408</td>\n",
              "      <td>1.000000</td>\n",
              "      <td>0.095717</td>\n",
              "      <td>0.129579</td>\n",
              "      <td>-0.255376</td>\n",
              "      <td>0.210692</td>\n",
              "      <td>-0.196674</td>\n",
              "      <td>0.345966</td>\n",
              "    </tr>\n",
              "    <tr>\n",
              "      <th>imports</th>\n",
              "      <td>-0.127211</td>\n",
              "      <td>0.737381</td>\n",
              "      <td>0.095717</td>\n",
              "      <td>1.000000</td>\n",
              "      <td>0.122406</td>\n",
              "      <td>-0.246994</td>\n",
              "      <td>0.054391</td>\n",
              "      <td>-0.159048</td>\n",
              "      <td>0.115498</td>\n",
              "    </tr>\n",
              "    <tr>\n",
              "      <th>income</th>\n",
              "      <td>-0.524315</td>\n",
              "      <td>0.516784</td>\n",
              "      <td>0.129579</td>\n",
              "      <td>0.122406</td>\n",
              "      <td>1.000000</td>\n",
              "      <td>-0.147756</td>\n",
              "      <td>0.611962</td>\n",
              "      <td>-0.501840</td>\n",
              "      <td>0.895571</td>\n",
              "    </tr>\n",
              "    <tr>\n",
              "      <th>inflation</th>\n",
              "      <td>0.288276</td>\n",
              "      <td>-0.107294</td>\n",
              "      <td>-0.255376</td>\n",
              "      <td>-0.246994</td>\n",
              "      <td>-0.147756</td>\n",
              "      <td>1.000000</td>\n",
              "      <td>-0.239705</td>\n",
              "      <td>0.316921</td>\n",
              "      <td>-0.221631</td>\n",
              "    </tr>\n",
              "    <tr>\n",
              "      <th>life_expec</th>\n",
              "      <td>-0.886676</td>\n",
              "      <td>0.316313</td>\n",
              "      <td>0.210692</td>\n",
              "      <td>0.054391</td>\n",
              "      <td>0.611962</td>\n",
              "      <td>-0.239705</td>\n",
              "      <td>1.000000</td>\n",
              "      <td>-0.760875</td>\n",
              "      <td>0.600089</td>\n",
              "    </tr>\n",
              "    <tr>\n",
              "      <th>total_fer</th>\n",
              "      <td>0.848478</td>\n",
              "      <td>-0.320011</td>\n",
              "      <td>-0.196674</td>\n",
              "      <td>-0.159048</td>\n",
              "      <td>-0.501840</td>\n",
              "      <td>0.316921</td>\n",
              "      <td>-0.760875</td>\n",
              "      <td>1.000000</td>\n",
              "      <td>-0.454910</td>\n",
              "    </tr>\n",
              "    <tr>\n",
              "      <th>gdpp</th>\n",
              "      <td>-0.483032</td>\n",
              "      <td>0.418725</td>\n",
              "      <td>0.345966</td>\n",
              "      <td>0.115498</td>\n",
              "      <td>0.895571</td>\n",
              "      <td>-0.221631</td>\n",
              "      <td>0.600089</td>\n",
              "      <td>-0.454910</td>\n",
              "      <td>1.000000</td>\n",
              "    </tr>\n",
              "  </tbody>\n",
              "</table>\n",
              "</div>\n",
              "      <button class=\"colab-df-convert\" onclick=\"convertToInteractive('df-97910174-58ce-46e0-8c54-9207480c7a9e')\"\n",
              "              title=\"Convert this dataframe to an interactive table.\"\n",
              "              style=\"display:none;\">\n",
              "        \n",
              "  <svg xmlns=\"http://www.w3.org/2000/svg\" height=\"24px\"viewBox=\"0 0 24 24\"\n",
              "       width=\"24px\">\n",
              "    <path d=\"M0 0h24v24H0V0z\" fill=\"none\"/>\n",
              "    <path d=\"M18.56 5.44l.94 2.06.94-2.06 2.06-.94-2.06-.94-.94-2.06-.94 2.06-2.06.94zm-11 1L8.5 8.5l.94-2.06 2.06-.94-2.06-.94L8.5 2.5l-.94 2.06-2.06.94zm10 10l.94 2.06.94-2.06 2.06-.94-2.06-.94-.94-2.06-.94 2.06-2.06.94z\"/><path d=\"M17.41 7.96l-1.37-1.37c-.4-.4-.92-.59-1.43-.59-.52 0-1.04.2-1.43.59L10.3 9.45l-7.72 7.72c-.78.78-.78 2.05 0 2.83L4 21.41c.39.39.9.59 1.41.59.51 0 1.02-.2 1.41-.59l7.78-7.78 2.81-2.81c.8-.78.8-2.07 0-2.86zM5.41 20L4 18.59l7.72-7.72 1.47 1.35L5.41 20z\"/>\n",
              "  </svg>\n",
              "      </button>\n",
              "      \n",
              "  <style>\n",
              "    .colab-df-container {\n",
              "      display:flex;\n",
              "      flex-wrap:wrap;\n",
              "      gap: 12px;\n",
              "    }\n",
              "\n",
              "    .colab-df-convert {\n",
              "      background-color: #E8F0FE;\n",
              "      border: none;\n",
              "      border-radius: 50%;\n",
              "      cursor: pointer;\n",
              "      display: none;\n",
              "      fill: #1967D2;\n",
              "      height: 32px;\n",
              "      padding: 0 0 0 0;\n",
              "      width: 32px;\n",
              "    }\n",
              "\n",
              "    .colab-df-convert:hover {\n",
              "      background-color: #E2EBFA;\n",
              "      box-shadow: 0px 1px 2px rgba(60, 64, 67, 0.3), 0px 1px 3px 1px rgba(60, 64, 67, 0.15);\n",
              "      fill: #174EA6;\n",
              "    }\n",
              "\n",
              "    [theme=dark] .colab-df-convert {\n",
              "      background-color: #3B4455;\n",
              "      fill: #D2E3FC;\n",
              "    }\n",
              "\n",
              "    [theme=dark] .colab-df-convert:hover {\n",
              "      background-color: #434B5C;\n",
              "      box-shadow: 0px 1px 3px 1px rgba(0, 0, 0, 0.15);\n",
              "      filter: drop-shadow(0px 1px 2px rgba(0, 0, 0, 0.3));\n",
              "      fill: #FFFFFF;\n",
              "    }\n",
              "  </style>\n",
              "\n",
              "      <script>\n",
              "        const buttonEl =\n",
              "          document.querySelector('#df-97910174-58ce-46e0-8c54-9207480c7a9e button.colab-df-convert');\n",
              "        buttonEl.style.display =\n",
              "          google.colab.kernel.accessAllowed ? 'block' : 'none';\n",
              "\n",
              "        async function convertToInteractive(key) {\n",
              "          const element = document.querySelector('#df-97910174-58ce-46e0-8c54-9207480c7a9e');\n",
              "          const dataTable =\n",
              "            await google.colab.kernel.invokeFunction('convertToInteractive',\n",
              "                                                     [key], {});\n",
              "          if (!dataTable) return;\n",
              "\n",
              "          const docLinkHtml = 'Like what you see? Visit the ' +\n",
              "            '<a target=\"_blank\" href=https://colab.research.google.com/notebooks/data_table.ipynb>data table notebook</a>'\n",
              "            + ' to learn more about interactive tables.';\n",
              "          element.innerHTML = '';\n",
              "          dataTable['output_type'] = 'display_data';\n",
              "          await google.colab.output.renderOutput(dataTable, element);\n",
              "          const docLink = document.createElement('div');\n",
              "          docLink.innerHTML = docLinkHtml;\n",
              "          element.appendChild(docLink);\n",
              "        }\n",
              "      </script>\n",
              "    </div>\n",
              "  </div>\n",
              "  "
            ]
          },
          "metadata": {},
          "execution_count": 680
        }
      ]
    },
    {
      "cell_type": "code",
      "source": [
        "df.hist(figsize=(10,10))\n",
        "plt.show()\n"
      ],
      "metadata": {
        "colab": {
          "base_uri": "https://localhost:8080/",
          "height": 0
        },
        "id": "h7NaxG7CSJU9",
        "outputId": "1a0f1eab-dec3-4417-ac60-dea92cbd7596"
      },
      "execution_count": 681,
      "outputs": [
        {
          "output_type": "display_data",
          "data": {
            "text/plain": [
              "<Figure size 1000x1000 with 9 Axes>"
            ],
            "image/png": "[encoded data removed]"
          },
          "metadata": {}
        }
      ]
    },
    {
      "cell_type": "code",
      "source": [
        "sns.heatmap(df.corr())\n",
        "plt.show()"
      ],
      "metadata": {
        "colab": {
          "base_uri": "https://localhost:8080/",
          "height": 0
        },
        "id": "wNoy6NqVSQVx",
        "outputId": "ce41c4a8-df9b-4f52-9cf0-62b693699bd0"
      },
      "execution_count": 682,
      "outputs": [
        {
          "output_type": "stream",
          "name": "stderr",
          "text": [
            "<ipython-input-682-88edb43bf50b>:1: FutureWarning:\n",
            "\n",
            "The default value of numeric_only in DataFrame.corr is deprecated. In a future version, it will default to False. Select only valid columns or specify the value of numeric_only to silence this warning.\n",
            "\n"
          ]
        },
        {
          "output_type": "display_data",
          "data": {
            "text/plain": [
              "<Figure size 640x480 with 2 Axes>"
            ],
            "image/png": "[encoded data removed]"
          },
          "metadata": {}
        }
      ]
    },
    {
      "cell_type": "code",
      "source": [
        "sns.boxplot(x='child_mort', data=df)\n",
        "plt.show()\n",
        "sns.boxplot(x='exports', data=df)\n",
        "plt.show()\n",
        "sns.boxplot(x='health', data=df)\n",
        "plt.show()\n",
        "sns.boxplot(x='imports', data=df)\n",
        "plt.show()\n",
        "sns.boxplot(x='income', data=df)\n",
        "plt.show()\n",
        "sns.boxplot(x='inflation', data=df)\n",
        "plt.show()\n",
        "sns.boxplot(x='life_expec', data=df)\n",
        "plt.show()\n",
        "sns.boxplot(x='total_fer', data=df)\n",
        "plt.show()\n",
        "sns.boxplot(x='gdpp', data=df)\n",
        "plt.show()"
      ],
      "metadata": {
        "colab": {
          "base_uri": "https://localhost:8080/",
          "height": 0
        },
        "id": "eFZAkYs5TyqS",
        "outputId": "745308f5-be20-4d31-f40f-a3846cf716db"
      },
      "execution_count": 683,
      "outputs": [
        {
          "output_type": "display_data",
          "data": {
            "text/plain": [
              "<Figure size 640x480 with 1 Axes>"
            ],
            "image/png": "[encoded data removed]"
          },
          "metadata": {}
        },
        {
          "output_type": "display_data",
          "data": {
            "text/plain": [
              "<Figure size 640x480 with 1 Axes>"
            ],
            "image/png": "[encoded data removed]"
          },
          "metadata": {}
        },
        {
          "output_type": "display_data",
          "data": {
            "text/plain": [
              "<Figure size 640x480 with 1 Axes>"
            ],
            "image/png": "[encoded data removed]"
          },
          "metadata": {}
        },
        {
          "output_type": "display_data",
          "data": {
            "text/plain": [
              "<Figure size 640x480 with 1 Axes>"
            ],
            "image/png": "[encoded data removed]"
          },
          "metadata": {}
        },
        {
          "output_type": "display_data",
          "data": {
            "text/plain": [
              "<Figure size 640x480 with 1 Axes>"
            ],
            "image/png": "[encoded data removed]"
          },
          "metadata": {}
        },
        {
          "output_type": "display_data",
          "data": {
            "text/plain": [
              "<Figure size 640x480 with 1 Axes>"
            ],
            "image/png": "[encoded data removed]"
          },
          "metadata": {}
        },
        {
          "output_type": "display_data",
          "data": {
            "text/plain": [
              "<Figure size 640x480 with 1 Axes>"
            ],
            "image/png": "[encoded data removed]"
          },
          "metadata": {}
        },
        {
          "output_type": "display_data",
          "data": {
            "text/plain": [
              "<Figure size 640x480 with 1 Axes>"
            ],
            "image/png": "[encoded data removed]"
          },
          "metadata": {}
        },
        {
          "output_type": "display_data",
          "data": {
            "text/plain": [
              "<Figure size 640x480 with 1 Axes>"
            ],
            "image/png": "[encoded data removed]"
          },
          "metadata": {}
        }
      ]
    },
    {
      "cell_type": "markdown",
      "source": [
        "## Data Preparation"
      ],
      "metadata": {
        "id": "DC6jrioaXaLz"
      }
    },
    {
      "cell_type": "code",
      "source": [
        "# membuat variabel yang memuat df semula \n",
        "df2 = pd.read_csv(linkfile)\n",
        "\n",
        "df.drop_duplicates(inplace=True)\n",
        "df.drop(\"country\", axis=1, inplace=True)\n",
        "df = df.rename(columns={'gdpp' : 'gdp'})\n",
        "df.isnull().sum()"
      ],
      "metadata": {
        "id": "pqMQX2UeX1DE",
        "colab": {
          "base_uri": "https://localhost:8080/"
        },
        "outputId": "68556824-6fdc-4821-a29f-a6a60acc4821"
      },
      "execution_count": 684,
      "outputs": [
        {
          "output_type": "execute_result",
          "data": {
            "text/plain": [
              "child_mort    0\n",
              "exports       0\n",
              "health        0\n",
              "imports       0\n",
              "income        0\n",
              "inflation     0\n",
              "life_expec    0\n",
              "total_fer     0\n",
              "gdp           0\n",
              "dtype: int64"
            ]
          },
          "metadata": {},
          "execution_count": 684
        }
      ]
    },
    {
      "cell_type": "code",
      "source": [
        "# Mengisi missing value pada kolom 'gdp' dan 'income' dengan nilai median\n",
        "df['gdp'].fillna(df['gdp'].median(), inplace=True)\n",
        "df['income'].fillna(df['income'].median(), inplace=True)"
      ],
      "metadata": {
        "id": "jimwZQ0prZ52"
      },
      "execution_count": 685,
      "outputs": []
    },
    {
      "cell_type": "markdown",
      "source": [
        "#### Encoding"
      ],
      "metadata": {
        "id": "NQHTx9fBCa-u"
      }
    },
    {
      "cell_type": "code",
      "source": [
        "from sklearn.preprocessing import LabelEncoder\n",
        "\n",
        "# Membuat objek LabelEncoder\n",
        "le = LabelEncoder()\n",
        "\n",
        "# Melakukan encoding pada kolom 'health'\n",
        "df['health'] = le.fit_transform(df['health'])"
      ],
      "metadata": {
        "id": "bkZXoRX5CIwk"
      },
      "execution_count": 686,
      "outputs": []
    },
    {
      "cell_type": "markdown",
      "source": [
        "#### Preprocessing"
      ],
      "metadata": {
        "id": "Vt7iS2NQSFkL"
      }
    },
    {
      "cell_type": "code",
      "source": [
        "# Untuk Clustering\n",
        "from sklearn.cluster import KMeans\n",
        "from sklearn.cluster import AgglomerativeClustering,KMeans,AffinityPropagation,Birch\n",
        "\n",
        "# Untuk scalling dan normalisasi\n",
        "from sklearn.preprocessing import StandardScaler\n",
        "\n",
        "# Metric Pengukuran\n",
        "# sumber : https://towardsdatascience.com/performance-metrics-in-machine-learning-part-3-clustering-d69550662dc6\n",
        "from sklearn.metrics import silhouette_score,calinski_harabasz_score,davies_bouldin_score"
      ],
      "metadata": {
        "id": "lUYf3M9SSIPA"
      },
      "execution_count": 687,
      "outputs": []
    },
    {
      "cell_type": "code",
      "source": [
        "from sklearn.preprocessing import StandardScaler\n",
        "\n",
        "# Membuat objek StandardScaler\n",
        "scaler = StandardScaler()\n",
        "\n",
        "# Melakukan scaling pada kolom 'child_mort', 'exports', 'imports', 'income', 'inflation', 'life_expec', dan 'total_fer'\n",
        "df[['child_mort', 'exports', 'imports', 'income', 'inflation', 'life_expec', 'total_fer']] = scaler.fit_transform(df[['child_mort', 'exports', 'imports', 'income', 'inflation', 'life_expec', 'total_fer']])"
      ],
      "metadata": {
        "id": "6Z24R8nAtYPN"
      },
      "execution_count": 688,
      "outputs": []
    },
    {
      "cell_type": "code",
      "source": [
        "# Menentukan jumlah cluster dengan Elbow Method\n",
        "sse = []\n",
        "for k in range(1, 11):\n",
        "    kmeans = KMeans(n_clusters=k, random_state=42)\n",
        "    kmeans.fit(df)\n",
        "    sse.append(kmeans.inertia_)\n",
        "\n",
        "plt.plot(range(1, 11), sse)\n",
        "plt.xlabel('Number of Clusters')\n",
        "plt.ylabel('SSE')\n",
        "plt.title('Elbow Method')\n",
        "plt.show()\n"
      ],
      "metadata": {
        "colab": {
          "base_uri": "https://localhost:8080/",
          "height": 1000
        },
        "id": "AhKZHp9wSUt-",
        "outputId": "0901bd44-e98c-4956-fa30-2ab5d10bde2a"
      },
      "execution_count": 689,
      "outputs": [
        {
          "output_type": "stream",
          "name": "stderr",
          "text": [
            "/usr/local/lib/python3.10/dist-packages/sklearn/cluster/_kmeans.py:870: FutureWarning:\n",
            "\n",
            "The default value of `n_init` will change from 10 to 'auto' in 1.4. Set the value of `n_init` explicitly to suppress the warning\n",
            "\n",
            "/usr/local/lib/python3.10/dist-packages/sklearn/cluster/_kmeans.py:870: FutureWarning:\n",
            "\n",
            "The default value of `n_init` will change from 10 to 'auto' in 1.4. Set the value of `n_init` explicitly to suppress the warning\n",
            "\n",
            "/usr/local/lib/python3.10/dist-packages/sklearn/cluster/_kmeans.py:870: FutureWarning:\n",
            "\n",
            "The default value of `n_init` will change from 10 to 'auto' in 1.4. Set the value of `n_init` explicitly to suppress the warning\n",
            "\n",
            "/usr/local/lib/python3.10/dist-packages/sklearn/cluster/_kmeans.py:870: FutureWarning:\n",
            "\n",
            "The default value of `n_init` will change from 10 to 'auto' in 1.4. Set the value of `n_init` explicitly to suppress the warning\n",
            "\n",
            "/usr/local/lib/python3.10/dist-packages/sklearn/cluster/_kmeans.py:870: FutureWarning:\n",
            "\n",
            "The default value of `n_init` will change from 10 to 'auto' in 1.4. Set the value of `n_init` explicitly to suppress the warning\n",
            "\n",
            "/usr/local/lib/python3.10/dist-packages/sklearn/cluster/_kmeans.py:870: FutureWarning:\n",
            "\n",
            "The default value of `n_init` will change from 10 to 'auto' in 1.4. Set the value of `n_init` explicitly to suppress the warning\n",
            "\n",
            "/usr/local/lib/python3.10/dist-packages/sklearn/cluster/_kmeans.py:870: FutureWarning:\n",
            "\n",
            "The default value of `n_init` will change from 10 to 'auto' in 1.4. Set the value of `n_init` explicitly to suppress the warning\n",
            "\n",
            "/usr/local/lib/python3.10/dist-packages/sklearn/cluster/_kmeans.py:870: FutureWarning:\n",
            "\n",
            "The default value of `n_init` will change from 10 to 'auto' in 1.4. Set the value of `n_init` explicitly to suppress the warning\n",
            "\n",
            "/usr/local/lib/python3.10/dist-packages/sklearn/cluster/_kmeans.py:870: FutureWarning:\n",
            "\n",
            "The default value of `n_init` will change from 10 to 'auto' in 1.4. Set the value of `n_init` explicitly to suppress the warning\n",
            "\n",
            "/usr/local/lib/python3.10/dist-packages/sklearn/cluster/_kmeans.py:870: FutureWarning:\n",
            "\n",
            "The default value of `n_init` will change from 10 to 'auto' in 1.4. Set the value of `n_init` explicitly to suppress the warning\n",
            "\n"
          ]
        },
        {
          "output_type": "display_data",
          "data": {
            "text/plain": [
              "<Figure size 640x480 with 1 Axes>"
            ],
            "image/png": "[encoded data removed]"
          },
          "metadata": {}
        }
      ]
    },
    {
      "cell_type": "markdown",
      "source": [
        "## Modelling"
      ],
      "metadata": {
        "id": "oqgMGwiPXNFF"
      }
    },
    {
      "cell_type": "markdown",
      "source": [
        "#### K Means"
      ],
      "metadata": {
        "id": "n9u4FJPsVAMZ"
      }
    },
    {
      "cell_type": "code",
      "source": [
        "# Melakukan clustering dengan algoritma KMeans\n",
        "kmeans = KMeans(n_clusters=3, random_state=42)\n",
        "kmeans.fit(df)\n",
        "\n",
        "# Menambahkan kolom 'Cluster' pada data\n",
        "df['Cluster'] = kmeans.labels_\n"
      ],
      "metadata": {
        "colab": {
          "base_uri": "https://localhost:8080/"
        },
        "id": "VosqTd-NU0YQ",
        "outputId": "0b29b63c-3ee7-4d9b-ea45-15bbcc3047ec"
      },
      "execution_count": 690,
      "outputs": [
        {
          "output_type": "stream",
          "name": "stderr",
          "text": [
            "/usr/local/lib/python3.10/dist-packages/sklearn/cluster/_kmeans.py:870: FutureWarning:\n",
            "\n",
            "The default value of `n_init` will change from 10 to 'auto' in 1.4. Set the value of `n_init` explicitly to suppress the warning\n",
            "\n"
          ]
        }
      ]
    },
    {
      "cell_type": "code",
      "source": [
        "# Visualisasi hasil clustering pada grafik 2D\n",
        "plt.figure(figsize=(8, 6))\n",
        "sns.scatterplot(data=df, x='income', y='child_mort', hue='Cluster', palette='Set1')\n",
        "plt.title('Clustering Results - 2D Scatter Plot')\n",
        "plt.show()\n",
        "\n",
        "# Visualisasi hasil clustering pada grafik 3D\n",
        "fig = px.scatter_3d(df, x='gdp', y='income', z='child_mort', color='Cluster', size_max=10, opacity=0.7, width=800, height=600)\n",
        "fig.update_layout(scene=dict(xaxis_title='GDP Per Capita', yaxis_title='Income', zaxis_title='Child Mortality'), title='Clustering Results - 3D Scatter')\n",
        "fig.show()"
      ],
      "metadata": {
        "colab": {
          "base_uri": "https://localhost:8080/",
          "height": 1000
        },
        "id": "Xm4rXvLZVG5B",
        "outputId": "f09e9801-22c1-4e5f-fdba-4060ea3c22b3"
      },
      "execution_count": 691,
      "outputs": [
        {
          "output_type": "display_data",
          "data": {
            "text/plain": [
              "<Figure size 800x600 with 1 Axes>"
            ],
            "image/png": "[encoded data removed]"
          },
          "metadata": {}
        },
        {
          "output_type": "display_data",
          "data": {
            "text/html": [
              "<html>\n",
              "<head><meta charset=\"utf-8\" /></head>\n",
              "<body>\n",
              "    <div>            <script src=\"https://cdnjs.cloudflare.com/ajax/libs/mathjax/2.7.5/MathJax.js?config=TeX-AMS-MML_SVG\"></script><script type=\"text/javascript\">if (window.MathJax && window.MathJax.Hub && window.MathJax.Hub.Config) {window.MathJax.Hub.Config({SVG: {font: \"STIX-Web\"}});}</script>                <script type=\"text/javascript\">window.PlotlyConfig = {MathJaxConfig: 'local'};</script>\n",
              "        <script src=\"https://cdn.plot.ly/plotly-2.18.2.min.js\"></script>                <div id=\"68beabfa-58fc-4cd8-b071-ff831ad63813\" class=\"plotly-graph-div\" style=\"height:600px; width:800px;\"></div>            <script type=\"text/javascript\">                                    window.PLOTLYENV=window.PLOTLYENV || {};                                    if (document.getElementById(\"68beabfa-58fc-4cd8-b071-ff831ad63813\")) {                    Plotly.newPlot(                        \"68beabfa-58fc-4cd8-b071-ff831ad63813\",                        [{\"hovertemplate\":\"gdp=%{x}<br>income=%{y}<br>child_mort=%{z}<br>Cluster=%{marker.color}<extra></extra>\",\"legendgroup\":\"\",\"marker\":{\"color\":[0,0,0,0,0,0,0,1,1,0,1,0,0,0,0,1,0,0,0,0,0,0,0,1,0,0,0,0,0,1,0,0,0,0,0,0,0,0,0,0,0,0,1,0,1,0,0,0,0,0,0,0,0,1,1,0,0,0,1,0,1,0,0,0,0,0,0,0,1,0,0,0,0,1,1,1,0,1,0,0,0,0,1,0,0,0,0,0,0,0,0,2,0,0,0,0,0,0,0,0,0,0,0,0,0,0,0,0,0,0,1,1,0,0,2,0,0,0,0,0,0,0,0,2,0,0,0,0,0,0,0,0,0,1,0,1,0,0,0,1,0,0,0,0,1,2,0,0,0,0,0,0,0,0,0,0,0,1,1,1,0,0,0,0,0,0,0],\"coloraxis\":\"coloraxis\",\"opacity\":0.7,\"symbol\":\"circle\"},\"mode\":\"markers\",\"name\":\"\",\"scene\":\"scene\",\"showlegend\":false,\"x\":[553,4090,4460,3530,12200,10300,3220,51900,46900,5840,28000,20700,758,16000,6030,44400,4340,758,2180,1980,4610,6350,11200,35300,6840,575,231,786,1310,47400,3310,446,897,12900,4560,6250,769,334,2740,8200,1220,13500,30800,19800,58000,5450,4660,2600,2990,17100,482,14600,3650,46200,40600,8750,562,2960,41800,1310,26900,7370,2830,648,547,3040,662,13100,41900,1350,3110,6530,4500,48700,30600,35800,4680,44500,3680,9070,967,1490,38500,880,1140,11300,8860,1170,327,12100,12000,105000,4540,413,459,9070,7100,708,21100,1200,8000,2860,1630,2650,6680,2830,419,988,5190,592,50300,33700,348,2330,87800,19300,1040,8080,3230,5020,2130,12600,22500,70300,8230,10700,563,3450,19300,1000,5410,10800,399,46600,16600,23400,1290,7280,22100,30700,2810,6230,1480,8300,52100,74600,738,702,5080,3600,488,3550,4140,10700,4440,595,2970,35000,38900,48400,11900,1380,2970,13500,1310,1310,1460],\"y\":[-0.808245403048222,-0.3753688957256792,-0.22084446943385808,-0.5850434539600359,0.1017317740036137,0.08092040345926069,-0.5434207128713299,1.2619656818512945,1.355616849300883,-0.05955634771512219,0.29943979417496736,1.2463571539430298,-0.7650618091686895,-0.09597624616773998,-0.049150662442945685,1.2463571539430298,-0.4820271697654885,-0.7973194335124367,-0.557988672252377,-0.6105373828768683,-0.38629486526146456,-0.20003309888950507,-0.137598987256446,3.3014799951978904,-0.09597624616773998,-0.8176105197931809,-0.8522614517495286,-0.7608995350598189,-0.7536155553692954,1.2255457833986767,-0.5886854438052976,-0.8458099268807793,-0.7915963066127396,0.11734030191187847,-0.3961802662700323,-0.3249013221556232,-0.8186510883203986,-0.8603258578354654,-0.6219836366762626,-0.21564162679776983,-0.7520547025784688,0.15376020036449625,0.8717524841446754,0.5803932965237332,1.3972395903895891,-0.31449563688344667,-0.4055453830149911,-0.37901088557094104,-0.5122036570548003,0.8613467988724989,-0.8181308040567897,0.28903410890279085,-0.5096022357367562,1.1787201996738823,1.027837763227323,-0.09077340353165173,-0.8056439817301779,-0.5418598600805034,1.209937255490412,-0.7328041848249424,0.6012046670680862,-0.3092927942473584,-0.542900428607721,-0.8300973421197927,-0.8196916568476161,-0.5881651595416889,-0.8139685299479191,0.26822273835843785,1.126691773313,-0.6625658092377509,-0.45341153526700306,0.013283449190113374,-0.2312501547060346,1.4856879152030895,0.6480302507928805,0.9914178647747053,-0.4757837586021826,0.9706064942303522,-0.3993019718516852,0.15376020036449625,-0.7629806721142542,-0.8020019918849162,3.020526492849125,-0.7468518599423807,-0.6849380325729304,0.06010903291490766,-0.04394781980685743,-0.7681835147503425,-0.8555912710366251,0.6480302507928805,0.2057886267253788,3.8789955278036867,-0.2988871089751819,-0.8196916568476161,-0.8384218903375339,0.2057886267253788,-0.3457126926999762,-0.7947180121943925,0.5803932965237332,-0.7192767939711129,-0.06475919035121044,-0.7182362254438952,-0.6885800224181922,-0.4908720022468385,-0.1636132004368873,-0.5569481037251593,-0.8442490740899528,-0.6984654234267599,-0.4518506824761766,-0.7884746010310867,1.475282229930913,0.7885070019672633,-0.8496600304314845,-0.6240647737306978,2.3493597927937397,1.4648765446587364,-0.6693295046646657,-0.09077340353165173,-0.5127239413184091,-0.37380804293485276,-0.6006519818683007,0.24220852517799657,0.5231620275267623,5.611542125621075,0.03409481973446639,0.3098454794471439,-0.8217727939020515,-0.6110576671404772,1.4700793872948246,-0.778589200022519,-0.2312501547060346,0.169368728272761,-0.8285364893289662,2.859238371130389,0.41910517480499726,0.6012046670680862,-0.799400570566872,-0.2676700531586524,0.6896529918815865,0.7989126872394399,-0.4466478398400883,-0.37588917998928806,-0.7166753726530688,-0.15320751516471076,1.3400083213926184,1.9955664935397386,-0.7822311898677807,-0.7832717583949984,-0.18962741361732854,-0.7957585807216102,-0.829056773592575,-0.6329096062120478,-0.35091553533606445,0.044500505006642904,-0.37484861146207044,-0.8118873928934838,-0.4851488753471414,2.104826188897592,0.9914178647747053,1.6781930927383548,-0.0023250787181513903,-0.6714106417191009,-0.7385273117246394,-0.03354213453468092,-0.6584035351288803,-0.6589238193924891,-0.7213579310255481],\"z\":[1.2915323778422956,-0.5389488973136866,-0.27283273367008587,2.007807659425071,-0.6956341151599187,-0.5911773032624306,-0.5016428930645837,-0.8324227974066294,-0.8448581321563303,0.02312823337279717,-0.6085867719120119,-0.7379142533089019,0.27680906226669677,-0.5986385041122512,-0.815013328757048,-0.8398839982564499,-0.4842334244150023,1.8088423034298555,0.11017557662070393,0.20717118766837142,-0.7801943914578853,0.3539081377148428,-0.45936275491560036,-0.6906599812600384,-0.6831987804102178,1.9331956509268653,1.376092654140262,0.1524557147696871,1.7342302949316497,-0.8125262618071077,-0.2927292692696074,2.753927744407129,2.778798413906531,-0.7354271863589619,-0.5613324998631483,-0.48920755831488266,1.2417910388434918,1.9331956509268653,0.6374337700080248,-0.698121182109859,1.8088423034298555,-0.815013328757048,-0.8622676008059116,-0.867241734705792,-0.8498322660562107,-0.0962509802243322,-0.3275482065687701,-0.22806552857116236,-0.47428515661524157,1.8088423034298555,0.4210589453632281,-0.8398839982564499,-0.352418876068172,-0.8771900025055528,-0.8473451991062704,0.6324596361081445,1.0453127497982164,-0.5414359642636267,-0.8473451991062704,0.9060370006015658,-0.8548063999560911,-0.5886902363124904,-0.07138031072493027,1.7591009644310518,1.8834543119280613,-0.016664837826245955,4.221297244871843,-0.802577994007347,-0.8871382703053136,0.5105933555610749,-0.12360871667367436,-0.4717980896653013,-0.034074306475827376,-0.8473451991062704,-0.8373969313065097,-0.8523193330061509,-0.5016428930645837,-0.8722158686056724,-0.42703088456637783,-0.41708261676661706,0.5951536318590416,0.6075889666087425,-0.6831987804102178,-0.2156301938214614,1.010493812499054,-0.7578107889084236,-0.6956341151599187,1.527803738086614,1.2691487752928339,-0.5389488973136866,-0.8000909270574068,-0.8821641364054332,-0.6931470482099785,0.5951536318590416,1.298993578692116,-0.7553237219584834,-0.6235091736116531,2.4554797104143056,-0.7826814584078254,1.4706011982379896,-0.5787419685127296,0.04302476897231865,-0.5240264956140454,-0.3026775370693682,-0.7826814584078254,-0.1186345827737939,1.5601356084358364,0.6498691047577259,0.44095548096274956,0.21711945546813216,-0.8398839982564499,-0.7976038601074665,2.1072903374226786,2.2813850239184923,-0.8722158686056724,-0.660815177860756,1.3387866498911591,-0.4618498218655406,-0.352418876068172,-0.44692742016589937,-0.15842765397283703,-0.802577994007347,-0.8548063999560911,-0.7279659855091413,-0.6657893117606364,-0.7030953160097393,0.6299725691582042,-0.4817463574650621,-0.5613324998631483,0.7095587115562904,-0.7627849228083039,-0.5936643702123708,3.02750510890055,-0.8821641364054332,-0.7777073245079451,-0.8722158686056724,-0.2529361980705643,0.38375294111412517,-0.8498322660562107,-0.8572934669060314,-0.673250512610457,-0.43697915236613866,0.9557783396003696,-0.352418876068172,-0.8771900025055528,-0.8398839982564499,0.35142107076490253,0.8363991260032404,-0.5812290354626699,0.6051018996588023,1.2940194447922357,-0.519052361714165,-0.519052361714165,-0.4767722235651817,0.5901794979591611,1.0627222184477978,-0.660815177860756,-0.7379142533089019,-0.8224745296068685,-0.7702461236581245,-0.6881729143100981,-0.04899670817546857,-0.22557846162122222,-0.5265135625639855,-0.3723154116676936,0.44841668181257005,1.1149506243965417],\"type\":\"scatter3d\"}],                        {\"template\":{\"data\":{\"histogram2dcontour\":[{\"type\":\"histogram2dcontour\",\"colorbar\":{\"outlinewidth\":0,\"ticks\":\"\"},\"colorscale\":[[0.0,\"#0d0887\"],[0.1111111111111111,\"#46039f\"],[0.2222222222222222,\"#7201a8\"],[0.3333333333333333,\"#9c179e\"],[0.4444444444444444,\"#bd3786\"],[0.5555555555555556,\"#d8576b\"],[0.6666666666666666,\"#ed7953\"],[0.7777777777777778,\"#fb9f3a\"],[0.8888888888888888,\"#fdca26\"],[1.0,\"#f0f921\"]]}],\"choropleth\":[{\"type\":\"choropleth\",\"colorbar\":{\"outlinewidth\":0,\"ticks\":\"\"}}],\"histogram2d\":[{\"type\":\"histogram2d\",\"colorbar\":{\"outlinewidth\":0,\"ticks\":\"\"},\"colorscale\":[[0.0,\"#0d0887\"],[0.1111111111111111,\"#46039f\"],[0.2222222222222222,\"#7201a8\"],[0.3333333333333333,\"#9c179e\"],[0.4444444444444444,\"#bd3786\"],[0.5555555555555556,\"#d8576b\"],[0.6666666666666666,\"#ed7953\"],[0.7777777777777778,\"#fb9f3a\"],[0.8888888888888888,\"#fdca26\"],[1.0,\"#f0f921\"]]}],\"heatmap\":[{\"type\":\"heatmap\",\"colorbar\":{\"outlinewidth\":0,\"ticks\":\"\"},\"colorscale\":[[0.0,\"#0d0887\"],[0.1111111111111111,\"#46039f\"],[0.2222222222222222,\"#7201a8\"],[0.3333333333333333,\"#9c179e\"],[0.4444444444444444,\"#bd3786\"],[0.5555555555555556,\"#d8576b\"],[0.6666666666666666,\"#ed7953\"],[0.7777777777777778,\"#fb9f3a\"],[0.8888888888888888,\"#fdca26\"],[1.0,\"#f0f921\"]]}],\"heatmapgl\":[{\"type\":\"heatmapgl\",\"colorbar\":{\"outlinewidth\":0,\"ticks\":\"\"},\"colorscale\":[[0.0,\"#0d0887\"],[0.1111111111111111,\"#46039f\"],[0.2222222222222222,\"#7201a8\"],[0.3333333333333333,\"#9c179e\"],[0.4444444444444444,\"#bd3786\"],[0.5555555555555556,\"#d8576b\"],[0.6666666666666666,\"#ed7953\"],[0.7777777777777778,\"#fb9f3a\"],[0.8888888888888888,\"#fdca26\"],[1.0,\"#f0f921\"]]}],\"contourcarpet\":[{\"type\":\"contourcarpet\",\"colorbar\":{\"outlinewidth\":0,\"ticks\":\"\"}}],\"contour\":[{\"type\":\"contour\",\"colorbar\":{\"outlinewidth\":0,\"ticks\":\"\"},\"colorscale\":[[0.0,\"#0d0887\"],[0.1111111111111111,\"#46039f\"],[0.2222222222222222,\"#7201a8\"],[0.3333333333333333,\"#9c179e\"],[0.4444444444444444,\"#bd3786\"],[0.5555555555555556,\"#d8576b\"],[0.6666666666666666,\"#ed7953\"],[0.7777777777777778,\"#fb9f3a\"],[0.8888888888888888,\"#fdca26\"],[1.0,\"#f0f921\"]]}],\"surface\":[{\"type\":\"surface\",\"colorbar\":{\"outlinewidth\":0,\"ticks\":\"\"},\"colorscale\":[[0.0,\"#0d0887\"],[0.1111111111111111,\"#46039f\"],[0.2222222222222222,\"#7201a8\"],[0.3333333333333333,\"#9c179e\"],[0.4444444444444444,\"#bd3786\"],[0.5555555555555556,\"#d8576b\"],[0.6666666666666666,\"#ed7953\"],[0.7777777777777778,\"#fb9f3a\"],[0.8888888888888888,\"#fdca26\"],[1.0,\"#f0f921\"]]}],\"mesh3d\":[{\"type\":\"mesh3d\",\"colorbar\":{\"outlinewidth\":0,\"ticks\":\"\"}}],\"scatter\":[{\"fillpattern\":{\"fillmode\":\"overlay\",\"size\":10,\"solidity\":0.2},\"type\":\"scatter\"}],\"parcoords\":[{\"type\":\"parcoords\",\"line\":{\"colorbar\":{\"outlinewidth\":0,\"ticks\":\"\"}}}],\"scatterpolargl\":[{\"type\":\"scatterpolargl\",\"marker\":{\"colorbar\":{\"outlinewidth\":0,\"ticks\":\"\"}}}],\"bar\":[{\"error_x\":{\"color\":\"#2a3f5f\"},\"error_y\":{\"color\":\"#2a3f5f\"},\"marker\":{\"line\":{\"color\":\"#E5ECF6\",\"width\":0.5},\"pattern\":{\"fillmode\":\"overlay\",\"size\":10,\"solidity\":0.2}},\"type\":\"bar\"}],\"scattergeo\":[{\"type\":\"scattergeo\",\"marker\":{\"colorbar\":{\"outlinewidth\":0,\"ticks\":\"\"}}}],\"scatterpolar\":[{\"type\":\"scatterpolar\",\"marker\":{\"colorbar\":{\"outlinewidth\":0,\"ticks\":\"\"}}}],\"histogram\":[{\"marker\":{\"pattern\":{\"fillmode\":\"overlay\",\"size\":10,\"solidity\":0.2}},\"type\":\"histogram\"}],\"scattergl\":[{\"type\":\"scattergl\",\"marker\":{\"colorbar\":{\"outlinewidth\":0,\"ticks\":\"\"}}}],\"scatter3d\":[{\"type\":\"scatter3d\",\"line\":{\"colorbar\":{\"outlinewidth\":0,\"ticks\":\"\"}},\"marker\":{\"colorbar\":{\"outlinewidth\":0,\"ticks\":\"\"}}}],\"scattermapbox\":[{\"type\":\"scattermapbox\",\"marker\":{\"colorbar\":{\"outlinewidth\":0,\"ticks\":\"\"}}}],\"scatterternary\":[{\"type\":\"scatterternary\",\"marker\":{\"colorbar\":{\"outlinewidth\":0,\"ticks\":\"\"}}}],\"scattercarpet\":[{\"type\":\"scattercarpet\",\"marker\":{\"colorbar\":{\"outlinewidth\":0,\"ticks\":\"\"}}}],\"carpet\":[{\"aaxis\":{\"endlinecolor\":\"#2a3f5f\",\"gridcolor\":\"white\",\"linecolor\":\"white\",\"minorgridcolor\":\"white\",\"startlinecolor\":\"#2a3f5f\"},\"baxis\":{\"endlinecolor\":\"#2a3f5f\",\"gridcolor\":\"white\",\"linecolor\":\"white\",\"minorgridcolor\":\"white\",\"startlinecolor\":\"#2a3f5f\"},\"type\":\"carpet\"}],\"table\":[{\"cells\":{\"fill\":{\"color\":\"#EBF0F8\"},\"line\":{\"color\":\"white\"}},\"header\":{\"fill\":{\"color\":\"#C8D4E3\"},\"line\":{\"color\":\"white\"}},\"type\":\"table\"}],\"barpolar\":[{\"marker\":{\"line\":{\"color\":\"#E5ECF6\",\"width\":0.5},\"pattern\":{\"fillmode\":\"overlay\",\"size\":10,\"solidity\":0.2}},\"type\":\"barpolar\"}],\"pie\":[{\"automargin\":true,\"type\":\"pie\"}]},\"layout\":{\"autotypenumbers\":\"strict\",\"colorway\":[\"#636efa\",\"#EF553B\",\"#00cc96\",\"#ab63fa\",\"#FFA15A\",\"#19d3f3\",\"#FF6692\",\"#B6E880\",\"#FF97FF\",\"#FECB52\"],\"font\":{\"color\":\"#2a3f5f\"},\"hovermode\":\"closest\",\"hoverlabel\":{\"align\":\"left\"},\"paper_bgcolor\":\"white\",\"plot_bgcolor\":\"#E5ECF6\",\"polar\":{\"bgcolor\":\"#E5ECF6\",\"angularaxis\":{\"gridcolor\":\"white\",\"linecolor\":\"white\",\"ticks\":\"\"},\"radialaxis\":{\"gridcolor\":\"white\",\"linecolor\":\"white\",\"ticks\":\"\"}},\"ternary\":{\"bgcolor\":\"#E5ECF6\",\"aaxis\":{\"gridcolor\":\"white\",\"linecolor\":\"white\",\"ticks\":\"\"},\"baxis\":{\"gridcolor\":\"white\",\"linecolor\":\"white\",\"ticks\":\"\"},\"caxis\":{\"gridcolor\":\"white\",\"linecolor\":\"white\",\"ticks\":\"\"}},\"coloraxis\":{\"colorbar\":{\"outlinewidth\":0,\"ticks\":\"\"}},\"colorscale\":{\"sequential\":[[0.0,\"#0d0887\"],[0.1111111111111111,\"#46039f\"],[0.2222222222222222,\"#7201a8\"],[0.3333333333333333,\"#9c179e\"],[0.4444444444444444,\"#bd3786\"],[0.5555555555555556,\"#d8576b\"],[0.6666666666666666,\"#ed7953\"],[0.7777777777777778,\"#fb9f3a\"],[0.8888888888888888,\"#fdca26\"],[1.0,\"#f0f921\"]],\"sequentialminus\":[[0.0,\"#0d0887\"],[0.1111111111111111,\"#46039f\"],[0.2222222222222222,\"#7201a8\"],[0.3333333333333333,\"#9c179e\"],[0.4444444444444444,\"#bd3786\"],[0.5555555555555556,\"#d8576b\"],[0.6666666666666666,\"#ed7953\"],[0.7777777777777778,\"#fb9f3a\"],[0.8888888888888888,\"#fdca26\"],[1.0,\"#f0f921\"]],\"diverging\":[[0,\"#8e0152\"],[0.1,\"#c51b7d\"],[0.2,\"#de77ae\"],[0.3,\"#f1b6da\"],[0.4,\"#fde0ef\"],[0.5,\"#f7f7f7\"],[0.6,\"#e6f5d0\"],[0.7,\"#b8e186\"],[0.8,\"#7fbc41\"],[0.9,\"#4d9221\"],[1,\"#276419\"]]},\"xaxis\":{\"gridcolor\":\"white\",\"linecolor\":\"white\",\"ticks\":\"\",\"title\":{\"standoff\":15},\"zerolinecolor\":\"white\",\"automargin\":true,\"zerolinewidth\":2},\"yaxis\":{\"gridcolor\":\"white\",\"linecolor\":\"white\",\"ticks\":\"\",\"title\":{\"standoff\":15},\"zerolinecolor\":\"white\",\"automargin\":true,\"zerolinewidth\":2},\"scene\":{\"xaxis\":{\"backgroundcolor\":\"#E5ECF6\",\"gridcolor\":\"white\",\"linecolor\":\"white\",\"showbackground\":true,\"ticks\":\"\",\"zerolinecolor\":\"white\",\"gridwidth\":2},\"yaxis\":{\"backgroundcolor\":\"#E5ECF6\",\"gridcolor\":\"white\",\"linecolor\":\"white\",\"showbackground\":true,\"ticks\":\"\",\"zerolinecolor\":\"white\",\"gridwidth\":2},\"zaxis\":{\"backgroundcolor\":\"#E5ECF6\",\"gridcolor\":\"white\",\"linecolor\":\"white\",\"showbackground\":true,\"ticks\":\"\",\"zerolinecolor\":\"white\",\"gridwidth\":2}},\"shapedefaults\":{\"line\":{\"color\":\"#2a3f5f\"}},\"annotationdefaults\":{\"arrowcolor\":\"#2a3f5f\",\"arrowhead\":0,\"arrowwidth\":1},\"geo\":{\"bgcolor\":\"white\",\"landcolor\":\"#E5ECF6\",\"subunitcolor\":\"white\",\"showland\":true,\"showlakes\":true,\"lakecolor\":\"white\"},\"title\":{\"x\":0.05},\"mapbox\":{\"style\":\"light\"}}},\"scene\":{\"domain\":{\"x\":[0.0,1.0],\"y\":[0.0,1.0]},\"xaxis\":{\"title\":{\"text\":\"GDP Per Capita\"}},\"yaxis\":{\"title\":{\"text\":\"Income\"}},\"zaxis\":{\"title\":{\"text\":\"Child Mortality\"}}},\"coloraxis\":{\"colorbar\":{\"title\":{\"text\":\"Cluster\"}},\"colorscale\":[[0.0,\"#0d0887\"],[0.1111111111111111,\"#46039f\"],[0.2222222222222222,\"#7201a8\"],[0.3333333333333333,\"#9c179e\"],[0.4444444444444444,\"#bd3786\"],[0.5555555555555556,\"#d8576b\"],[0.6666666666666666,\"#ed7953\"],[0.7777777777777778,\"#fb9f3a\"],[0.8888888888888888,\"#fdca26\"],[1.0,\"#f0f921\"]]},\"legend\":{\"tracegroupgap\":0},\"margin\":{\"t\":60},\"height\":600,\"width\":800,\"title\":{\"text\":\"Clustering Results - 3D Scatter\"}},                        {\"responsive\": true}                    ).then(function(){\n",
              "                            \n",
              "var gd = document.getElementById('68beabfa-58fc-4cd8-b071-ff831ad63813');\n",
              "var x = new MutationObserver(function (mutations, observer) {{\n",
              "        var display = window.getComputedStyle(gd).display;\n",
              "        if (!display || display === 'none') {{\n",
              "            console.log([gd, 'removed!']);\n",
              "            Plotly.purge(gd);\n",
              "            observer.disconnect();\n",
              "        }}\n",
              "}});\n",
              "\n",
              "// Listen for the removal of the full notebook cells\n",
              "var notebookContainer = gd.closest('#notebook-container');\n",
              "if (notebookContainer) {{\n",
              "    x.observe(notebookContainer, {childList: true});\n",
              "}}\n",
              "\n",
              "// Listen for the clearing of the current output cell\n",
              "var outputEl = gd.closest('.output');\n",
              "if (outputEl) {{\n",
              "    x.observe(outputEl, {childList: true});\n",
              "}}\n",
              "\n",
              "                        })                };                            </script>        </div>\n",
              "</body>\n",
              "</html>"
            ]
          },
          "metadata": {}
        }
      ]
    },
    {
      "cell_type": "markdown",
      "source": [
        "Dari hasil visualisasi clustering pada grafik 2D dan 3D, kita dapat melakukan analisis cluster sebagai berikut:\n",
        "\n",
        "**Cluster 0**: Negara-negara dengan GDP per capita rendah, tingkat kematian anak yang tinggi, dan pendapatan rendah.\n",
        "\n",
        "**Cluster 1**: Negara-negara dengan GDP per capita sedang, tingkat kematian anak yang sedang, dan pendapatan sedang.\n",
        "\n",
        "**Cluster 2**: Negara-negara dengan GDP per capita tinggi, tingkat kematian anak yang rendah, dan pendapatan tinggi."
      ],
      "metadata": {
        "id": "6RJL8Myk9W7K"
      }
    },
    {
      "cell_type": "markdown",
      "source": [
        "#### Analisis Cluster"
      ],
      "metadata": {
        "id": "4DvzyDdNWC4g"
      }
    },
    {
      "cell_type": "code",
      "source": [
        "# Analisis Cluster\n",
        "# Menambahkan kolom Cluster ke dalam DataFrame\n",
        "df['Cluster'] = kmeans.labels_\n",
        "\n",
        "# Mencari nilai rata-rata pada setiap variabel dalam setiap cluster\n",
        "cluster_avg = df.groupby(['Cluster']).mean()\n",
        "\n",
        "# Mencari total jumlah negara dalam setiap cluster\n",
        "cluster_counts = df['Cluster'].value_counts().sort_index()\n",
        "\n",
        "# Menampilkan hasil analisis cluster\n",
        "print('Cluster Analysis:')\n",
        "print('------------------')\n",
        "print(cluster_counts)\n",
        "print(cluster_avg)"
      ],
      "metadata": {
        "colab": {
          "base_uri": "https://localhost:8080/"
        },
        "id": "J5G2hCGT5SIk",
        "outputId": "45f6ae8b-9d95-4978-dd11-e1c297733dfc"
      },
      "execution_count": 692,
      "outputs": [
        {
          "output_type": "stream",
          "name": "stdout",
          "text": [
            "Cluster Analysis:\n",
            "------------------\n",
            "0    136\n",
            "1     27\n",
            "2      4\n",
            "Name: Cluster, dtype: int64\n",
            "         child_mort   exports      health   imports    income  inflation  \\\n",
            "Cluster                                                                    \n",
            "0          0.187695 -0.115991   66.794118 -0.004449 -0.365391   0.111346   \n",
            "1         -0.822382  0.344973  107.592593 -0.069719  1.328061  -0.510739   \n",
            "2         -0.830557  1.615123   90.000000  0.621858  3.458866  -0.338275   \n",
            "\n",
            "         life_expec  total_fer           gdp  \n",
            "Cluster                                       \n",
            "0         -0.250425   0.172980   5367.750000  \n",
            "1          1.086889  -0.757890  40640.740741  \n",
            "2          1.177951  -0.765559  84425.000000  \n"
          ]
        }
      ]
    },
    {
      "cell_type": "code",
      "source": [
        "import seaborn as sns\n",
        "\n",
        "# Membuat kolom Cluster sebagai string\n",
        "df['Cluster'] = df['Cluster'].astype(str)\n",
        "\n",
        "# Distribusi fitur-fitur pada setiap cluster\n",
        "plt.figure(figsize=(5, 3))\n",
        "sns.histplot(data=df, x='gdp', hue='Cluster', multiple='stack', kde=True)\n",
        "plt.xlabel('GDP Per Capita')\n",
        "plt.title('Distribution of GDP Per Capita by Cluster')\n",
        "plt.show()\n",
        "\n",
        "sns.histplot(data=df, x='income', hue='Cluster', multiple='stack', kde=True)\n",
        "plt.xlabel('Income')\n",
        "plt.title('Distribution of Income by Cluster')\n",
        "plt.show()\n",
        "\n",
        "sns.histplot(data=df, x='child_mort', hue='Cluster', multiple='stack', kde=True)\n",
        "plt.xlabel('Child Mortality')\n",
        "plt.title('Distribution of Child Mortality by Cluster')\n",
        "plt.show()\n",
        "\n",
        "# Boxplot untuk melihat distribusi setiap fitur pada setiap cluster\n",
        "sns.boxplot(data=df, x='Cluster', y='gdp')\n",
        "plt.xlabel('Cluster')\n",
        "plt.ylabel('GDP Per Capita')\n",
        "plt.title('Distribution of GDP Per Capita by Cluster')\n",
        "plt.show()\n",
        "\n",
        "sns.boxplot(data=df, x='Cluster', y='income')\n",
        "plt.xlabel('Cluster')\n",
        "plt.ylabel('Income')\n",
        "plt.title('Distribution of Income by Cluster')\n",
        "plt.show()\n",
        "\n",
        "sns.boxplot(data=df, x='Cluster', y='child_mort')\n",
        "plt.xlabel('Cluster')\n",
        "plt.ylabel('Child Mortality')\n",
        "plt.title('Distribution of Child Mortality by Cluster')\n",
        "plt.show()\n"
      ],
      "metadata": {
        "colab": {
          "base_uri": "https://localhost:8080/",
          "height": 1000
        },
        "id": "0RRRI0K27o-1",
        "outputId": "ae07343b-deb0-4414-928f-14bfc4f35eb2"
      },
      "execution_count": 693,
      "outputs": [
        {
          "output_type": "display_data",
          "data": {
            "text/plain": [
              "<Figure size 500x300 with 1 Axes>"
            ],
            "image/png": "[encoded data removed]"
          },
          "metadata": {}
        },
        {
          "output_type": "display_data",
          "data": {
            "text/plain": [
              "<Figure size 640x480 with 1 Axes>"
            ],
            "image/png": "[encoded data removed]"
          },
          "metadata": {}
        },
        {
          "output_type": "display_data",
          "data": {
            "text/plain": [
              "<Figure size 640x480 with 1 Axes>"
            ],
            "image/png": "[encoded data removed]"
          },
          "metadata": {}
        },
        {
          "output_type": "display_data",
          "data": {
            "text/plain": [
              "<Figure size 640x480 with 1 Axes>"
            ],
            "image/png": "[encoded data removed]"
          },
          "metadata": {}
        },
        {
          "output_type": "display_data",
          "data": {
            "text/plain": [
              "<Figure size 640x480 with 1 Axes>"
            ],
            "image/png": "[encoded data removed]"
          },
          "metadata": {}
        },
        {
          "output_type": "display_data",
          "data": {
            "text/plain": [
              "<Figure size 640x480 with 1 Axes>"
            ],
            "image/png": "[encoded data removed]"
          },
          "metadata": {}
        }
      ]
    },
    {
      "cell_type": "markdown",
      "source": [
        "Berdasarkan karakteristik tersebut, kita dapat membuat beberapa rekomendasi atau kesimpulan:\n",
        "\n",
        "**Cluster 0** merupakan kelompok negara yang membutuhkan bantuan terbanyak dalam hal peningkatan kesejahteraan masyarakatnya, terutama untuk meningkatkan akses terhadap fasilitas kesehatan dan pendidikan. Mereka juga membutuhkan bantuan untuk meningkatkan pendapatan dan memperbaiki infrastruktur ekonomi.\n",
        "\n",
        "**Cluster 1** merupakan kelompok negara yang membutuhkan bantuan untuk meningkatkan kesejahteraan masyarakatnya. Mereka perlu fokus pada meningkatkan akses terhadap fasilitas kesehatan dan pendidikan, serta memperbaiki infrastruktur ekonomi agar dapat meningkatkan pendapatan.\n",
        "\n",
        "**Cluster 2** merupakan kelompok negara yang sudah cukup maju dalam hal perekonomian dan kesejahteraan masyarakatnya. Mereka bisa menjadi contoh bagi negara-negara lain dalam hal pengembangan perekonomian dan kesejahteraan masyarakat."
      ],
      "metadata": {
        "id": "KJpspD4d9nPm"
      }
    },
    {
      "cell_type": "markdown",
      "source": [
        "## Evaluation"
      ],
      "metadata": {
        "id": "riW1cbemD7As"
      }
    },
    {
      "cell_type": "code",
      "source": [
        "# Evaluasi kualitas clustering menggunakan Silhouette score\n",
        "from sklearn.metrics import silhouette_score\n",
        "silhouette_avg = silhouette_score(df, kmeans.labels_)\n",
        "print(\"Silhouette Score:\", silhouette_avg)\n",
        "\n",
        "# Evaluasi kualitas clustering menggunakan Calinski-Harabasz score\n",
        "from sklearn.metrics import calinski_harabasz_score\n",
        "ch_score = calinski_harabasz_score(df, kmeans.labels_)\n",
        "print(\"Calinski-Harabasz Score:\", ch_score)\n",
        "\n",
        "# Evaluasi kualitas clustering menggunakan Davies-Bouldin score\n",
        "from sklearn.metrics import davies_bouldin_score\n",
        "db_score = davies_bouldin_score(df, kmeans.labels_)\n",
        "print(\"Davies-Bouldin Score:\", db_score)"
      ],
      "metadata": {
        "colab": {
          "base_uri": "https://localhost:8080/"
        },
        "id": "mqwtMET_4kjY",
        "outputId": "f1006adf-e896-4fb5-b4d3-095ec02ea263"
      },
      "execution_count": 694,
      "outputs": [
        {
          "output_type": "stream",
          "name": "stdout",
          "text": [
            "Silhouette Score: 0.7824050756628501\n",
            "Calinski-Harabasz Score: 589.4740403742363\n",
            "Davies-Bouldin Score: 0.40570784510676966\n"
          ]
        }
      ]
    },
    {
      "cell_type": "markdown",
      "source": [
        "Berdasarkan hasil clustering pada dataset tersebut, dapat disimpulkan bahwa pengelompokan (clustering) yang diperoleh memiliki kualitas yang baik. Hal ini dapat dilihat dari skor Silhouette yang tinggi sebesar 0.782, yang menunjukkan bahwa setiap data point dalam cluster relatif lebih dekat satu sama lain dibandingkan dengan data point dari cluster lainnya. Selain itu, skor Calinski-Harabasz yang tinggi sebesar 589.47 juga menunjukkan bahwa variasi antar cluster lebih besar daripada variasi dalam cluster, sehingga cluster-cluster yang terbentuk cukup berbeda satu sama lain. Terakhir, skor Davies-Bouldin yang rendah sebesar 0.406 juga mengindikasikan bahwa cluster-cluster yang terbentuk relatif homogen di dalam cluster dan heterogen antar cluster. Oleh karena itu, dapat disimpulkan bahwa clustering pada dataset tersebut berhasil dengan baik."
      ],
      "metadata": {
        "id": "LW-vhoxlFljk"
      }
    },
    {
      "cell_type": "markdown",
      "source": [
        "## Deployment"
      ],
      "metadata": {
        "id": "9_TEh6YKODlD"
      }
    },
    {
      "cell_type": "code",
      "source": [
        "df.iloc[:-1:].to_csv('Good-Unsupervised.csv', index=False)\n",
        "df2.iloc[:-1:].to_csv('Unsupervised.csv', index=False)"
      ],
      "metadata": {
        "id": "exQBVjaLOJ2X"
      },
      "execution_count": 695,
      "outputs": []
    }
  ]
}